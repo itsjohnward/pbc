{
  "nbformat": 4,
  "nbformat_minor": 0,
  "metadata": {
    "kernelspec": {
      "display_name": "Python 3",
      "language": "python",
      "name": "python3"
    },
    "language_info": {
      "codemirror_mode": {
        "name": "ipython",
        "version": 3
      },
      "file_extension": ".py",
      "mimetype": "text/x-python",
      "name": "python",
      "nbconvert_exporter": "python",
      "pygments_lexer": "ipython3",
      "version": "3.8.4"
    },
    "colab": {
      "name": "pbc-analysis.ipynb",
      "provenance": [],
      "toc_visible": true
    }
  },
  "cells": [
    {
      "cell_type": "code",
      "metadata": {
        "id": "4AYGir29xzyt",
        "colab_type": "code",
        "colab": {
          "base_uri": "https://localhost:8080/",
          "height": 1000
        },
        "outputId": "9525d1eb-600c-4204-deef-70c0efb1bd9d"
      },
      "source": [
        "!pip install polygon-api-client\n",
        "!pip install requests\n",
        "!pip install pandas\n",
        "!pip install tqdm\n",
        "!pip install mplfinance\n",
        "!pip install tensorflow\n",
        "!pip install numpy\n",
        "!pip install matplotlib\n",
        "!pip install scikit-learn\n",
        "!pip install fastparquet"
      ],
      "execution_count": null,
      "outputs": [
        {
          "output_type": "stream",
          "text": [
            "Requirement already satisfied: polygon-api-client in /usr/local/lib/python3.6/dist-packages (0.1.6)\n",
            "Requirement already satisfied: requests==2.22.0 in /usr/local/lib/python3.6/dist-packages (from polygon-api-client) (2.22.0)\n",
            "Requirement already satisfied: websocket-client==0.56.0 in /usr/local/lib/python3.6/dist-packages (from polygon-api-client) (0.56.0)\n",
            "Requirement already satisfied: websockets==8.0.2 in /usr/local/lib/python3.6/dist-packages (from polygon-api-client) (8.0.2)\n",
            "Requirement already satisfied: idna<2.9,>=2.5 in /usr/local/lib/python3.6/dist-packages (from requests==2.22.0->polygon-api-client) (2.8)\n",
            "Requirement already satisfied: chardet<3.1.0,>=3.0.2 in /usr/local/lib/python3.6/dist-packages (from requests==2.22.0->polygon-api-client) (3.0.4)\n",
            "Requirement already satisfied: certifi>=2017.4.17 in /usr/local/lib/python3.6/dist-packages (from requests==2.22.0->polygon-api-client) (2020.6.20)\n",
            "Requirement already satisfied: urllib3!=1.25.0,!=1.25.1,<1.26,>=1.21.1 in /usr/local/lib/python3.6/dist-packages (from requests==2.22.0->polygon-api-client) (1.24.3)\n",
            "Requirement already satisfied: six in /usr/local/lib/python3.6/dist-packages (from websocket-client==0.56.0->polygon-api-client) (1.15.0)\n",
            "Requirement already satisfied: requests in /usr/local/lib/python3.6/dist-packages (2.22.0)\n",
            "Requirement already satisfied: urllib3!=1.25.0,!=1.25.1,<1.26,>=1.21.1 in /usr/local/lib/python3.6/dist-packages (from requests) (1.24.3)\n",
            "Requirement already satisfied: chardet<3.1.0,>=3.0.2 in /usr/local/lib/python3.6/dist-packages (from requests) (3.0.4)\n",
            "Requirement already satisfied: idna<2.9,>=2.5 in /usr/local/lib/python3.6/dist-packages (from requests) (2.8)\n",
            "Requirement already satisfied: certifi>=2017.4.17 in /usr/local/lib/python3.6/dist-packages (from requests) (2020.6.20)\n",
            "Requirement already satisfied: pandas in /usr/local/lib/python3.6/dist-packages (1.0.5)\n",
            "Requirement already satisfied: pytz>=2017.2 in /usr/local/lib/python3.6/dist-packages (from pandas) (2018.9)\n",
            "Requirement already satisfied: python-dateutil>=2.6.1 in /usr/local/lib/python3.6/dist-packages (from pandas) (2.8.1)\n",
            "Requirement already satisfied: numpy>=1.13.3 in /usr/local/lib/python3.6/dist-packages (from pandas) (1.18.5)\n",
            "Requirement already satisfied: six>=1.5 in /usr/local/lib/python3.6/dist-packages (from python-dateutil>=2.6.1->pandas) (1.15.0)\n",
            "Requirement already satisfied: tqdm in /usr/local/lib/python3.6/dist-packages (4.41.1)\n",
            "Collecting mplfinance\n",
            "\u001b[?25l  Downloading https://files.pythonhosted.org/packages/c9/2f/621c146add4ebd418f6281604a0e890d6c8f36ee657c9ae332a3ce504141/mplfinance-0.12.6a3-py3-none-any.whl (51kB)\n",
            "\u001b[K     |████████████████████████████████| 51kB 1.6MB/s \n",
            "\u001b[?25hRequirement already satisfied: matplotlib in /usr/local/lib/python3.6/dist-packages (from mplfinance) (3.2.2)\n",
            "Requirement already satisfied: pandas in /usr/local/lib/python3.6/dist-packages (from mplfinance) (1.0.5)\n",
            "Requirement already satisfied: numpy>=1.11 in /usr/local/lib/python3.6/dist-packages (from matplotlib->mplfinance) (1.18.5)\n",
            "Requirement already satisfied: pyparsing!=2.0.4,!=2.1.2,!=2.1.6,>=2.0.1 in /usr/local/lib/python3.6/dist-packages (from matplotlib->mplfinance) (2.4.7)\n",
            "Requirement already satisfied: python-dateutil>=2.1 in /usr/local/lib/python3.6/dist-packages (from matplotlib->mplfinance) (2.8.1)\n",
            "Requirement already satisfied: kiwisolver>=1.0.1 in /usr/local/lib/python3.6/dist-packages (from matplotlib->mplfinance) (1.2.0)\n",
            "Requirement already satisfied: cycler>=0.10 in /usr/local/lib/python3.6/dist-packages (from matplotlib->mplfinance) (0.10.0)\n",
            "Requirement already satisfied: pytz>=2017.2 in /usr/local/lib/python3.6/dist-packages (from pandas->mplfinance) (2018.9)\n",
            "Requirement already satisfied: six>=1.5 in /usr/local/lib/python3.6/dist-packages (from python-dateutil>=2.1->matplotlib->mplfinance) (1.15.0)\n",
            "Installing collected packages: mplfinance\n",
            "Successfully installed mplfinance-0.12.6a3\n",
            "Requirement already satisfied: tensorflow in /usr/local/lib/python3.6/dist-packages (2.2.0)\n",
            "Requirement already satisfied: six>=1.12.0 in /usr/local/lib/python3.6/dist-packages (from tensorflow) (1.15.0)\n",
            "Requirement already satisfied: h5py<2.11.0,>=2.10.0 in /usr/local/lib/python3.6/dist-packages (from tensorflow) (2.10.0)\n",
            "Requirement already satisfied: termcolor>=1.1.0 in /usr/local/lib/python3.6/dist-packages (from tensorflow) (1.1.0)\n",
            "Requirement already satisfied: grpcio>=1.8.6 in /usr/local/lib/python3.6/dist-packages (from tensorflow) (1.30.0)\n",
            "Requirement already satisfied: astunparse==1.6.3 in /usr/local/lib/python3.6/dist-packages (from tensorflow) (1.6.3)\n",
            "Requirement already satisfied: google-pasta>=0.1.8 in /usr/local/lib/python3.6/dist-packages (from tensorflow) (0.2.0)\n",
            "Requirement already satisfied: scipy==1.4.1; python_version >= \"3\" in /usr/local/lib/python3.6/dist-packages (from tensorflow) (1.4.1)\n",
            "Requirement already satisfied: tensorboard<2.3.0,>=2.2.0 in /usr/local/lib/python3.6/dist-packages (from tensorflow) (2.2.2)\n",
            "Requirement already satisfied: keras-preprocessing>=1.1.0 in /usr/local/lib/python3.6/dist-packages (from tensorflow) (1.1.2)\n",
            "Requirement already satisfied: tensorflow-estimator<2.3.0,>=2.2.0 in /usr/local/lib/python3.6/dist-packages (from tensorflow) (2.2.0)\n",
            "Requirement already satisfied: gast==0.3.3 in /usr/local/lib/python3.6/dist-packages (from tensorflow) (0.3.3)\n",
            "Requirement already satisfied: protobuf>=3.8.0 in /usr/local/lib/python3.6/dist-packages (from tensorflow) (3.12.2)\n",
            "Requirement already satisfied: numpy<2.0,>=1.16.0 in /usr/local/lib/python3.6/dist-packages (from tensorflow) (1.18.5)\n",
            "Requirement already satisfied: wheel>=0.26; python_version >= \"3\" in /usr/local/lib/python3.6/dist-packages (from tensorflow) (0.34.2)\n",
            "Requirement already satisfied: wrapt>=1.11.1 in /usr/local/lib/python3.6/dist-packages (from tensorflow) (1.12.1)\n",
            "Requirement already satisfied: opt-einsum>=2.3.2 in /usr/local/lib/python3.6/dist-packages (from tensorflow) (3.3.0)\n",
            "Requirement already satisfied: absl-py>=0.7.0 in /usr/local/lib/python3.6/dist-packages (from tensorflow) (0.9.0)\n",
            "Requirement already satisfied: requests<3,>=2.21.0 in /usr/local/lib/python3.6/dist-packages (from tensorboard<2.3.0,>=2.2.0->tensorflow) (2.22.0)\n",
            "Requirement already satisfied: markdown>=2.6.8 in /usr/local/lib/python3.6/dist-packages (from tensorboard<2.3.0,>=2.2.0->tensorflow) (3.2.2)\n",
            "Requirement already satisfied: setuptools>=41.0.0 in /usr/local/lib/python3.6/dist-packages (from tensorboard<2.3.0,>=2.2.0->tensorflow) (49.2.0)\n",
            "Requirement already satisfied: google-auth-oauthlib<0.5,>=0.4.1 in /usr/local/lib/python3.6/dist-packages (from tensorboard<2.3.0,>=2.2.0->tensorflow) (0.4.1)\n",
            "Requirement already satisfied: tensorboard-plugin-wit>=1.6.0 in /usr/local/lib/python3.6/dist-packages (from tensorboard<2.3.0,>=2.2.0->tensorflow) (1.7.0)\n",
            "Requirement already satisfied: werkzeug>=0.11.15 in /usr/local/lib/python3.6/dist-packages (from tensorboard<2.3.0,>=2.2.0->tensorflow) (1.0.1)\n",
            "Requirement already satisfied: google-auth<2,>=1.6.3 in /usr/local/lib/python3.6/dist-packages (from tensorboard<2.3.0,>=2.2.0->tensorflow) (1.17.2)\n",
            "Requirement already satisfied: idna<2.9,>=2.5 in /usr/local/lib/python3.6/dist-packages (from requests<3,>=2.21.0->tensorboard<2.3.0,>=2.2.0->tensorflow) (2.8)\n",
            "Requirement already satisfied: urllib3!=1.25.0,!=1.25.1,<1.26,>=1.21.1 in /usr/local/lib/python3.6/dist-packages (from requests<3,>=2.21.0->tensorboard<2.3.0,>=2.2.0->tensorflow) (1.24.3)\n",
            "Requirement already satisfied: chardet<3.1.0,>=3.0.2 in /usr/local/lib/python3.6/dist-packages (from requests<3,>=2.21.0->tensorboard<2.3.0,>=2.2.0->tensorflow) (3.0.4)\n",
            "Requirement already satisfied: certifi>=2017.4.17 in /usr/local/lib/python3.6/dist-packages (from requests<3,>=2.21.0->tensorboard<2.3.0,>=2.2.0->tensorflow) (2020.6.20)\n",
            "Requirement already satisfied: importlib-metadata; python_version < \"3.8\" in /usr/local/lib/python3.6/dist-packages (from markdown>=2.6.8->tensorboard<2.3.0,>=2.2.0->tensorflow) (1.7.0)\n",
            "Requirement already satisfied: requests-oauthlib>=0.7.0 in /usr/local/lib/python3.6/dist-packages (from google-auth-oauthlib<0.5,>=0.4.1->tensorboard<2.3.0,>=2.2.0->tensorflow) (1.3.0)\n",
            "Requirement already satisfied: cachetools<5.0,>=2.0.0 in /usr/local/lib/python3.6/dist-packages (from google-auth<2,>=1.6.3->tensorboard<2.3.0,>=2.2.0->tensorflow) (4.1.1)\n",
            "Requirement already satisfied: rsa<5,>=3.1.4; python_version >= \"3\" in /usr/local/lib/python3.6/dist-packages (from google-auth<2,>=1.6.3->tensorboard<2.3.0,>=2.2.0->tensorflow) (4.6)\n",
            "Requirement already satisfied: pyasn1-modules>=0.2.1 in /usr/local/lib/python3.6/dist-packages (from google-auth<2,>=1.6.3->tensorboard<2.3.0,>=2.2.0->tensorflow) (0.2.8)\n",
            "Requirement already satisfied: zipp>=0.5 in /usr/local/lib/python3.6/dist-packages (from importlib-metadata; python_version < \"3.8\"->markdown>=2.6.8->tensorboard<2.3.0,>=2.2.0->tensorflow) (3.1.0)\n",
            "Requirement already satisfied: oauthlib>=3.0.0 in /usr/local/lib/python3.6/dist-packages (from requests-oauthlib>=0.7.0->google-auth-oauthlib<0.5,>=0.4.1->tensorboard<2.3.0,>=2.2.0->tensorflow) (3.1.0)\n",
            "Requirement already satisfied: pyasn1>=0.1.3 in /usr/local/lib/python3.6/dist-packages (from rsa<5,>=3.1.4; python_version >= \"3\"->google-auth<2,>=1.6.3->tensorboard<2.3.0,>=2.2.0->tensorflow) (0.4.8)\n",
            "Requirement already satisfied: numpy in /usr/local/lib/python3.6/dist-packages (1.18.5)\n",
            "Requirement already satisfied: matplotlib in /usr/local/lib/python3.6/dist-packages (3.2.2)\n",
            "Requirement already satisfied: numpy>=1.11 in /usr/local/lib/python3.6/dist-packages (from matplotlib) (1.18.5)\n",
            "Requirement already satisfied: pyparsing!=2.0.4,!=2.1.2,!=2.1.6,>=2.0.1 in /usr/local/lib/python3.6/dist-packages (from matplotlib) (2.4.7)\n",
            "Requirement already satisfied: kiwisolver>=1.0.1 in /usr/local/lib/python3.6/dist-packages (from matplotlib) (1.2.0)\n",
            "Requirement already satisfied: python-dateutil>=2.1 in /usr/local/lib/python3.6/dist-packages (from matplotlib) (2.8.1)\n",
            "Requirement already satisfied: cycler>=0.10 in /usr/local/lib/python3.6/dist-packages (from matplotlib) (0.10.0)\n",
            "Requirement already satisfied: six>=1.5 in /usr/local/lib/python3.6/dist-packages (from python-dateutil>=2.1->matplotlib) (1.15.0)\n",
            "Requirement already satisfied: scikit-learn in /usr/local/lib/python3.6/dist-packages (0.22.2.post1)\n",
            "Requirement already satisfied: numpy>=1.11.0 in /usr/local/lib/python3.6/dist-packages (from scikit-learn) (1.18.5)\n",
            "Requirement already satisfied: joblib>=0.11 in /usr/local/lib/python3.6/dist-packages (from scikit-learn) (0.16.0)\n",
            "Requirement already satisfied: scipy>=0.17.0 in /usr/local/lib/python3.6/dist-packages (from scikit-learn) (1.4.1)\n",
            "Requirement already satisfied: fastparquet in /usr/local/lib/python3.6/dist-packages (0.4.1)\n",
            "Requirement already satisfied: thrift>=0.11.0 in /usr/local/lib/python3.6/dist-packages (from fastparquet) (0.13.0)\n",
            "Requirement already satisfied: six in /usr/local/lib/python3.6/dist-packages (from fastparquet) (1.15.0)\n",
            "Requirement already satisfied: numba>=0.28 in /usr/local/lib/python3.6/dist-packages (from fastparquet) (0.48.0)\n",
            "Requirement already satisfied: packaging in /usr/local/lib/python3.6/dist-packages (from fastparquet) (20.4)\n",
            "Requirement already satisfied: numpy>=1.11 in /usr/local/lib/python3.6/dist-packages (from fastparquet) (1.18.5)\n",
            "Requirement already satisfied: pandas>=0.19 in /usr/local/lib/python3.6/dist-packages (from fastparquet) (1.0.5)\n",
            "Requirement already satisfied: setuptools in /usr/local/lib/python3.6/dist-packages (from numba>=0.28->fastparquet) (49.2.0)\n",
            "Requirement already satisfied: llvmlite<0.32.0,>=0.31.0dev0 in /usr/local/lib/python3.6/dist-packages (from numba>=0.28->fastparquet) (0.31.0)\n",
            "Requirement already satisfied: pyparsing>=2.0.2 in /usr/local/lib/python3.6/dist-packages (from packaging->fastparquet) (2.4.7)\n",
            "Requirement already satisfied: pytz>=2017.2 in /usr/local/lib/python3.6/dist-packages (from pandas>=0.19->fastparquet) (2018.9)\n",
            "Requirement already satisfied: python-dateutil>=2.6.1 in /usr/local/lib/python3.6/dist-packages (from pandas>=0.19->fastparquet) (2.8.1)\n"
          ],
          "name": "stdout"
        }
      ]
    },
    {
      "cell_type": "code",
      "metadata": {
        "id": "_QygdXGVxvRL",
        "colab_type": "code",
        "colab": {}
      },
      "source": [
        "import os\n",
        "import calendar\n",
        "from datetime import datetime, timedelta\n",
        "\n",
        "from polygon import RESTClient\n",
        "import requests\n",
        "import pandas as pd\n",
        "from tqdm.notebook import tqdm\n",
        "import mplfinance as mpf"
      ],
      "execution_count": null,
      "outputs": []
    },
    {
      "cell_type": "code",
      "metadata": {
        "id": "dyKWgdQufx-V",
        "colab_type": "code",
        "colab": {
          "base_uri": "https://localhost:8080/",
          "height": 127
        },
        "outputId": "1acf46bb-5d78-4050-ff2c-4576662d5f6b"
      },
      "source": [
        "from google.colab import drive\n",
        "drive.mount('/content/drive')"
      ],
      "execution_count": null,
      "outputs": [
        {
          "output_type": "stream",
          "text": [
            "Go to this URL in a browser: https://accounts.google.com/o/oauth2/auth?client_id=947318989803-6bn6qk8qdgf4n4g3pfee6491hc0brc4i.apps.googleusercontent.com&redirect_uri=urn%3aietf%3awg%3aoauth%3a2.0%3aoob&response_type=code&scope=email%20https%3a%2f%2fwww.googleapis.com%2fauth%2fdocs.test%20https%3a%2f%2fwww.googleapis.com%2fauth%2fdrive%20https%3a%2f%2fwww.googleapis.com%2fauth%2fdrive.photos.readonly%20https%3a%2f%2fwww.googleapis.com%2fauth%2fpeopleapi.readonly\n",
            "\n",
            "Enter your authorization code:\n",
            "··········\n",
            "Mounted at /content/drive\n"
          ],
          "name": "stdout"
        }
      ]
    },
    {
      "cell_type": "markdown",
      "metadata": {
        "id": "fVaoV9z0xvRP",
        "colab_type": "text"
      },
      "source": [
        "# 1. Load Data"
      ]
    },
    {
      "cell_type": "code",
      "metadata": {
        "id": "yu8OCvboxvRQ",
        "colab_type": "code",
        "colab": {}
      },
      "source": [
        "def get(path, params={}):\n",
        "    session = requests.Session()\n",
        "    url = 'https://api.polygon.io' + path\n",
        "    params['apiKey'] = os.environ['POLYGON_API_KEY']\n",
        "    resp = session.request('GET', url, params=params)\n",
        "    resp.raise_for_status()\n",
        "    return resp.json()"
      ],
      "execution_count": null,
      "outputs": []
    },
    {
      "cell_type": "code",
      "metadata": {
        "id": "92NlEnR6xvRS",
        "colab_type": "code",
        "colab": {}
      },
      "source": [
        "def get_bars(from_date, to_date):\n",
        "    if isinstance(from_date, datetime):\n",
        "        from_date = datetime.strftime(from_date, '%Y-%m-%d')\n",
        "    if isinstance(to_date, datetime):\n",
        "        to_date = datetime.strftime(to_date, '%Y-%m-%d')\n",
        "    return get('/v2/aggs/ticker/{}/range/{}/{}/{}/{}'.format('SBUX',\n",
        "                                                             1,\n",
        "                                                             'minute',\n",
        "                                                             from_date,\n",
        "                                                             to_date))['results']"
      ],
      "execution_count": null,
      "outputs": []
    },
    {
      "cell_type": "code",
      "metadata": {
        "id": "W0mZwzMjxvRY",
        "colab_type": "code",
        "colab": {}
      },
      "source": [
        "class TradingDay:\n",
        "    def __init__(self, date):\n",
        "        if isinstance(date, str):\n",
        "            self.start = datetime.strptime(date, '%Y-%m-%d')\n",
        "        if isinstance(date, datetime):\n",
        "            self.start = date\n",
        "        self.end = self.start + timedelta(days=1)\n",
        "        #self.weekday = calendar.day_name[self.start.weekday()]\n",
        "        self.bars = pd.DataFrame(columns=['timestamp',\n",
        "                                          'volume',\n",
        "                                          'open',\n",
        "                                          'close',\n",
        "                                          'high',\n",
        "                                          'low',\n",
        "                                          'num_trades'])\n",
        "        for bar in get_bars(self.start, self.end):\n",
        "            self.bars = self.bars.append({\n",
        "                'timestamp': bar['t'],\n",
        "                'volume': bar['v'],\n",
        "                'open': bar['o'],\n",
        "                'close': bar['c'],\n",
        "                'high': bar['h'],\n",
        "                'low': bar['l'],\n",
        "                'num_trades': bar.get('n', 0)\n",
        "            }, ignore_index=True)\n",
        "        \n",
        "class TradingYear:\n",
        "    def __init__(self, year):\n",
        "        self.days = [\n",
        "            TradingDay(\n",
        "                datetime.strptime(\n",
        "                    '{}-2019'.format(str(day)), '%j-%Y'\n",
        "                )\n",
        "            ) for day in tqdm(range(1,366))\n",
        "        ]\n",
        "   \n",
        "    def get_bars(self):\n",
        "        return pd.concat([day.bars for day in self.days])"
      ],
      "execution_count": null,
      "outputs": []
    },
    {
      "cell_type": "code",
      "metadata": {
        "id": "Rp-soLYStTNr",
        "colab_type": "code",
        "colab": {
          "base_uri": "https://localhost:8080/",
          "height": 35
        },
        "outputId": "21f9450d-eef7-4820-e4e7-29e81ef6c7ce"
      },
      "source": [
        "!ls /content/drive"
      ],
      "execution_count": null,
      "outputs": [
        {
          "output_type": "stream",
          "text": [
            "'My Drive'\n"
          ],
          "name": "stdout"
        }
      ]
    },
    {
      "cell_type": "code",
      "metadata": {
        "id": "PQA2pzpAxvRa",
        "colab_type": "code",
        "colab": {}
      },
      "source": [
        "try:\n",
        "    year_df = pd.read_parquet('/content/drive/My Drive/pbc/2019_year_df.parquet.gzip')\n",
        "except FileNotFoundError as e:\n",
        "    year_df = TradingYear(2019).get_bars()\n",
        "    year_df.to_parquet('.data/2019_year_df.parquet.gzip',\n",
        "                       compression='gzip')"
      ],
      "execution_count": null,
      "outputs": []
    },
    {
      "cell_type": "code",
      "metadata": {
        "id": "r_QHULcHxvRd",
        "colab_type": "code",
        "colab": {}
      },
      "source": [
        "year_df['timestamp'] = pd.to_datetime(year_df['timestamp'], unit='ms')\n",
        "year_df = year_df.set_index('timestamp')"
      ],
      "execution_count": null,
      "outputs": []
    },
    {
      "cell_type": "code",
      "metadata": {
        "id": "rc63qKTSxvRf",
        "colab_type": "code",
        "colab": {
          "base_uri": "https://localhost:8080/",
          "height": 730
        },
        "outputId": "b12d1e3f-26fe-4b43-a4df-3b6db3f6a8b6"
      },
      "source": [
        "display(year_df)\n",
        "display(year_df.describe())"
      ],
      "execution_count": null,
      "outputs": [
        {
          "output_type": "display_data",
          "data": {
            "text/html": [
              "<div>\n",
              "<style scoped>\n",
              "    .dataframe tbody tr th:only-of-type {\n",
              "        vertical-align: middle;\n",
              "    }\n",
              "\n",
              "    .dataframe tbody tr th {\n",
              "        vertical-align: top;\n",
              "    }\n",
              "\n",
              "    .dataframe thead th {\n",
              "        text-align: right;\n",
              "    }\n",
              "</style>\n",
              "<table border=\"1\" class=\"dataframe\">\n",
              "  <thead>\n",
              "    <tr style=\"text-align: right;\">\n",
              "      <th></th>\n",
              "      <th>volume</th>\n",
              "      <th>open</th>\n",
              "      <th>close</th>\n",
              "      <th>high</th>\n",
              "      <th>low</th>\n",
              "      <th>num_trades</th>\n",
              "    </tr>\n",
              "    <tr>\n",
              "      <th>timestamp</th>\n",
              "      <th></th>\n",
              "      <th></th>\n",
              "      <th></th>\n",
              "      <th></th>\n",
              "      <th></th>\n",
              "      <th></th>\n",
              "    </tr>\n",
              "  </thead>\n",
              "  <tbody>\n",
              "    <tr>\n",
              "      <th>2019-01-02 12:17:00</th>\n",
              "      <td>300.0</td>\n",
              "      <td>63.67</td>\n",
              "      <td>63.68</td>\n",
              "      <td>63.68</td>\n",
              "      <td>63.67</td>\n",
              "      <td>4.0</td>\n",
              "    </tr>\n",
              "    <tr>\n",
              "      <th>2019-01-02 12:21:00</th>\n",
              "      <td>487.0</td>\n",
              "      <td>63.50</td>\n",
              "      <td>63.53</td>\n",
              "      <td>63.53</td>\n",
              "      <td>63.50</td>\n",
              "      <td>5.0</td>\n",
              "    </tr>\n",
              "    <tr>\n",
              "      <th>2019-01-02 12:22:00</th>\n",
              "      <td>1949.0</td>\n",
              "      <td>63.50</td>\n",
              "      <td>63.50</td>\n",
              "      <td>63.50</td>\n",
              "      <td>63.47</td>\n",
              "      <td>8.0</td>\n",
              "    </tr>\n",
              "    <tr>\n",
              "      <th>2019-01-02 12:31:00</th>\n",
              "      <td>203.0</td>\n",
              "      <td>63.52</td>\n",
              "      <td>63.52</td>\n",
              "      <td>63.52</td>\n",
              "      <td>63.52</td>\n",
              "      <td>3.0</td>\n",
              "    </tr>\n",
              "    <tr>\n",
              "      <th>2019-01-02 12:34:00</th>\n",
              "      <td>238.0</td>\n",
              "      <td>63.55</td>\n",
              "      <td>63.55</td>\n",
              "      <td>63.55</td>\n",
              "      <td>63.55</td>\n",
              "      <td>4.0</td>\n",
              "    </tr>\n",
              "    <tr>\n",
              "      <th>...</th>\n",
              "      <td>...</td>\n",
              "      <td>...</td>\n",
              "      <td>...</td>\n",
              "      <td>...</td>\n",
              "      <td>...</td>\n",
              "      <td>...</td>\n",
              "    </tr>\n",
              "    <tr>\n",
              "      <th>2019-12-31 21:08:00</th>\n",
              "      <td>1091.0</td>\n",
              "      <td>87.92</td>\n",
              "      <td>87.92</td>\n",
              "      <td>87.92</td>\n",
              "      <td>87.92</td>\n",
              "      <td>9.0</td>\n",
              "    </tr>\n",
              "    <tr>\n",
              "      <th>2019-12-31 21:11:00</th>\n",
              "      <td>3420.0</td>\n",
              "      <td>88.00</td>\n",
              "      <td>87.92</td>\n",
              "      <td>88.00</td>\n",
              "      <td>87.92</td>\n",
              "      <td>8.0</td>\n",
              "    </tr>\n",
              "    <tr>\n",
              "      <th>2019-12-31 22:16:00</th>\n",
              "      <td>100.0</td>\n",
              "      <td>87.92</td>\n",
              "      <td>87.92</td>\n",
              "      <td>87.92</td>\n",
              "      <td>87.92</td>\n",
              "      <td>1.0</td>\n",
              "    </tr>\n",
              "    <tr>\n",
              "      <th>2019-12-31 23:23:00</th>\n",
              "      <td>750.0</td>\n",
              "      <td>87.92</td>\n",
              "      <td>87.92</td>\n",
              "      <td>87.92</td>\n",
              "      <td>87.92</td>\n",
              "      <td>1.0</td>\n",
              "    </tr>\n",
              "    <tr>\n",
              "      <th>2020-01-01 00:59:00</th>\n",
              "      <td>292.0</td>\n",
              "      <td>87.93</td>\n",
              "      <td>87.93</td>\n",
              "      <td>87.93</td>\n",
              "      <td>87.93</td>\n",
              "      <td>1.0</td>\n",
              "    </tr>\n",
              "  </tbody>\n",
              "</table>\n",
              "<p>211152 rows × 6 columns</p>\n",
              "</div>"
            ],
            "text/plain": [
              "                     volume   open  close   high    low  num_trades\n",
              "timestamp                                                          \n",
              "2019-01-02 12:17:00   300.0  63.67  63.68  63.68  63.67         4.0\n",
              "2019-01-02 12:21:00   487.0  63.50  63.53  63.53  63.50         5.0\n",
              "2019-01-02 12:22:00  1949.0  63.50  63.50  63.50  63.47         8.0\n",
              "2019-01-02 12:31:00   203.0  63.52  63.52  63.52  63.52         3.0\n",
              "2019-01-02 12:34:00   238.0  63.55  63.55  63.55  63.55         4.0\n",
              "...                     ...    ...    ...    ...    ...         ...\n",
              "2019-12-31 21:08:00  1091.0  87.92  87.92  87.92  87.92         9.0\n",
              "2019-12-31 21:11:00  3420.0  88.00  87.92  88.00  87.92         8.0\n",
              "2019-12-31 22:16:00   100.0  87.92  87.92  87.92  87.92         1.0\n",
              "2019-12-31 23:23:00   750.0  87.92  87.92  87.92  87.92         1.0\n",
              "2020-01-01 00:59:00   292.0  87.93  87.93  87.93  87.93         1.0\n",
              "\n",
              "[211152 rows x 6 columns]"
            ]
          },
          "metadata": {
            "tags": []
          }
        },
        {
          "output_type": "display_data",
          "data": {
            "text/html": [
              "<div>\n",
              "<style scoped>\n",
              "    .dataframe tbody tr th:only-of-type {\n",
              "        vertical-align: middle;\n",
              "    }\n",
              "\n",
              "    .dataframe tbody tr th {\n",
              "        vertical-align: top;\n",
              "    }\n",
              "\n",
              "    .dataframe thead th {\n",
              "        text-align: right;\n",
              "    }\n",
              "</style>\n",
              "<table border=\"1\" class=\"dataframe\">\n",
              "  <thead>\n",
              "    <tr style=\"text-align: right;\">\n",
              "      <th></th>\n",
              "      <th>volume</th>\n",
              "      <th>open</th>\n",
              "      <th>close</th>\n",
              "      <th>high</th>\n",
              "      <th>low</th>\n",
              "      <th>num_trades</th>\n",
              "    </tr>\n",
              "  </thead>\n",
              "  <tbody>\n",
              "    <tr>\n",
              "      <th>count</th>\n",
              "      <td>2.111520e+05</td>\n",
              "      <td>211152.000000</td>\n",
              "      <td>211152.000000</td>\n",
              "      <td>211152.000000</td>\n",
              "      <td>211152.000000</td>\n",
              "      <td>211152.000000</td>\n",
              "    </tr>\n",
              "    <tr>\n",
              "      <th>mean</th>\n",
              "      <td>1.658427e+04</td>\n",
              "      <td>81.475973</td>\n",
              "      <td>81.475427</td>\n",
              "      <td>81.499094</td>\n",
              "      <td>81.452129</td>\n",
              "      <td>140.239069</td>\n",
              "    </tr>\n",
              "    <tr>\n",
              "      <th>std</th>\n",
              "      <td>3.850306e+04</td>\n",
              "      <td>9.400280</td>\n",
              "      <td>9.400139</td>\n",
              "      <td>9.402859</td>\n",
              "      <td>9.397668</td>\n",
              "      <td>138.590137</td>\n",
              "    </tr>\n",
              "    <tr>\n",
              "      <th>min</th>\n",
              "      <td>0.000000e+00</td>\n",
              "      <td>61.460000</td>\n",
              "      <td>61.460000</td>\n",
              "      <td>61.460000</td>\n",
              "      <td>61.395000</td>\n",
              "      <td>0.000000</td>\n",
              "    </tr>\n",
              "    <tr>\n",
              "      <th>25%</th>\n",
              "      <td>6.330000e+03</td>\n",
              "      <td>74.305000</td>\n",
              "      <td>74.307525</td>\n",
              "      <td>74.320000</td>\n",
              "      <td>74.295000</td>\n",
              "      <td>74.000000</td>\n",
              "    </tr>\n",
              "    <tr>\n",
              "      <th>50%</th>\n",
              "      <td>1.055050e+04</td>\n",
              "      <td>83.345000</td>\n",
              "      <td>83.345000</td>\n",
              "      <td>83.370000</td>\n",
              "      <td>83.320000</td>\n",
              "      <td>112.000000</td>\n",
              "    </tr>\n",
              "    <tr>\n",
              "      <th>75%</th>\n",
              "      <td>1.768200e+04</td>\n",
              "      <td>88.280000</td>\n",
              "      <td>88.280000</td>\n",
              "      <td>88.300000</td>\n",
              "      <td>88.255000</td>\n",
              "      <td>167.000000</td>\n",
              "    </tr>\n",
              "    <tr>\n",
              "      <th>max</th>\n",
              "      <td>4.503728e+06</td>\n",
              "      <td>99.710000</td>\n",
              "      <td>99.718400</td>\n",
              "      <td>99.720000</td>\n",
              "      <td>99.642400</td>\n",
              "      <td>7284.000000</td>\n",
              "    </tr>\n",
              "  </tbody>\n",
              "</table>\n",
              "</div>"
            ],
            "text/plain": [
              "             volume           open  ...            low     num_trades\n",
              "count  2.111520e+05  211152.000000  ...  211152.000000  211152.000000\n",
              "mean   1.658427e+04      81.475973  ...      81.452129     140.239069\n",
              "std    3.850306e+04       9.400280  ...       9.397668     138.590137\n",
              "min    0.000000e+00      61.460000  ...      61.395000       0.000000\n",
              "25%    6.330000e+03      74.305000  ...      74.295000      74.000000\n",
              "50%    1.055050e+04      83.345000  ...      83.320000     112.000000\n",
              "75%    1.768200e+04      88.280000  ...      88.255000     167.000000\n",
              "max    4.503728e+06      99.710000  ...      99.642400    7284.000000\n",
              "\n",
              "[8 rows x 6 columns]"
            ]
          },
          "metadata": {
            "tags": []
          }
        }
      ]
    },
    {
      "cell_type": "code",
      "metadata": {
        "id": "6OryKo9GxvRj",
        "colab_type": "code",
        "colab": {},
        "outputId": "90eeb934-be8d-462b-cdec-b807c8d853c7"
      },
      "source": [
        "year_df[['high', 'low']].plot()"
      ],
      "execution_count": null,
      "outputs": [
        {
          "output_type": "execute_result",
          "data": {
            "text/plain": [
              "<AxesSubplot:xlabel='timestamp'>"
            ]
          },
          "metadata": {
            "tags": []
          },
          "execution_count": 18
        },
        {
          "output_type": "display_data",
          "data": {
            "image/png": "[encoded data removed]",
            "text/plain": [
              "<Figure size 640x480 with 1 Axes>"
            ]
          },
          "metadata": {
            "tags": []
          }
        }
      ]
    },
    {
      "cell_type": "code",
      "metadata": {
        "id": "1x60CdFCxvRn",
        "colab_type": "code",
        "colab": {},
        "outputId": "61c9a23a-435d-4d0c-acaa-bb279451daa4"
      },
      "source": [
        "mpf.plot(year_df.loc['2019-01-02 15:00':'2019-01-02 22:00',:], type='candle', volume=True, show_nontrading=True, style='yahoo')\n"
      ],
      "execution_count": null,
      "outputs": [
        {
          "output_type": "display_data",
          "data": {
            "image/png": "[encoded data removed]",
            "text/plain": [
              "<Figure size 800x575 with 4 Axes>"
            ]
          },
          "metadata": {
            "tags": []
          }
        }
      ]
    },
    {
      "cell_type": "markdown",
      "metadata": {
        "id": "-UPgKg9OxvRq",
        "colab_type": "text"
      },
      "source": [
        "# 2. Feature Engineering"
      ]
    },
    {
      "cell_type": "code",
      "metadata": {
        "id": "P7JC2nyNxvRq",
        "colab_type": "code",
        "colab": {},
        "outputId": "f05b03f2-1462-4fd2-a738-8f1510d8e2d9"
      },
      "source": [
        "year_df.head()"
      ],
      "execution_count": null,
      "outputs": [
        {
          "output_type": "execute_result",
          "data": {
            "text/html": [
              "<div>\n",
              "<style scoped>\n",
              "    .dataframe tbody tr th:only-of-type {\n",
              "        vertical-align: middle;\n",
              "    }\n",
              "\n",
              "    .dataframe tbody tr th {\n",
              "        vertical-align: top;\n",
              "    }\n",
              "\n",
              "    .dataframe thead th {\n",
              "        text-align: right;\n",
              "    }\n",
              "</style>\n",
              "<table border=\"1\" class=\"dataframe\">\n",
              "  <thead>\n",
              "    <tr style=\"text-align: right;\">\n",
              "      <th></th>\n",
              "      <th>volume</th>\n",
              "      <th>open</th>\n",
              "      <th>close</th>\n",
              "      <th>high</th>\n",
              "      <th>low</th>\n",
              "      <th>num_trades</th>\n",
              "    </tr>\n",
              "    <tr>\n",
              "      <th>timestamp</th>\n",
              "      <th></th>\n",
              "      <th></th>\n",
              "      <th></th>\n",
              "      <th></th>\n",
              "      <th></th>\n",
              "      <th></th>\n",
              "    </tr>\n",
              "  </thead>\n",
              "  <tbody>\n",
              "    <tr>\n",
              "      <th>2019-01-02 12:17:00</th>\n",
              "      <td>300.0</td>\n",
              "      <td>63.67</td>\n",
              "      <td>63.68</td>\n",
              "      <td>63.68</td>\n",
              "      <td>63.67</td>\n",
              "      <td>4.0</td>\n",
              "    </tr>\n",
              "    <tr>\n",
              "      <th>2019-01-02 12:21:00</th>\n",
              "      <td>487.0</td>\n",
              "      <td>63.50</td>\n",
              "      <td>63.53</td>\n",
              "      <td>63.53</td>\n",
              "      <td>63.50</td>\n",
              "      <td>5.0</td>\n",
              "    </tr>\n",
              "    <tr>\n",
              "      <th>2019-01-02 12:22:00</th>\n",
              "      <td>1949.0</td>\n",
              "      <td>63.50</td>\n",
              "      <td>63.50</td>\n",
              "      <td>63.50</td>\n",
              "      <td>63.47</td>\n",
              "      <td>8.0</td>\n",
              "    </tr>\n",
              "    <tr>\n",
              "      <th>2019-01-02 12:31:00</th>\n",
              "      <td>203.0</td>\n",
              "      <td>63.52</td>\n",
              "      <td>63.52</td>\n",
              "      <td>63.52</td>\n",
              "      <td>63.52</td>\n",
              "      <td>3.0</td>\n",
              "    </tr>\n",
              "    <tr>\n",
              "      <th>2019-01-02 12:34:00</th>\n",
              "      <td>238.0</td>\n",
              "      <td>63.55</td>\n",
              "      <td>63.55</td>\n",
              "      <td>63.55</td>\n",
              "      <td>63.55</td>\n",
              "      <td>4.0</td>\n",
              "    </tr>\n",
              "  </tbody>\n",
              "</table>\n",
              "</div>"
            ],
            "text/plain": [
              "                     volume   open  close   high    low  num_trades\n",
              "timestamp                                                          \n",
              "2019-01-02 12:17:00   300.0  63.67  63.68  63.68  63.67         4.0\n",
              "2019-01-02 12:21:00   487.0  63.50  63.53  63.53  63.50         5.0\n",
              "2019-01-02 12:22:00  1949.0  63.50  63.50  63.50  63.47         8.0\n",
              "2019-01-02 12:31:00   203.0  63.52  63.52  63.52  63.52         3.0\n",
              "2019-01-02 12:34:00   238.0  63.55  63.55  63.55  63.55         4.0"
            ]
          },
          "metadata": {
            "tags": []
          },
          "execution_count": 38
        }
      ]
    },
    {
      "cell_type": "code",
      "metadata": {
        "id": "PnEbzjKVxvRu",
        "colab_type": "code",
        "colab": {}
      },
      "source": [
        "def passed_threshold(window):\n",
        "    print(window)\n",
        "    return True\n",
        "\n",
        "year_df['high'].iloc[::-1].rolling(5).apply(passed_threshold).iloc[::-1]"
      ],
      "execution_count": null,
      "outputs": []
    },
    {
      "cell_type": "markdown",
      "metadata": {
        "id": "bm0mNjQmxvRx",
        "colab_type": "text"
      },
      "source": [
        "# 3. Build the Model"
      ]
    },
    {
      "cell_type": "code",
      "metadata": {
        "id": "wV05mGUsxvRx",
        "colab_type": "code",
        "colab": {}
      },
      "source": [
        ""
      ],
      "execution_count": null,
      "outputs": []
    },
    {
      "cell_type": "markdown",
      "metadata": {
        "id": "x7RqRC2MxvRz",
        "colab_type": "text"
      },
      "source": [
        "# 4. Tuning"
      ]
    },
    {
      "cell_type": "code",
      "metadata": {
        "id": "yH1_VKA4xvR0",
        "colab_type": "code",
        "colab": {}
      },
      "source": [
        ""
      ],
      "execution_count": null,
      "outputs": []
    },
    {
      "cell_type": "markdown",
      "metadata": {
        "id": "hfo8dHFwxvR3",
        "colab_type": "text"
      },
      "source": [
        "# 5. Analysis"
      ]
    },
    {
      "cell_type": "code",
      "metadata": {
        "id": "xTcPA-xbxvR3",
        "colab_type": "code",
        "colab": {}
      },
      "source": [
        ""
      ],
      "execution_count": null,
      "outputs": []
    }
  ]
}