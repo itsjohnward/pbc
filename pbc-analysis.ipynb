{
 "cells": [
  {
   "cell_type": "code",
   "execution_count": 1,
   "metadata": {},
   "outputs": [],
   "source": [
    "# RUNTIME = 'colab'\n",
    "RUNTIME = 'local'"
   ]
  },
  {
   "cell_type": "code",
   "execution_count": 2,
   "metadata": {
    "colab": {},
    "colab_type": "code",
    "executionInfo": {
     "elapsed": 47983,
     "status": "ok",
     "timestamp": 1596762565734,
     "user": {
      "displayName": "John Ward",
      "photoUrl": "https://lh3.googleusercontent.com/a-/AOh14Ghf8-rSYPt5lZkKsWM1gZPoGmQcbXjrB8rZhOvfSdo=s64",
      "userId": "07427441145968700929"
     },
     "user_tz": 240
    },
    "id": "4AYGir29xzyt"
   },
   "outputs": [],
   "source": [
    "if RUNTIME == 'colab':\n",
    "    %%capture\n",
    "    !pip install polygon-api-client\n",
    "    !pip install requests\n",
    "    !pip install pandas\n",
    "    !pip install tqdm\n",
    "    !pip install mplfinance\n",
    "    !pip install tensorflow\n",
    "    !pip install numpy\n",
    "    !pip install matplotlib\n",
    "    !pip install scikit-learn\n",
    "    !pip install fastparquet"
   ]
  },
  {
   "cell_type": "code",
   "execution_count": 3,
   "metadata": {
    "colab": {},
    "colab_type": "code",
    "executionInfo": {
     "elapsed": 1991,
     "status": "ok",
     "timestamp": 1596762580081,
     "user": {
      "displayName": "John Ward",
      "photoUrl": "https://lh3.googleusercontent.com/a-/AOh14Ghf8-rSYPt5lZkKsWM1gZPoGmQcbXjrB8rZhOvfSdo=s64",
      "userId": "07427441145968700929"
     },
     "user_tz": 240
    },
    "id": "_QygdXGVxvRL"
   },
   "outputs": [],
   "source": [
    "import os\n",
    "import calendar\n",
    "from datetime import datetime, timedelta\n",
    "from functools import partial\n",
    "\n",
    "from polygon import RESTClient\n",
    "import requests\n",
    "import pandas as pd\n",
    "from tqdm.notebook import tqdm\n",
    "import mplfinance as mpf\n",
    "\n",
    "from tensorflow.keras.models import Sequential\n",
    "from tensorflow.keras.layers import Dense, Dropout, Activation\n",
    "\n",
    "import numpy as np\n",
    "\n",
    "from sklearn.preprocessing import MinMaxScaler"
   ]
  },
  {
   "cell_type": "code",
   "execution_count": 4,
   "metadata": {
    "colab": {
     "base_uri": "https://localhost:8080/",
     "height": 122
    },
    "colab_type": "code",
    "executionInfo": {
     "elapsed": 27991,
     "status": "ok",
     "timestamp": 1596762611872,
     "user": {
      "displayName": "John Ward",
      "photoUrl": "https://lh3.googleusercontent.com/a-/AOh14Ghf8-rSYPt5lZkKsWM1gZPoGmQcbXjrB8rZhOvfSdo=s64",
      "userId": "07427441145968700929"
     },
     "user_tz": 240
    },
    "id": "dyKWgdQufx-V",
    "outputId": "5964fb16-c50d-435e-fbd2-1a525f90048b"
   },
   "outputs": [],
   "source": [
    "if RUNTIME == 'colab':\n",
    "    from google.colab import drive\n",
    "    drive.mount('/content/drive')"
   ]
  },
  {
   "cell_type": "markdown",
   "metadata": {
    "colab_type": "text",
    "id": "fVaoV9z0xvRP"
   },
   "source": [
    "# 1. Load Data"
   ]
  },
  {
   "cell_type": "code",
   "execution_count": 5,
   "metadata": {
    "colab": {},
    "colab_type": "code",
    "executionInfo": {
     "elapsed": 301,
     "status": "ok",
     "timestamp": 1596762630193,
     "user": {
      "displayName": "John Ward",
      "photoUrl": "https://lh3.googleusercontent.com/a-/AOh14Ghf8-rSYPt5lZkKsWM1gZPoGmQcbXjrB8rZhOvfSdo=s64",
      "userId": "07427441145968700929"
     },
     "user_tz": 240
    },
    "id": "yu8OCvboxvRQ"
   },
   "outputs": [],
   "source": [
    "def get(path, params={}):\n",
    "    session = requests.Session()\n",
    "    url = 'https://api.polygon.io' + path\n",
    "    params['apiKey'] = os.environ['POLYGON_API_KEY']\n",
    "    resp = session.request('GET', url, params=params)\n",
    "    resp.raise_for_status()\n",
    "    return resp.json()"
   ]
  },
  {
   "cell_type": "code",
   "execution_count": 6,
   "metadata": {
    "colab": {},
    "colab_type": "code",
    "executionInfo": {
     "elapsed": 277,
     "status": "ok",
     "timestamp": 1596762630769,
     "user": {
      "displayName": "John Ward",
      "photoUrl": "https://lh3.googleusercontent.com/a-/AOh14Ghf8-rSYPt5lZkKsWM1gZPoGmQcbXjrB8rZhOvfSdo=s64",
      "userId": "07427441145968700929"
     },
     "user_tz": 240
    },
    "id": "92NlEnR6xvRS"
   },
   "outputs": [],
   "source": [
    "def get_bars(from_date, to_date):\n",
    "    if isinstance(from_date, datetime):\n",
    "        from_date = datetime.strftime(from_date, '%Y-%m-%d')\n",
    "    if isinstance(to_date, datetime):\n",
    "        to_date = datetime.strftime(to_date, '%Y-%m-%d')\n",
    "    return get('/v2/aggs/ticker/{}/range/{}/{}/{}/{}'.format('SBUX',\n",
    "                                                             1,\n",
    "                                                             'minute',\n",
    "                                                             from_date,\n",
    "                                                             to_date))['results']"
   ]
  },
  {
   "cell_type": "code",
   "execution_count": 7,
   "metadata": {
    "colab": {},
    "colab_type": "code",
    "executionInfo": {
     "elapsed": 332,
     "status": "ok",
     "timestamp": 1596762631695,
     "user": {
      "displayName": "John Ward",
      "photoUrl": "https://lh3.googleusercontent.com/a-/AOh14Ghf8-rSYPt5lZkKsWM1gZPoGmQcbXjrB8rZhOvfSdo=s64",
      "userId": "07427441145968700929"
     },
     "user_tz": 240
    },
    "id": "W0mZwzMjxvRY"
   },
   "outputs": [],
   "source": [
    "class TradingDay:\n",
    "    def __init__(self, date):\n",
    "        if isinstance(date, str):\n",
    "            self.start = datetime.strptime(date, '%Y-%m-%d')\n",
    "        if isinstance(date, datetime):\n",
    "            self.start = date\n",
    "        self.end = self.start + timedelta(days=1)\n",
    "        #self.weekday = calendar.day_name[self.start.weekday()]\n",
    "        self.bars = pd.DataFrame(columns=['timestamp',\n",
    "                                          'volume',\n",
    "                                          'open',\n",
    "                                          'close',\n",
    "                                          'high',\n",
    "                                          'low',\n",
    "                                          'num_trades'])\n",
    "        for bar in get_bars(self.start, self.end):\n",
    "            self.bars = self.bars.append({\n",
    "                'timestamp': bar['t'],\n",
    "                'volume': bar['v'],\n",
    "                'open': bar['o'],\n",
    "                'close': bar['c'],\n",
    "                'high': bar['h'],\n",
    "                'low': bar['l'],\n",
    "                'num_trades': bar.get('n', 0)\n",
    "            }, ignore_index=True)\n",
    "        \n",
    "class TradingYear:\n",
    "    def __init__(self, year):\n",
    "        self.days = [\n",
    "            TradingDay(\n",
    "                datetime.strptime(\n",
    "                    '{}-2019'.format(str(day)), '%j-%Y'\n",
    "                )\n",
    "            ) for day in tqdm(range(1,366))\n",
    "        ]\n",
    "   \n",
    "    def get_bars(self):\n",
    "        return pd.concat([day.bars for day in self.days])"
   ]
  },
  {
   "cell_type": "markdown",
   "metadata": {},
   "source": [
    "If there is a data file, load it. If not, request data from the Polygon API and save it to a file."
   ]
  },
  {
   "cell_type": "code",
   "execution_count": 8,
   "metadata": {
    "colab": {},
    "colab_type": "code",
    "executionInfo": {
     "elapsed": 1283,
     "status": "ok",
     "timestamp": 1596762638583,
     "user": {
      "displayName": "John Ward",
      "photoUrl": "https://lh3.googleusercontent.com/a-/AOh14Ghf8-rSYPt5lZkKsWM1gZPoGmQcbXjrB8rZhOvfSdo=s64",
      "userId": "07427441145968700929"
     },
     "user_tz": 240
    },
    "id": "PQA2pzpAxvRa"
   },
   "outputs": [],
   "source": [
    "if RUNTIME == 'local':\n",
    "    DIR = '.data/2019_year_df.parquet.gzip'\n",
    "elif RUNTIME == 'colab':\n",
    "    DIR = '/content/drive/My Drive/pbc/2019_year_df.parquet.gzip'\n",
    "\n",
    "try:\n",
    "    year_df = pd.read_parquet(DIR)\n",
    "except FileNotFoundError as e:\n",
    "    year_df = TradingYear(2019).get_bars()\n",
    "    year_df['timestamp'] = pd.to_datetime(year_df['timestamp'], unit='ms')\n",
    "    year_df = year_df.set_index('timestamp')\n",
    "    year_df.to_parquet(DIR, compression='gzip')"
   ]
  },
  {
   "cell_type": "code",
   "execution_count": 9,
   "metadata": {
    "colab": {
     "base_uri": "https://localhost:8080/",
     "height": 294
    },
    "colab_type": "code",
    "executionInfo": {
     "elapsed": 1407,
     "status": "ok",
     "timestamp": 1596762646632,
     "user": {
      "displayName": "John Ward",
      "photoUrl": "https://lh3.googleusercontent.com/a-/AOh14Ghf8-rSYPt5lZkKsWM1gZPoGmQcbXjrB8rZhOvfSdo=s64",
      "userId": "07427441145968700929"
     },
     "user_tz": 240
    },
    "id": "6OryKo9GxvRj",
    "outputId": "d0cc97d3-e3cd-47a5-bb57-b4d40303da49"
   },
   "outputs": [
    {
     "data": {
      "text/plain": [
       "<AxesSubplot:xlabel='timestamp'>"
      ]
     },
     "execution_count": 9,
     "metadata": {},
     "output_type": "execute_result"
    },
    {
     "data": {
      "image/png": "[encoded data removed]",
      "text/plain": [
       "<Figure size 432x288 with 1 Axes>"
      ]
     },
     "metadata": {
      "needs_background": "light"
     },
     "output_type": "display_data"
    }
   ],
   "source": [
    "year_df[['high', 'low']].plot()"
   ]
  },
  {
   "cell_type": "code",
   "execution_count": 10,
   "metadata": {
    "colab": {
     "base_uri": "https://localhost:8080/",
     "height": 487
    },
    "colab_type": "code",
    "executionInfo": {
     "elapsed": 2094,
     "status": "ok",
     "timestamp": 1596762650531,
     "user": {
      "displayName": "John Ward",
      "photoUrl": "https://lh3.googleusercontent.com/a-/AOh14Ghf8-rSYPt5lZkKsWM1gZPoGmQcbXjrB8rZhOvfSdo=s64",
      "userId": "07427441145968700929"
     },
     "user_tz": 240
    },
    "id": "1x60CdFCxvRn",
    "outputId": "97444e94-908b-4181-ccf2-61b12e9b783f"
   },
   "outputs": [
    {
     "data": {
      "image/png": "[encoded data removed]",
      "text/plain": [
       "<Figure size 800x575 with 4 Axes>"
      ]
     },
     "metadata": {},
     "output_type": "display_data"
    }
   ],
   "source": [
    "mpf.plot(year_df.loc['2019-01-02 15:00':'2019-01-02 22:00',:], type='candle', volume=True, show_nontrading=True, style='yahoo')\n"
   ]
  },
  {
   "cell_type": "markdown",
   "metadata": {
    "colab_type": "text",
    "id": "-UPgKg9OxvRq"
   },
   "source": [
    "# 2. Feature Engineering"
   ]
  },
  {
   "cell_type": "code",
   "execution_count": 11,
   "metadata": {
    "colab": {
     "base_uri": "https://localhost:8080/",
     "height": 235
    },
    "colab_type": "code",
    "executionInfo": {
     "elapsed": 326,
     "status": "ok",
     "timestamp": 1596762653209,
     "user": {
      "displayName": "John Ward",
      "photoUrl": "https://lh3.googleusercontent.com/a-/AOh14Ghf8-rSYPt5lZkKsWM1gZPoGmQcbXjrB8rZhOvfSdo=s64",
      "userId": "07427441145968700929"
     },
     "user_tz": 240
    },
    "id": "P7JC2nyNxvRq",
    "outputId": "9c103731-c09d-4acc-cb50-2989849364f3"
   },
   "outputs": [
    {
     "data": {
      "text/html": [
       "<div>\n",
       "<style scoped>\n",
       "    .dataframe tbody tr th:only-of-type {\n",
       "        vertical-align: middle;\n",
       "    }\n",
       "\n",
       "    .dataframe tbody tr th {\n",
       "        vertical-align: top;\n",
       "    }\n",
       "\n",
       "    .dataframe thead th {\n",
       "        text-align: right;\n",
       "    }\n",
       "</style>\n",
       "<table border=\"1\" class=\"dataframe\">\n",
       "  <thead>\n",
       "    <tr style=\"text-align: right;\">\n",
       "      <th></th>\n",
       "      <th>volume</th>\n",
       "      <th>open</th>\n",
       "      <th>close</th>\n",
       "      <th>high</th>\n",
       "      <th>low</th>\n",
       "      <th>num_trades</th>\n",
       "    </tr>\n",
       "    <tr>\n",
       "      <th>timestamp</th>\n",
       "      <th></th>\n",
       "      <th></th>\n",
       "      <th></th>\n",
       "      <th></th>\n",
       "      <th></th>\n",
       "      <th></th>\n",
       "    </tr>\n",
       "  </thead>\n",
       "  <tbody>\n",
       "    <tr>\n",
       "      <th>2019-01-02 12:17:00</th>\n",
       "      <td>300.0</td>\n",
       "      <td>63.67</td>\n",
       "      <td>63.68</td>\n",
       "      <td>63.68</td>\n",
       "      <td>63.67</td>\n",
       "      <td>4.0</td>\n",
       "    </tr>\n",
       "    <tr>\n",
       "      <th>2019-01-02 12:21:00</th>\n",
       "      <td>487.0</td>\n",
       "      <td>63.50</td>\n",
       "      <td>63.53</td>\n",
       "      <td>63.53</td>\n",
       "      <td>63.50</td>\n",
       "      <td>5.0</td>\n",
       "    </tr>\n",
       "    <tr>\n",
       "      <th>2019-01-02 12:22:00</th>\n",
       "      <td>1949.0</td>\n",
       "      <td>63.50</td>\n",
       "      <td>63.50</td>\n",
       "      <td>63.50</td>\n",
       "      <td>63.47</td>\n",
       "      <td>8.0</td>\n",
       "    </tr>\n",
       "    <tr>\n",
       "      <th>2019-01-02 12:31:00</th>\n",
       "      <td>203.0</td>\n",
       "      <td>63.52</td>\n",
       "      <td>63.52</td>\n",
       "      <td>63.52</td>\n",
       "      <td>63.52</td>\n",
       "      <td>3.0</td>\n",
       "    </tr>\n",
       "    <tr>\n",
       "      <th>2019-01-02 12:34:00</th>\n",
       "      <td>238.0</td>\n",
       "      <td>63.55</td>\n",
       "      <td>63.55</td>\n",
       "      <td>63.55</td>\n",
       "      <td>63.55</td>\n",
       "      <td>4.0</td>\n",
       "    </tr>\n",
       "  </tbody>\n",
       "</table>\n",
       "</div>"
      ],
      "text/plain": [
       "                     volume   open  close   high    low  num_trades\n",
       "timestamp                                                          \n",
       "2019-01-02 12:17:00   300.0  63.67  63.68  63.68  63.67         4.0\n",
       "2019-01-02 12:21:00   487.0  63.50  63.53  63.53  63.50         5.0\n",
       "2019-01-02 12:22:00  1949.0  63.50  63.50  63.50  63.47         8.0\n",
       "2019-01-02 12:31:00   203.0  63.52  63.52  63.52  63.52         3.0\n",
       "2019-01-02 12:34:00   238.0  63.55  63.55  63.55  63.55         4.0"
      ]
     },
     "execution_count": 11,
     "metadata": {},
     "output_type": "execute_result"
    }
   ],
   "source": [
    "year_df.head()"
   ]
  },
  {
   "cell_type": "markdown",
   "metadata": {},
   "source": [
    "Compute the labels we're training for:"
   ]
  },
  {
   "cell_type": "code",
   "execution_count": 12,
   "metadata": {},
   "outputs": [],
   "source": [
    "WINDOW_SIZE = 5  # looking 5 bars into the future\n",
    "\n",
    "PCT_WINDOWS = [0.05, 0.1, 0.15, 0.2, 0.25]\n",
    "LABELS = (['down_{}_pct'.format(pct) for pct in sorted(PCT_WINDOWS, reverse=True)] +\n",
    "          ['up_{}_pct'.format(pct) for pct in sorted(PCT_WINDOWS)])"
   ]
  },
  {
   "cell_type": "code",
   "execution_count": 14,
   "metadata": {},
   "outputs": [
    {
     "name": "stderr",
     "output_type": "stream",
     "text": [
      "/Users/john/.local/share/virtualenvs/pbc-AS_-2Y6Z/lib/python3.8/site-packages/tqdm/std.py:668: FutureWarning: The Panel class is removed from pandas. Accessing it from the top-level namespace will also be removed in the next version\n",
      "  from pandas import Panel\n"
     ]
    }
   ],
   "source": [
    "tqdm.pandas()  # graphical load bar\n",
    "\n",
    "def compute_label(formatted_df, pct, direction, row):\n",
    "    window = formatted_df[formatted_df.index > row.name].iloc[:WINDOW_SIZE]\n",
    "    if len(window) == WINDOW_SIZE:\n",
    "        if direction == 'up':\n",
    "            return int(max(window['high']) >= row['close']*(1+(pct/100)))\n",
    "        return int(min(window['low']) <= row['close']*(1-(pct/100)))\n",
    "    return None"
   ]
  },
  {
   "cell_type": "code",
   "execution_count": 15,
   "metadata": {},
   "outputs": [
    {
     "data": {
      "application/vnd.jupyter.widget-view+json": {
       "model_id": "c2d2f6ad86794c36ae5777c839a3a01d",
       "version_major": 2,
       "version_minor": 0
      },
      "text/plain": [
       "HBox(children=(FloatProgress(value=0.0, max=93692.0), HTML(value='')))"
      ]
     },
     "metadata": {},
     "output_type": "display_data"
    },
    {
     "name": "stdout",
     "output_type": "stream",
     "text": [
      "\n"
     ]
    },
    {
     "data": {
      "application/vnd.jupyter.widget-view+json": {
       "model_id": "b992d642da16487589eb96d9d10e1355",
       "version_major": 2,
       "version_minor": 0
      },
      "text/plain": [
       "HBox(children=(FloatProgress(value=0.0, max=93692.0), HTML(value='')))"
      ]
     },
     "metadata": {},
     "output_type": "display_data"
    },
    {
     "name": "stdout",
     "output_type": "stream",
     "text": [
      "\n"
     ]
    },
    {
     "data": {
      "application/vnd.jupyter.widget-view+json": {
       "model_id": "bc9ff4479c5148a29b610b756d02ebe7",
       "version_major": 2,
       "version_minor": 0
      },
      "text/plain": [
       "HBox(children=(FloatProgress(value=0.0, max=93692.0), HTML(value='')))"
      ]
     },
     "metadata": {},
     "output_type": "display_data"
    },
    {
     "name": "stdout",
     "output_type": "stream",
     "text": [
      "\n"
     ]
    },
    {
     "data": {
      "application/vnd.jupyter.widget-view+json": {
       "model_id": "785896940a754e75b3a3e6fe5e833d15",
       "version_major": 2,
       "version_minor": 0
      },
      "text/plain": [
       "HBox(children=(FloatProgress(value=0.0, max=93692.0), HTML(value='')))"
      ]
     },
     "metadata": {},
     "output_type": "display_data"
    },
    {
     "name": "stdout",
     "output_type": "stream",
     "text": [
      "\n"
     ]
    },
    {
     "data": {
      "application/vnd.jupyter.widget-view+json": {
       "model_id": "f9eda52249d9459c91cfbe88c0c71958",
       "version_major": 2,
       "version_minor": 0
      },
      "text/plain": [
       "HBox(children=(FloatProgress(value=0.0, max=93692.0), HTML(value='')))"
      ]
     },
     "metadata": {},
     "output_type": "display_data"
    },
    {
     "name": "stdout",
     "output_type": "stream",
     "text": [
      "\n"
     ]
    },
    {
     "data": {
      "application/vnd.jupyter.widget-view+json": {
       "model_id": "8b91850009dc4d49bac9e30f7c19b634",
       "version_major": 2,
       "version_minor": 0
      },
      "text/plain": [
       "HBox(children=(FloatProgress(value=0.0, max=93692.0), HTML(value='')))"
      ]
     },
     "metadata": {},
     "output_type": "display_data"
    },
    {
     "name": "stdout",
     "output_type": "stream",
     "text": [
      "\n"
     ]
    },
    {
     "data": {
      "application/vnd.jupyter.widget-view+json": {
       "model_id": "ca3f330b2a1143c49bc573579b33b1b4",
       "version_major": 2,
       "version_minor": 0
      },
      "text/plain": [
       "HBox(children=(FloatProgress(value=0.0, max=93692.0), HTML(value='')))"
      ]
     },
     "metadata": {},
     "output_type": "display_data"
    },
    {
     "name": "stdout",
     "output_type": "stream",
     "text": [
      "\n"
     ]
    },
    {
     "data": {
      "application/vnd.jupyter.widget-view+json": {
       "model_id": "e9c789a7d3c24c9b9c7407467bad4e04",
       "version_major": 2,
       "version_minor": 0
      },
      "text/plain": [
       "HBox(children=(FloatProgress(value=0.0, max=93692.0), HTML(value='')))"
      ]
     },
     "metadata": {},
     "output_type": "display_data"
    },
    {
     "name": "stdout",
     "output_type": "stream",
     "text": [
      "\n"
     ]
    },
    {
     "data": {
      "application/vnd.jupyter.widget-view+json": {
       "model_id": "6dfe1290c5b14cf49a3b908745315ad2",
       "version_major": 2,
       "version_minor": 0
      },
      "text/plain": [
       "HBox(children=(FloatProgress(value=0.0, max=93692.0), HTML(value='')))"
      ]
     },
     "metadata": {},
     "output_type": "display_data"
    },
    {
     "name": "stdout",
     "output_type": "stream",
     "text": [
      "\n"
     ]
    },
    {
     "data": {
      "application/vnd.jupyter.widget-view+json": {
       "model_id": "9efd054a0fe14a95abd6c065a2d67f92",
       "version_major": 2,
       "version_minor": 0
      },
      "text/plain": [
       "HBox(children=(FloatProgress(value=0.0, max=93692.0), HTML(value='')))"
      ]
     },
     "metadata": {},
     "output_type": "display_data"
    },
    {
     "name": "stdout",
     "output_type": "stream",
     "text": [
      "\n"
     ]
    }
   ],
   "source": [
    "if RUNTIME == 'local':\n",
    "    FORMATTED_DF_DIR = '.data/formatted_df.parquet.gzip'\n",
    "elif RUNTIME == 'colab':\n",
    "    FORMATTED_DF_DIR = '/content/drive/My Drive/pbc/formatted_df.parquet.gzip'\n",
    "\n",
    "try:\n",
    "    formatted_df = pd.read_parquet(FORMATTED_DF_DIR)\n",
    "except FileNotFoundError as e:\n",
    "    # sanitize\n",
    "    formatted_df = (year_df\n",
    "        .sort_index(inplace=False)\n",
    "        .drop_duplicates()\n",
    "        # filter out times before 9:30 and after 4:00\n",
    "        .between_time('13:30','20:00')\n",
    "        .dropna()\n",
    "    )\n",
    "    \n",
    "    # compute labels\n",
    "    for pct in [0.05, 0.1, 0.15, 0.2, 0.25]:\n",
    "        formatted_df['up_{}_pct'.format(pct)] = formatted_df.progress_apply(partial(compute_label, formatted_df, pct, 'up'), axis=1)\n",
    "        formatted_df['down_{}_pct'.format(pct)] = formatted_df.progress_apply(partial(compute_label, formatted_df, pct, 'down'), axis=1)\n",
    "    \n",
    "    # compute features\n",
    "    formatted_df['open_close_pct_delta'] = (formatted_df['close'] - formatted_df['open'])/formatted_df['open']\n",
    "    formatted_df['vol'] = (formatted_df['high'] - formatted_df['low'])/formatted_df['open']\n",
    "    formatted_df['{}min_vol_std'.format(WINDOW_SIZE)] = formatted_df['vol'].rolling(5).std()\n",
    "    formatted_df['{}min_ocd_std'.format(WINDOW_SIZE)] = formatted_df['open_close_pct_delta'].rolling(5).std()\n",
    "    scaler = MinMaxScaler()\n",
    "    formatted_df[['scaled_volume']] = scaler.fit_transform(formatted_df[['volume']])\n",
    "    \n",
    "    \n",
    "    formatted_df = formatted_df.dropna()\n",
    "    formatted_df.to_parquet(FORMATTED_DF_DIR, compression='gzip')\n"
   ]
  },
  {
   "cell_type": "code",
   "execution_count": 16,
   "metadata": {
    "colab": {
     "base_uri": "https://localhost:8080/",
     "height": 528
    },
    "colab_type": "code",
    "executionInfo": {
     "elapsed": 46323,
     "status": "ok",
     "timestamp": 1596762714371,
     "user": {
      "displayName": "John Ward",
      "photoUrl": "https://lh3.googleusercontent.com/a-/AOh14Ghf8-rSYPt5lZkKsWM1gZPoGmQcbXjrB8rZhOvfSdo=s64",
      "userId": "07427441145968700929"
     },
     "user_tz": 240
    },
    "id": "KluuaRue4nTY",
    "outputId": "ae6396b6-c978-4b84-d40a-9fd4eb1970f1"
   },
   "outputs": [],
   "source": [
    "#mpf.plot(formatted_df, type='candle', volume=True, show_nontrading=True, style='yahoo')"
   ]
  },
  {
   "cell_type": "code",
   "execution_count": 17,
   "metadata": {
    "colab": {
     "base_uri": "https://localhost:8080/",
     "height": 447
    },
    "colab_type": "code",
    "executionInfo": {
     "elapsed": 44499,
     "status": "ok",
     "timestamp": 1596762714750,
     "user": {
      "displayName": "John Ward",
      "photoUrl": "https://lh3.googleusercontent.com/a-/AOh14Ghf8-rSYPt5lZkKsWM1gZPoGmQcbXjrB8rZhOvfSdo=s64",
      "userId": "07427441145968700929"
     },
     "user_tz": 240
    },
    "id": "22RoebdZKpor",
    "outputId": "96215601-6d58-4239-c146-5657fce4699c"
   },
   "outputs": [
    {
     "data": {
      "image/png": "[encoded data removed]",
      "text/plain": [
       "<Figure size 640x480 with 1 Axes>"
      ]
     },
     "metadata": {},
     "output_type": "display_data"
    }
   ],
   "source": [
    "def plot_label_frequency():\n",
    "    formatted_df[LABELS].sum().plot(kind='bar')\n",
    "plot_label_frequency()"
   ]
  },
  {
   "cell_type": "markdown",
   "metadata": {
    "colab_type": "text",
    "id": "bm0mNjQmxvRx"
   },
   "source": [
    "# 3. Build the Model"
   ]
  },
  {
   "cell_type": "code",
   "execution_count": 18,
   "metadata": {
    "colab": {},
    "colab_type": "code",
    "executionInfo": {
     "elapsed": 428,
     "status": "ok",
     "timestamp": 1596767509744,
     "user": {
      "displayName": "John Ward",
      "photoUrl": "https://lh3.googleusercontent.com/a-/AOh14Ghf8-rSYPt5lZkKsWM1gZPoGmQcbXjrB8rZhOvfSdo=s64",
      "userId": "07427441145968700929"
     },
     "user_tz": 240
    },
    "id": "XrJfVKURXT9x"
   },
   "outputs": [],
   "source": [
    "FEATURES = ['open_close_pct_delta', 'vol', '5min_vol_std', '5min_ocd_std', 'scaled_volume']\n",
    "\n",
    "X_all = formatted_df[FEATURES]\n",
    "twenty_pct = (len(X_all)//5)\n",
    "X_train, X_val, X_test = X_all[:twenty_pct*3], X_all[twenty_pct*3:twenty_pct*4], X_all[twenty_pct*4:]\n",
    "y_all = formatted_df[LABELS]\n",
    "y_train, y_val, y_test = y_all[:twenty_pct*3], y_all[twenty_pct*3:twenty_pct*4], y_all[twenty_pct*4:]\n"
   ]
  },
  {
   "cell_type": "code",
   "execution_count": 19,
   "metadata": {
    "colab": {
     "base_uri": "https://localhost:8080/",
     "height": 187
    },
    "colab_type": "code",
    "executionInfo": {
     "elapsed": 43260,
     "status": "ok",
     "timestamp": 1596767555492,
     "user": {
      "displayName": "John Ward",
      "photoUrl": "https://lh3.googleusercontent.com/a-/AOh14Ghf8-rSYPt5lZkKsWM1gZPoGmQcbXjrB8rZhOvfSdo=s64",
      "userId": "07427441145968700929"
     },
     "user_tz": 240
    },
    "id": "wV05mGUsxvRx",
    "outputId": "81cadac4-0352-4b05-ec71-16fda6a3f11c"
   },
   "outputs": [
    {
     "name": "stdout",
     "output_type": "stream",
     "text": [
      "Epoch 1/50\n",
      "2811/2811 [==============================] - 3s 985us/step - loss: 0.4006 - accuracy: 0.3127 - val_loss: 0.4217 - val_accuracy: 0.3406\n",
      "Epoch 2/50\n",
      "2811/2811 [==============================] - 3s 1ms/step - loss: 0.3815 - accuracy: 0.3127 - val_loss: 0.4184 - val_accuracy: 0.2738\n",
      "Epoch 3/50\n",
      "2811/2811 [==============================] - 3s 976us/step - loss: 0.3760 - accuracy: 0.3135 - val_loss: 0.4300 - val_accuracy: 0.2543\n",
      "Epoch 4/50\n",
      "2811/2811 [==============================] - 3s 942us/step - loss: 0.3727 - accuracy: 0.3087 - val_loss: 0.4140 - val_accuracy: 0.3349\n",
      "Epoch 5/50\n",
      "2811/2811 [==============================] - 3s 948us/step - loss: 0.3717 - accuracy: 0.3101 - val_loss: 0.4000 - val_accuracy: 0.3274\n",
      "Epoch 6/50\n",
      "2811/2811 [==============================] - 3s 968us/step - loss: 0.3714 - accuracy: 0.3119 - val_loss: 0.4016 - val_accuracy: 0.3331\n",
      "Epoch 7/50\n",
      "2811/2811 [==============================] - 3s 964us/step - loss: 0.3713 - accuracy: 0.3104 - val_loss: 0.4063 - val_accuracy: 0.3406\n",
      "Epoch 8/50\n",
      "2811/2811 [==============================] - 3s 952us/step - loss: 0.3710 - accuracy: 0.3105 - val_loss: 0.3992 - val_accuracy: 0.3406\n",
      "Epoch 9/50\n",
      "2811/2811 [==============================] - 3s 943us/step - loss: 0.3711 - accuracy: 0.3130 - val_loss: 0.3995 - val_accuracy: 0.3373\n",
      "Epoch 10/50\n",
      "2811/2811 [==============================] - 3s 958us/step - loss: 0.3709 - accuracy: 0.3128 - val_loss: 0.3996 - val_accuracy: 0.2802\n",
      "Epoch 11/50\n",
      "2811/2811 [==============================] - 3s 935us/step - loss: 0.3708 - accuracy: 0.3116 - val_loss: 0.4250 - val_accuracy: 0.3406\n",
      "Epoch 12/50\n",
      "2811/2811 [==============================] - 3s 933us/step - loss: 0.3707 - accuracy: 0.3120 - val_loss: 0.3991 - val_accuracy: 0.3207\n",
      "Epoch 13/50\n",
      "2811/2811 [==============================] - 3s 932us/step - loss: 0.3707 - accuracy: 0.3097 - val_loss: 0.4250 - val_accuracy: 0.2695\n",
      "Epoch 14/50\n",
      "2811/2811 [==============================] - 3s 943us/step - loss: 0.3706 - accuracy: 0.3114 - val_loss: 0.4010 - val_accuracy: 0.3406\n",
      "Epoch 15/50\n",
      "2811/2811 [==============================] - 3s 944us/step - loss: 0.3705 - accuracy: 0.3074 - val_loss: 0.4069 - val_accuracy: 0.3406\n",
      "Epoch 16/50\n",
      "2811/2811 [==============================] - 3s 936us/step - loss: 0.3704 - accuracy: 0.3101 - val_loss: 0.4082 - val_accuracy: 0.2559\n",
      "Epoch 17/50\n",
      "2811/2811 [==============================] - 3s 935us/step - loss: 0.3705 - accuracy: 0.3128 - val_loss: 0.4003 - val_accuracy: 0.2562\n",
      "Epoch 18/50\n",
      "2811/2811 [==============================] - 3s 953us/step - loss: 0.3704 - accuracy: 0.3107 - val_loss: 0.3998 - val_accuracy: 0.3387\n",
      "Epoch 19/50\n",
      "2811/2811 [==============================] - 3s 945us/step - loss: 0.3705 - accuracy: 0.3147 - val_loss: 0.4022 - val_accuracy: 0.2655\n",
      "Epoch 20/50\n",
      "2811/2811 [==============================] - 3s 964us/step - loss: 0.3704 - accuracy: 0.3123 - val_loss: 0.4034 - val_accuracy: 0.3406\n",
      "Epoch 21/50\n",
      "2811/2811 [==============================] - 3s 939us/step - loss: 0.3703 - accuracy: 0.3112 - val_loss: 0.4022 - val_accuracy: 0.3406\n",
      "Epoch 22/50\n",
      "2811/2811 [==============================] - 3s 961us/step - loss: 0.3703 - accuracy: 0.3166 - val_loss: 0.4035 - val_accuracy: 0.3406\n",
      "Epoch 23/50\n",
      "2811/2811 [==============================] - 3s 965us/step - loss: 0.3703 - accuracy: 0.3109 - val_loss: 0.4059 - val_accuracy: 0.3406\n",
      "Epoch 24/50\n",
      "2811/2811 [==============================] - 3s 947us/step - loss: 0.3703 - accuracy: 0.3105 - val_loss: 0.3997 - val_accuracy: 0.2562\n",
      "Epoch 25/50\n",
      "2811/2811 [==============================] - 3s 950us/step - loss: 0.3702 - accuracy: 0.3126 - val_loss: 0.3991 - val_accuracy: 0.2551\n",
      "Epoch 26/50\n",
      "2811/2811 [==============================] - 3s 957us/step - loss: 0.3702 - accuracy: 0.3101 - val_loss: 0.4264 - val_accuracy: 0.3406\n",
      "Epoch 27/50\n",
      "2811/2811 [==============================] - 3s 951us/step - loss: 0.3703 - accuracy: 0.3137 - val_loss: 0.4070 - val_accuracy: 0.3406\n",
      "Epoch 28/50\n",
      "2811/2811 [==============================] - 3s 957us/step - loss: 0.3702 - accuracy: 0.3109 - val_loss: 0.3994 - val_accuracy: 0.3406\n",
      "Epoch 29/50\n",
      "2811/2811 [==============================] - 3s 946us/step - loss: 0.3704 - accuracy: 0.3122 - val_loss: 0.4012 - val_accuracy: 0.3143\n",
      "Epoch 30/50\n",
      "2811/2811 [==============================] - 3s 949us/step - loss: 0.3703 - accuracy: 0.3164 - val_loss: 0.3993 - val_accuracy: 0.2902\n",
      "Epoch 31/50\n",
      "2811/2811 [==============================] - 3s 949us/step - loss: 0.3701 - accuracy: 0.3068 - val_loss: 0.4002 - val_accuracy: 0.2543\n",
      "Epoch 32/50\n",
      "2811/2811 [==============================] - 3s 946us/step - loss: 0.3702 - accuracy: 0.3067 - val_loss: 0.4057 - val_accuracy: 0.2561\n",
      "Epoch 33/50\n",
      "2811/2811 [==============================] - 3s 929us/step - loss: 0.3703 - accuracy: 0.3065 - val_loss: 0.3988 - val_accuracy: 0.3219\n",
      "Epoch 34/50\n",
      "2811/2811 [==============================] - 3s 935us/step - loss: 0.3702 - accuracy: 0.3137 - val_loss: 0.4135 - val_accuracy: 0.2569\n",
      "Epoch 35/50\n",
      "2811/2811 [==============================] - 3s 935us/step - loss: 0.3703 - accuracy: 0.3088 - val_loss: 0.4100 - val_accuracy: 0.2683\n",
      "Epoch 36/50\n",
      "2811/2811 [==============================] - 3s 933us/step - loss: 0.3702 - accuracy: 0.3106 - val_loss: 0.4064 - val_accuracy: 0.3147\n",
      "Epoch 37/50\n",
      "2811/2811 [==============================] - 3s 952us/step - loss: 0.3702 - accuracy: 0.3102 - val_loss: 0.4008 - val_accuracy: 0.3406\n",
      "Epoch 38/50\n",
      "2811/2811 [==============================] - 3s 982us/step - loss: 0.3702 - accuracy: 0.3142 - val_loss: 0.4077 - val_accuracy: 0.2570\n",
      "Epoch 39/50\n",
      "2811/2811 [==============================] - 3s 990us/step - loss: 0.3702 - accuracy: 0.3033 - val_loss: 0.3998 - val_accuracy: 0.3138\n",
      "Epoch 40/50\n",
      "2811/2811 [==============================] - 3s 961us/step - loss: 0.3702 - accuracy: 0.3142 - val_loss: 0.4116 - val_accuracy: 0.2544\n",
      "Epoch 41/50\n",
      "2811/2811 [==============================] - 3s 966us/step - loss: 0.3702 - accuracy: 0.3126 - val_loss: 0.4119 - val_accuracy: 0.2554\n",
      "Epoch 42/50\n",
      "2811/2811 [==============================] - 3s 966us/step - loss: 0.3703 - accuracy: 0.3065 - val_loss: 0.4183 - val_accuracy: 0.2628\n",
      "Epoch 43/50\n",
      "2811/2811 [==============================] - 3s 962us/step - loss: 0.3704 - accuracy: 0.3115 - val_loss: 0.3988 - val_accuracy: 0.2556\n",
      "Epoch 44/50\n",
      "2811/2811 [==============================] - 3s 994us/step - loss: 0.3703 - accuracy: 0.3088 - val_loss: 0.4030 - val_accuracy: 0.2568\n",
      "Epoch 45/50\n",
      "2811/2811 [==============================] - 3s 1ms/step - loss: 0.3702 - accuracy: 0.3079 - val_loss: 0.4045 - val_accuracy: 0.3308\n",
      "Epoch 46/50\n",
      "2811/2811 [==============================] - 3s 934us/step - loss: 0.3701 - accuracy: 0.3063 - val_loss: 0.3996 - val_accuracy: 0.3406\n",
      "Epoch 47/50\n",
      "2811/2811 [==============================] - 3s 938us/step - loss: 0.3703 - accuracy: 0.3118 - val_loss: 0.4011 - val_accuracy: 0.2567\n",
      "Epoch 48/50\n",
      "2811/2811 [==============================] - 3s 931us/step - loss: 0.3702 - accuracy: 0.3084 - val_loss: 0.4000 - val_accuracy: 0.2566\n",
      "Epoch 49/50\n",
      "2811/2811 [==============================] - 3s 938us/step - loss: 0.3703 - accuracy: 0.3126 - val_loss: 0.4001 - val_accuracy: 0.3402\n",
      "Epoch 50/50\n",
      "2811/2811 [==============================] - 3s 945us/step - loss: 0.3702 - accuracy: 0.3069 - val_loss: 0.4135 - val_accuracy: 0.2843\n"
     ]
    }
   ],
   "source": [
    "model = Sequential()\n",
    "model.add(Dense(64, activation='relu', input_shape=(X_train.shape[1],)))\n",
    "#model.add(Dropout(0.1))\n",
    "model.add(Dense(64, activation='relu'))\n",
    "#model.add(Dropout(0.1))\n",
    "model.add(Dense(y_train.shape[1], activation='sigmoid'))\n",
    "\n",
    "model.compile(loss='binary_crossentropy',\n",
    "              metrics=['accuracy'])\n",
    "\n",
    "history = model.fit(X_train,\n",
    "                    y_train,\n",
    "                    validation_data=(X_val, y_val),\n",
    "                    epochs=50,\n",
    "                    batch_size=20)"
   ]
  },
  {
   "cell_type": "code",
   "execution_count": 20,
   "metadata": {},
   "outputs": [
    {
     "data": {
      "text/html": [
       "<div>\n",
       "<style scoped>\n",
       "    .dataframe tbody tr th:only-of-type {\n",
       "        vertical-align: middle;\n",
       "    }\n",
       "\n",
       "    .dataframe tbody tr th {\n",
       "        vertical-align: top;\n",
       "    }\n",
       "\n",
       "    .dataframe thead th {\n",
       "        text-align: right;\n",
       "    }\n",
       "</style>\n",
       "<table border=\"1\" class=\"dataframe\">\n",
       "  <thead>\n",
       "    <tr style=\"text-align: right;\">\n",
       "      <th></th>\n",
       "      <th>open_close_pct_delta</th>\n",
       "      <th>vol</th>\n",
       "      <th>5min_vol_std</th>\n",
       "      <th>5min_ocd_std</th>\n",
       "      <th>scaled_volume</th>\n",
       "      <th>down_0.25_pct</th>\n",
       "      <th>down_0.2_pct</th>\n",
       "      <th>down_0.15_pct</th>\n",
       "      <th>down_0.1_pct</th>\n",
       "      <th>down_0.05_pct</th>\n",
       "      <th>up_0.05_pct</th>\n",
       "      <th>up_0.1_pct</th>\n",
       "      <th>up_0.15_pct</th>\n",
       "      <th>up_0.2_pct</th>\n",
       "      <th>up_0.25_pct</th>\n",
       "    </tr>\n",
       "    <tr>\n",
       "      <th>timestamp</th>\n",
       "      <th></th>\n",
       "      <th></th>\n",
       "      <th></th>\n",
       "      <th></th>\n",
       "      <th></th>\n",
       "      <th></th>\n",
       "      <th></th>\n",
       "      <th></th>\n",
       "      <th></th>\n",
       "      <th></th>\n",
       "      <th></th>\n",
       "      <th></th>\n",
       "      <th></th>\n",
       "      <th></th>\n",
       "      <th></th>\n",
       "    </tr>\n",
       "  </thead>\n",
       "  <tbody>\n",
       "    <tr>\n",
       "      <th>2019-10-15 14:37:00</th>\n",
       "      <td>0.000231</td>\n",
       "      <td>0.000461</td>\n",
       "      <td>0.000139</td>\n",
       "      <td>0.000243</td>\n",
       "      <td>0.003060</td>\n",
       "      <td>0.004815</td>\n",
       "      <td>0.011863</td>\n",
       "      <td>0.033764</td>\n",
       "      <td>0.110801</td>\n",
       "      <td>0.357050</td>\n",
       "      <td>0.352281</td>\n",
       "      <td>0.112882</td>\n",
       "      <td>0.032872</td>\n",
       "      <td>0.013193</td>\n",
       "      <td>0.005878</td>\n",
       "    </tr>\n",
       "    <tr>\n",
       "      <th>2019-10-15 14:38:00</th>\n",
       "      <td>-0.000696</td>\n",
       "      <td>0.000938</td>\n",
       "      <td>0.000198</td>\n",
       "      <td>0.000412</td>\n",
       "      <td>0.002121</td>\n",
       "      <td>0.012534</td>\n",
       "      <td>0.029129</td>\n",
       "      <td>0.072109</td>\n",
       "      <td>0.191828</td>\n",
       "      <td>0.470829</td>\n",
       "      <td>0.476153</td>\n",
       "      <td>0.202074</td>\n",
       "      <td>0.076320</td>\n",
       "      <td>0.032752</td>\n",
       "      <td>0.014791</td>\n",
       "    </tr>\n",
       "    <tr>\n",
       "      <th>2019-10-15 14:39:00</th>\n",
       "      <td>-0.000197</td>\n",
       "      <td>0.000922</td>\n",
       "      <td>0.000234</td>\n",
       "      <td>0.000331</td>\n",
       "      <td>0.005704</td>\n",
       "      <td>0.016972</td>\n",
       "      <td>0.036691</td>\n",
       "      <td>0.084571</td>\n",
       "      <td>0.209259</td>\n",
       "      <td>0.483321</td>\n",
       "      <td>0.486809</td>\n",
       "      <td>0.220237</td>\n",
       "      <td>0.089723</td>\n",
       "      <td>0.040802</td>\n",
       "      <td>0.019560</td>\n",
       "    </tr>\n",
       "    <tr>\n",
       "      <th>2019-10-15 14:40:00</th>\n",
       "      <td>0.000866</td>\n",
       "      <td>0.000924</td>\n",
       "      <td>0.000209</td>\n",
       "      <td>0.000587</td>\n",
       "      <td>0.005392</td>\n",
       "      <td>0.027537</td>\n",
       "      <td>0.057118</td>\n",
       "      <td>0.121692</td>\n",
       "      <td>0.268508</td>\n",
       "      <td>0.541919</td>\n",
       "      <td>0.547217</td>\n",
       "      <td>0.281246</td>\n",
       "      <td>0.130824</td>\n",
       "      <td>0.062167</td>\n",
       "      <td>0.030255</td>\n",
       "    </tr>\n",
       "    <tr>\n",
       "      <th>2019-10-15 14:41:00</th>\n",
       "      <td>-0.000231</td>\n",
       "      <td>0.000923</td>\n",
       "      <td>0.000208</td>\n",
       "      <td>0.000587</td>\n",
       "      <td>0.013734</td>\n",
       "      <td>0.055391</td>\n",
       "      <td>0.095968</td>\n",
       "      <td>0.171976</td>\n",
       "      <td>0.320487</td>\n",
       "      <td>0.570500</td>\n",
       "      <td>0.572256</td>\n",
       "      <td>0.337805</td>\n",
       "      <td>0.186950</td>\n",
       "      <td>0.103355</td>\n",
       "      <td>0.058615</td>\n",
       "    </tr>\n",
       "    <tr>\n",
       "      <th>...</th>\n",
       "      <td>...</td>\n",
       "      <td>...</td>\n",
       "      <td>...</td>\n",
       "      <td>...</td>\n",
       "      <td>...</td>\n",
       "      <td>...</td>\n",
       "      <td>...</td>\n",
       "      <td>...</td>\n",
       "      <td>...</td>\n",
       "      <td>...</td>\n",
       "      <td>...</td>\n",
       "      <td>...</td>\n",
       "      <td>...</td>\n",
       "      <td>...</td>\n",
       "      <td>...</td>\n",
       "    </tr>\n",
       "    <tr>\n",
       "      <th>2019-12-31 19:51:00</th>\n",
       "      <td>0.000023</td>\n",
       "      <td>0.000057</td>\n",
       "      <td>0.000083</td>\n",
       "      <td>0.000053</td>\n",
       "      <td>0.000536</td>\n",
       "      <td>0.001111</td>\n",
       "      <td>0.003362</td>\n",
       "      <td>0.012498</td>\n",
       "      <td>0.057077</td>\n",
       "      <td>0.266314</td>\n",
       "      <td>0.259050</td>\n",
       "      <td>0.058949</td>\n",
       "      <td>0.012018</td>\n",
       "      <td>0.004122</td>\n",
       "      <td>0.001589</td>\n",
       "    </tr>\n",
       "    <tr>\n",
       "      <th>2019-12-31 19:52:00</th>\n",
       "      <td>0.000000</td>\n",
       "      <td>0.000114</td>\n",
       "      <td>0.000083</td>\n",
       "      <td>0.000053</td>\n",
       "      <td>0.001050</td>\n",
       "      <td>0.001295</td>\n",
       "      <td>0.003799</td>\n",
       "      <td>0.013658</td>\n",
       "      <td>0.060177</td>\n",
       "      <td>0.271203</td>\n",
       "      <td>0.263696</td>\n",
       "      <td>0.061881</td>\n",
       "      <td>0.013099</td>\n",
       "      <td>0.004593</td>\n",
       "      <td>0.001814</td>\n",
       "    </tr>\n",
       "    <tr>\n",
       "      <th>2019-12-31 19:53:00</th>\n",
       "      <td>0.000171</td>\n",
       "      <td>0.000228</td>\n",
       "      <td>0.000083</td>\n",
       "      <td>0.000084</td>\n",
       "      <td>0.003101</td>\n",
       "      <td>0.002073</td>\n",
       "      <td>0.005609</td>\n",
       "      <td>0.018357</td>\n",
       "      <td>0.072569</td>\n",
       "      <td>0.292485</td>\n",
       "      <td>0.284814</td>\n",
       "      <td>0.074119</td>\n",
       "      <td>0.017548</td>\n",
       "      <td>0.006531</td>\n",
       "      <td>0.002742</td>\n",
       "    </tr>\n",
       "    <tr>\n",
       "      <th>2019-12-31 19:54:00</th>\n",
       "      <td>-0.000514</td>\n",
       "      <td>0.000514</td>\n",
       "      <td>0.000176</td>\n",
       "      <td>0.000260</td>\n",
       "      <td>0.002174</td>\n",
       "      <td>0.005062</td>\n",
       "      <td>0.012543</td>\n",
       "      <td>0.035589</td>\n",
       "      <td>0.115635</td>\n",
       "      <td>0.366542</td>\n",
       "      <td>0.363566</td>\n",
       "      <td>0.118831</td>\n",
       "      <td>0.035104</td>\n",
       "      <td>0.014065</td>\n",
       "      <td>0.006218</td>\n",
       "    </tr>\n",
       "    <tr>\n",
       "      <th>2019-12-31 19:55:00</th>\n",
       "      <td>0.000093</td>\n",
       "      <td>0.000229</td>\n",
       "      <td>0.000176</td>\n",
       "      <td>0.000270</td>\n",
       "      <td>0.001564</td>\n",
       "      <td>0.003542</td>\n",
       "      <td>0.009021</td>\n",
       "      <td>0.026982</td>\n",
       "      <td>0.094599</td>\n",
       "      <td>0.329961</td>\n",
       "      <td>0.323637</td>\n",
       "      <td>0.095542</td>\n",
       "      <td>0.025823</td>\n",
       "      <td>0.010055</td>\n",
       "      <td>0.004399</td>\n",
       "    </tr>\n",
       "  </tbody>\n",
       "</table>\n",
       "<p>18739 rows × 15 columns</p>\n",
       "</div>"
      ],
      "text/plain": [
       "                     open_close_pct_delta       vol  5min_vol_std  \\\n",
       "timestamp                                                           \n",
       "2019-10-15 14:37:00              0.000231  0.000461      0.000139   \n",
       "2019-10-15 14:38:00             -0.000696  0.000938      0.000198   \n",
       "2019-10-15 14:39:00             -0.000197  0.000922      0.000234   \n",
       "2019-10-15 14:40:00              0.000866  0.000924      0.000209   \n",
       "2019-10-15 14:41:00             -0.000231  0.000923      0.000208   \n",
       "...                                   ...       ...           ...   \n",
       "2019-12-31 19:51:00              0.000023  0.000057      0.000083   \n",
       "2019-12-31 19:52:00              0.000000  0.000114      0.000083   \n",
       "2019-12-31 19:53:00              0.000171  0.000228      0.000083   \n",
       "2019-12-31 19:54:00             -0.000514  0.000514      0.000176   \n",
       "2019-12-31 19:55:00              0.000093  0.000229      0.000176   \n",
       "\n",
       "                     5min_ocd_std  scaled_volume  down_0.25_pct  down_0.2_pct  \\\n",
       "timestamp                                                                       \n",
       "2019-10-15 14:37:00      0.000243       0.003060       0.004815      0.011863   \n",
       "2019-10-15 14:38:00      0.000412       0.002121       0.012534      0.029129   \n",
       "2019-10-15 14:39:00      0.000331       0.005704       0.016972      0.036691   \n",
       "2019-10-15 14:40:00      0.000587       0.005392       0.027537      0.057118   \n",
       "2019-10-15 14:41:00      0.000587       0.013734       0.055391      0.095968   \n",
       "...                           ...            ...            ...           ...   \n",
       "2019-12-31 19:51:00      0.000053       0.000536       0.001111      0.003362   \n",
       "2019-12-31 19:52:00      0.000053       0.001050       0.001295      0.003799   \n",
       "2019-12-31 19:53:00      0.000084       0.003101       0.002073      0.005609   \n",
       "2019-12-31 19:54:00      0.000260       0.002174       0.005062      0.012543   \n",
       "2019-12-31 19:55:00      0.000270       0.001564       0.003542      0.009021   \n",
       "\n",
       "                     down_0.15_pct  down_0.1_pct  down_0.05_pct  up_0.05_pct  \\\n",
       "timestamp                                                                      \n",
       "2019-10-15 14:37:00       0.033764      0.110801       0.357050     0.352281   \n",
       "2019-10-15 14:38:00       0.072109      0.191828       0.470829     0.476153   \n",
       "2019-10-15 14:39:00       0.084571      0.209259       0.483321     0.486809   \n",
       "2019-10-15 14:40:00       0.121692      0.268508       0.541919     0.547217   \n",
       "2019-10-15 14:41:00       0.171976      0.320487       0.570500     0.572256   \n",
       "...                            ...           ...            ...          ...   \n",
       "2019-12-31 19:51:00       0.012498      0.057077       0.266314     0.259050   \n",
       "2019-12-31 19:52:00       0.013658      0.060177       0.271203     0.263696   \n",
       "2019-12-31 19:53:00       0.018357      0.072569       0.292485     0.284814   \n",
       "2019-12-31 19:54:00       0.035589      0.115635       0.366542     0.363566   \n",
       "2019-12-31 19:55:00       0.026982      0.094599       0.329961     0.323637   \n",
       "\n",
       "                     up_0.1_pct  up_0.15_pct  up_0.2_pct  up_0.25_pct  \n",
       "timestamp                                                              \n",
       "2019-10-15 14:37:00    0.112882     0.032872    0.013193     0.005878  \n",
       "2019-10-15 14:38:00    0.202074     0.076320    0.032752     0.014791  \n",
       "2019-10-15 14:39:00    0.220237     0.089723    0.040802     0.019560  \n",
       "2019-10-15 14:40:00    0.281246     0.130824    0.062167     0.030255  \n",
       "2019-10-15 14:41:00    0.337805     0.186950    0.103355     0.058615  \n",
       "...                         ...          ...         ...          ...  \n",
       "2019-12-31 19:51:00    0.058949     0.012018    0.004122     0.001589  \n",
       "2019-12-31 19:52:00    0.061881     0.013099    0.004593     0.001814  \n",
       "2019-12-31 19:53:00    0.074119     0.017548    0.006531     0.002742  \n",
       "2019-12-31 19:54:00    0.118831     0.035104    0.014065     0.006218  \n",
       "2019-12-31 19:55:00    0.095542     0.025823    0.010055     0.004399  \n",
       "\n",
       "[18739 rows x 15 columns]"
      ]
     },
     "metadata": {},
     "output_type": "display_data"
    }
   ],
   "source": [
    "def test_predictions(model):\n",
    "    test_df = X_test.copy()\n",
    "    predictions = []\n",
    "    for idx, row in test_df.iterrows():\n",
    "        predictions.append(model.predict(np.reshape(row.to_numpy(), (-1, len(FEATURES))))[0])\n",
    "\n",
    "    return test_df.assign(**{label: [pred[idx] for pred in predictions]\n",
    "                             for idx, label in enumerate(LABELS)})\n",
    "\n",
    "display(test_predictions(model))"
   ]
  },
  {
   "cell_type": "markdown",
   "metadata": {
    "colab_type": "text",
    "id": "x7RqRC2MxvRz"
   },
   "source": [
    "# 4. Tuning"
   ]
  },
  {
   "cell_type": "code",
   "execution_count": 21,
   "metadata": {
    "colab": {},
    "colab_type": "code",
    "id": "yH1_VKA4xvR0"
   },
   "outputs": [
    {
     "data": {
      "image/png": "[encoded data removed]",
      "text/plain": [
       "<Figure size 640x480 with 1 Axes>"
      ]
     },
     "metadata": {},
     "output_type": "display_data"
    }
   ],
   "source": [
    "import matplotlib.pyplot as plt\n",
    "\n",
    "def plot_loss(history):\n",
    "    loss = history.history['loss']\n",
    "    val_loss = history.history['val_loss']\n",
    "\n",
    "    epochs = range(1, len(loss) + 1)\n",
    "\n",
    "    plt.plot(epochs, loss, label='Training loss ({:.3}%)'.format(min(loss)*100))\n",
    "    plt.plot(epochs, val_loss, label='Validation loss ({:.3}%)'.format(min(val_loss)*100))\n",
    "    plt.title('Training and validation loss')\n",
    "    plt.xlabel('Epochs')\n",
    "    plt.ylabel('Loss')\n",
    "    plt.legend()\n",
    "\n",
    "    plt.show()\n",
    "    \n",
    "plot_loss(history)"
   ]
  },
  {
   "cell_type": "code",
   "execution_count": 22,
   "metadata": {},
   "outputs": [
    {
     "data": {
      "image/png": "[encoded data removed]",
      "text/plain": [
       "<Figure size 640x480 with 1 Axes>"
      ]
     },
     "metadata": {},
     "output_type": "display_data"
    }
   ],
   "source": [
    "def plot_accuracy(history):\n",
    "    acc = history.history['accuracy']\n",
    "    val_acc = history.history['val_accuracy']\n",
    "\n",
    "    epochs = range(1, len(acc) + 1)\n",
    "    \n",
    "    plt.plot(epochs, acc, label='Training acc ({:.3}%)'.format(max(acc)*100))\n",
    "    plt.plot(epochs, val_acc, label='Validation acc ({:.3}%)'.format(max(val_acc)*100))\n",
    "    plt.title('Training and validation accuracy')\n",
    "    plt.xlabel('Epochs')\n",
    "    plt.ylabel('Loss')\n",
    "    plt.legend()\n",
    "\n",
    "    plt.show()\n",
    "    \n",
    "plot_accuracy(history)"
   ]
  },
  {
   "cell_type": "markdown",
   "metadata": {
    "colab_type": "text",
    "id": "hfo8dHFwxvR3"
   },
   "source": [
    "# 5. Analysis"
   ]
  },
  {
   "cell_type": "code",
   "execution_count": null,
   "metadata": {
    "colab": {},
    "colab_type": "code",
    "id": "xTcPA-xbxvR3"
   },
   "outputs": [],
   "source": []
  },
  {
   "cell_type": "code",
   "execution_count": null,
   "metadata": {},
   "outputs": [],
   "source": []
  }
 ],
 "metadata": {
  "colab": {
   "collapsed_sections": [],
   "name": "pbc-analysis.ipynb",
   "provenance": [],
   "toc_visible": true
  },
  "kernelspec": {
   "display_name": "Python 3",
   "language": "python",
   "name": "python3"
  },
  "language_info": {
   "codemirror_mode": {
    "name": "ipython",
    "version": 3
   },
   "file_extension": ".py",
   "mimetype": "text/x-python",
   "name": "python",
   "nbconvert_exporter": "python",
   "pygments_lexer": "ipython3",
   "version": "3.8.5"
  },
  "widgets": {
   "application/vnd.jupyter.widget-state+json": {
    "4370bc0aa922470d8c1210e5b7e2bd22": {
     "model_module": "@jupyter-widgets/controls",
     "model_name": "ProgressStyleModel",
     "state": {
      "_model_module": "@jupyter-widgets/controls",
      "_model_module_version": "1.5.0",
      "_model_name": "ProgressStyleModel",
      "_view_count": null,
      "_view_module": "@jupyter-widgets/base",
      "_view_module_version": "1.2.0",
      "_view_name": "StyleView",
      "bar_color": null,
      "description_width": "initial"
     }
    },
    "451fdabc1cbe4f818c6a9843166167a9": {
     "model_module": "@jupyter-widgets/base",
     "model_name": "LayoutModel",
     "state": {
      "_model_module": "@jupyter-widgets/base",
      "_model_module_version": "1.2.0",
      "_model_name": "LayoutModel",
      "_view_count": null,
      "_view_module": "@jupyter-widgets/base",
      "_view_module_version": "1.2.0",
      "_view_name": "LayoutView",
      "align_content": null,
      "align_items": null,
      "align_self": null,
      "border": null,
      "bottom": null,
      "display": null,
      "flex": null,
      "flex_flow": null,
      "grid_area": null,
      "grid_auto_columns": null,
      "grid_auto_flow": null,
      "grid_auto_rows": null,
      "grid_column": null,
      "grid_gap": null,
      "grid_row": null,
      "grid_template_areas": null,
      "grid_template_columns": null,
      "grid_template_rows": null,
      "height": null,
      "justify_content": null,
      "justify_items": null,
      "left": null,
      "margin": null,
      "max_height": null,
      "max_width": null,
      "min_height": null,
      "min_width": null,
      "object_fit": null,
      "object_position": null,
      "order": null,
      "overflow": null,
      "overflow_x": null,
      "overflow_y": null,
      "padding": null,
      "right": null,
      "top": null,
      "visibility": null,
      "width": null
     }
    },
    "48aecc6e0994466eb58ca20a51d0bff0": {
     "model_module": "@jupyter-widgets/controls",
     "model_name": "FloatProgressModel",
     "state": {
      "_dom_classes": [],
      "_model_module": "@jupyter-widgets/controls",
      "_model_module_version": "1.5.0",
      "_model_name": "FloatProgressModel",
      "_view_count": null,
      "_view_module": "@jupyter-widgets/controls",
      "_view_module_version": "1.5.0",
      "_view_name": "ProgressView",
      "bar_style": "success",
      "description": "100%",
      "description_tooltip": null,
      "layout": "IPY_MODEL_451fdabc1cbe4f818c6a9843166167a9",
      "max": 4616,
      "min": 0,
      "orientation": "horizontal",
      "style": "IPY_MODEL_4370bc0aa922470d8c1210e5b7e2bd22",
      "value": 4616
     }
    },
    "4bbddb9b608b4e62941b64abdabc0d34": {
     "model_module": "@jupyter-widgets/base",
     "model_name": "LayoutModel",
     "state": {
      "_model_module": "@jupyter-widgets/base",
      "_model_module_version": "1.2.0",
      "_model_name": "LayoutModel",
      "_view_count": null,
      "_view_module": "@jupyter-widgets/base",
      "_view_module_version": "1.2.0",
      "_view_name": "LayoutView",
      "align_content": null,
      "align_items": null,
      "align_self": null,
      "border": null,
      "bottom": null,
      "display": null,
      "flex": null,
      "flex_flow": null,
      "grid_area": null,
      "grid_auto_columns": null,
      "grid_auto_flow": null,
      "grid_auto_rows": null,
      "grid_column": null,
      "grid_gap": null,
      "grid_row": null,
      "grid_template_areas": null,
      "grid_template_columns": null,
      "grid_template_rows": null,
      "height": null,
      "justify_content": null,
      "justify_items": null,
      "left": null,
      "margin": null,
      "max_height": null,
      "max_width": null,
      "min_height": null,
      "min_width": null,
      "object_fit": null,
      "object_position": null,
      "order": null,
      "overflow": null,
      "overflow_x": null,
      "overflow_y": null,
      "padding": null,
      "right": null,
      "top": null,
      "visibility": null,
      "width": null
     }
    },
    "5695d19b03c3453485fd376c6a396a8f": {
     "model_module": "@jupyter-widgets/base",
     "model_name": "LayoutModel",
     "state": {
      "_model_module": "@jupyter-widgets/base",
      "_model_module_version": "1.2.0",
      "_model_name": "LayoutModel",
      "_view_count": null,
      "_view_module": "@jupyter-widgets/base",
      "_view_module_version": "1.2.0",
      "_view_name": "LayoutView",
      "align_content": null,
      "align_items": null,
      "align_self": null,
      "border": null,
      "bottom": null,
      "display": null,
      "flex": null,
      "flex_flow": null,
      "grid_area": null,
      "grid_auto_columns": null,
      "grid_auto_flow": null,
      "grid_auto_rows": null,
      "grid_column": null,
      "grid_gap": null,
      "grid_row": null,
      "grid_template_areas": null,
      "grid_template_columns": null,
      "grid_template_rows": null,
      "height": null,
      "justify_content": null,
      "justify_items": null,
      "left": null,
      "margin": null,
      "max_height": null,
      "max_width": null,
      "min_height": null,
      "min_width": null,
      "object_fit": null,
      "object_position": null,
      "order": null,
      "overflow": null,
      "overflow_x": null,
      "overflow_y": null,
      "padding": null,
      "right": null,
      "top": null,
      "visibility": null,
      "width": null
     }
    },
    "65ff9d0068e842b99450b47f9caf2962": {
     "model_module": "@jupyter-widgets/controls",
     "model_name": "HBoxModel",
     "state": {
      "_dom_classes": [],
      "_model_module": "@jupyter-widgets/controls",
      "_model_module_version": "1.5.0",
      "_model_name": "HBoxModel",
      "_view_count": null,
      "_view_module": "@jupyter-widgets/controls",
      "_view_module_version": "1.5.0",
      "_view_name": "HBoxView",
      "box_style": "",
      "children": [
       "IPY_MODEL_48aecc6e0994466eb58ca20a51d0bff0",
       "IPY_MODEL_d59605b96a4b4eb4a9a09ec7c8cfb29d"
      ],
      "layout": "IPY_MODEL_5695d19b03c3453485fd376c6a396a8f"
     }
    },
    "cdfa6889ca3a405baf3cad0015a42bd3": {
     "model_module": "@jupyter-widgets/controls",
     "model_name": "DescriptionStyleModel",
     "state": {
      "_model_module": "@jupyter-widgets/controls",
      "_model_module_version": "1.5.0",
      "_model_name": "DescriptionStyleModel",
      "_view_count": null,
      "_view_module": "@jupyter-widgets/base",
      "_view_module_version": "1.2.0",
      "_view_name": "StyleView",
      "description_width": ""
     }
    },
    "d59605b96a4b4eb4a9a09ec7c8cfb29d": {
     "model_module": "@jupyter-widgets/controls",
     "model_name": "HTMLModel",
     "state": {
      "_dom_classes": [],
      "_model_module": "@jupyter-widgets/controls",
      "_model_module_version": "1.5.0",
      "_model_name": "HTMLModel",
      "_view_count": null,
      "_view_module": "@jupyter-widgets/controls",
      "_view_module_version": "1.5.0",
      "_view_name": "HTMLView",
      "description": "",
      "description_tooltip": null,
      "layout": "IPY_MODEL_4bbddb9b608b4e62941b64abdabc0d34",
      "placeholder": "​",
      "style": "IPY_MODEL_cdfa6889ca3a405baf3cad0015a42bd3",
      "value": " 4616/4616 [00:55&lt;00:00, 83.86it/s]"
     }
    }
   }
  }
 },
 "nbformat": 4,
 "nbformat_minor": 1
}
