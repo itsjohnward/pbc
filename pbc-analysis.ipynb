{
 "cells": [
  {
   "cell_type": "code",
   "execution_count": 1,
   "metadata": {},
   "outputs": [],
   "source": [
    "# RUNTIME = 'colab'\n",
    "RUNTIME = 'local'"
   ]
  },
  {
   "cell_type": "code",
   "execution_count": 2,
   "metadata": {
    "colab": {},
    "colab_type": "code",
    "executionInfo": {
     "elapsed": 47983,
     "status": "ok",
     "timestamp": 1596762565734,
     "user": {
      "displayName": "John Ward",
      "photoUrl": "https://lh3.googleusercontent.com/a-/AOh14Ghf8-rSYPt5lZkKsWM1gZPoGmQcbXjrB8rZhOvfSdo=s64",
      "userId": "07427441145968700929"
     },
     "user_tz": 240
    },
    "id": "4AYGir29xzyt"
   },
   "outputs": [],
   "source": [
    "if RUNTIME == 'colab':\n",
    "    %%capture\n",
    "    !pip install polygon-api-client\n",
    "    !pip install requests\n",
    "    !pip install pandas\n",
    "    !pip install tqdm\n",
    "    !pip install mplfinance\n",
    "    !pip install tensorflow\n",
    "    !pip install numpy\n",
    "    !pip install matplotlib\n",
    "    !pip install scikit-learn\n",
    "    !pip install fastparquet"
   ]
  },
  {
   "cell_type": "code",
   "execution_count": 132,
   "metadata": {
    "colab": {},
    "colab_type": "code",
    "executionInfo": {
     "elapsed": 1991,
     "status": "ok",
     "timestamp": 1596762580081,
     "user": {
      "displayName": "John Ward",
      "photoUrl": "https://lh3.googleusercontent.com/a-/AOh14Ghf8-rSYPt5lZkKsWM1gZPoGmQcbXjrB8rZhOvfSdo=s64",
      "userId": "07427441145968700929"
     },
     "user_tz": 240
    },
    "id": "_QygdXGVxvRL"
   },
   "outputs": [],
   "source": [
    "import os\n",
    "import calendar\n",
    "from datetime import datetime, timedelta\n",
    "from functools import partial\n",
    "\n",
    "from polygon import RESTClient\n",
    "import requests\n",
    "import pandas as pd\n",
    "from tqdm.notebook import tqdm\n",
    "import mplfinance as mpf\n",
    "\n",
    "from tensorflow.keras.models import Sequential\n",
    "from tensorflow.keras.layers import (Dense,\n",
    "                                     Dropout,\n",
    "                                     Activation,\n",
    "                                     SimpleRNN,\n",
    "                                     Flatten)\n",
    "from tensorflow.keras.metrics import Precision, Recall, AUC\n",
    "\n",
    "import numpy as np\n",
    "\n",
    "from sklearn.preprocessing import MinMaxScaler"
   ]
  },
  {
   "cell_type": "code",
   "execution_count": 4,
   "metadata": {
    "colab": {
     "base_uri": "https://localhost:8080/",
     "height": 122
    },
    "colab_type": "code",
    "executionInfo": {
     "elapsed": 27991,
     "status": "ok",
     "timestamp": 1596762611872,
     "user": {
      "displayName": "John Ward",
      "photoUrl": "https://lh3.googleusercontent.com/a-/AOh14Ghf8-rSYPt5lZkKsWM1gZPoGmQcbXjrB8rZhOvfSdo=s64",
      "userId": "07427441145968700929"
     },
     "user_tz": 240
    },
    "id": "dyKWgdQufx-V",
    "outputId": "5964fb16-c50d-435e-fbd2-1a525f90048b"
   },
   "outputs": [],
   "source": [
    "if RUNTIME == 'colab':\n",
    "    from google.colab import drive\n",
    "    drive.mount('/content/drive')"
   ]
  },
  {
   "cell_type": "markdown",
   "metadata": {
    "colab_type": "text",
    "id": "fVaoV9z0xvRP"
   },
   "source": [
    "# 1. Load Data"
   ]
  },
  {
   "cell_type": "code",
   "execution_count": 5,
   "metadata": {
    "colab": {},
    "colab_type": "code",
    "executionInfo": {
     "elapsed": 301,
     "status": "ok",
     "timestamp": 1596762630193,
     "user": {
      "displayName": "John Ward",
      "photoUrl": "https://lh3.googleusercontent.com/a-/AOh14Ghf8-rSYPt5lZkKsWM1gZPoGmQcbXjrB8rZhOvfSdo=s64",
      "userId": "07427441145968700929"
     },
     "user_tz": 240
    },
    "id": "yu8OCvboxvRQ"
   },
   "outputs": [],
   "source": [
    "def get(path, params={}):\n",
    "    session = requests.Session()\n",
    "    url = 'https://api.polygon.io' + path\n",
    "    params['apiKey'] = os.environ['POLYGON_API_KEY']\n",
    "    resp = session.request('GET', url, params=params)\n",
    "    resp.raise_for_status()\n",
    "    return resp.json()"
   ]
  },
  {
   "cell_type": "code",
   "execution_count": 6,
   "metadata": {
    "colab": {},
    "colab_type": "code",
    "executionInfo": {
     "elapsed": 277,
     "status": "ok",
     "timestamp": 1596762630769,
     "user": {
      "displayName": "John Ward",
      "photoUrl": "https://lh3.googleusercontent.com/a-/AOh14Ghf8-rSYPt5lZkKsWM1gZPoGmQcbXjrB8rZhOvfSdo=s64",
      "userId": "07427441145968700929"
     },
     "user_tz": 240
    },
    "id": "92NlEnR6xvRS"
   },
   "outputs": [],
   "source": [
    "def get_bars(from_date, to_date):\n",
    "    if isinstance(from_date, datetime):\n",
    "        from_date = datetime.strftime(from_date, '%Y-%m-%d')\n",
    "    if isinstance(to_date, datetime):\n",
    "        to_date = datetime.strftime(to_date, '%Y-%m-%d')\n",
    "    return get('/v2/aggs/ticker/{}/range/{}/{}/{}/{}'.format('SBUX',\n",
    "                                                             1,\n",
    "                                                             'minute',\n",
    "                                                             from_date,\n",
    "                                                             to_date))['results']"
   ]
  },
  {
   "cell_type": "code",
   "execution_count": 7,
   "metadata": {
    "colab": {},
    "colab_type": "code",
    "executionInfo": {
     "elapsed": 332,
     "status": "ok",
     "timestamp": 1596762631695,
     "user": {
      "displayName": "John Ward",
      "photoUrl": "https://lh3.googleusercontent.com/a-/AOh14Ghf8-rSYPt5lZkKsWM1gZPoGmQcbXjrB8rZhOvfSdo=s64",
      "userId": "07427441145968700929"
     },
     "user_tz": 240
    },
    "id": "W0mZwzMjxvRY"
   },
   "outputs": [],
   "source": [
    "class TradingDay:\n",
    "    def __init__(self, date):\n",
    "        if isinstance(date, str):\n",
    "            self.start = datetime.strptime(date, '%Y-%m-%d')\n",
    "        if isinstance(date, datetime):\n",
    "            self.start = date\n",
    "        self.end = self.start + timedelta(days=1)\n",
    "        #self.weekday = calendar.day_name[self.start.weekday()]\n",
    "        self.bars = pd.DataFrame(columns=['timestamp',\n",
    "                                          'volume',\n",
    "                                          'open',\n",
    "                                          'close',\n",
    "                                          'high',\n",
    "                                          'low',\n",
    "                                          'num_trades'])\n",
    "        for bar in get_bars(self.start, self.end):\n",
    "            self.bars = self.bars.append({\n",
    "                'timestamp': bar['t'],\n",
    "                'volume': bar['v'],\n",
    "                'open': bar['o'],\n",
    "                'close': bar['c'],\n",
    "                'high': bar['h'],\n",
    "                'low': bar['l'],\n",
    "                'num_trades': bar.get('n', 0)\n",
    "            }, ignore_index=True)\n",
    "        \n",
    "class TradingYear:\n",
    "    def __init__(self, year):\n",
    "        self.days = [\n",
    "            TradingDay(\n",
    "                datetime.strptime(\n",
    "                    '{}-2019'.format(str(day)), '%j-%Y'\n",
    "                )\n",
    "            ) for day in tqdm(range(1,366))\n",
    "        ]\n",
    "   \n",
    "    def get_bars(self):\n",
    "        return pd.concat([day.bars for day in self.days])"
   ]
  },
  {
   "cell_type": "markdown",
   "metadata": {},
   "source": [
    "If there is a data file, load it. If not, request data from the Polygon API and save it to a file."
   ]
  },
  {
   "cell_type": "code",
   "execution_count": 8,
   "metadata": {
    "colab": {},
    "colab_type": "code",
    "executionInfo": {
     "elapsed": 1283,
     "status": "ok",
     "timestamp": 1596762638583,
     "user": {
      "displayName": "John Ward",
      "photoUrl": "https://lh3.googleusercontent.com/a-/AOh14Ghf8-rSYPt5lZkKsWM1gZPoGmQcbXjrB8rZhOvfSdo=s64",
      "userId": "07427441145968700929"
     },
     "user_tz": 240
    },
    "id": "PQA2pzpAxvRa"
   },
   "outputs": [],
   "source": [
    "if RUNTIME == 'local':\n",
    "    DIR = '.data/2019_year_df.parquet.gzip'\n",
    "elif RUNTIME == 'colab':\n",
    "    DIR = '/content/drive/My Drive/pbc/2019_year_df.parquet.gzip'\n",
    "\n",
    "try:\n",
    "    year_df = pd.read_parquet(DIR)\n",
    "except FileNotFoundError as e:\n",
    "    year_df = TradingYear(2019).get_bars()\n",
    "    year_df['timestamp'] = pd.to_datetime(year_df['timestamp'], unit='ms')\n",
    "    year_df = year_df.set_index('timestamp')\n",
    "    year_df.to_parquet(DIR, compression='gzip')"
   ]
  },
  {
   "cell_type": "code",
   "execution_count": 9,
   "metadata": {
    "colab": {
     "base_uri": "https://localhost:8080/",
     "height": 294
    },
    "colab_type": "code",
    "executionInfo": {
     "elapsed": 1407,
     "status": "ok",
     "timestamp": 1596762646632,
     "user": {
      "displayName": "John Ward",
      "photoUrl": "https://lh3.googleusercontent.com/a-/AOh14Ghf8-rSYPt5lZkKsWM1gZPoGmQcbXjrB8rZhOvfSdo=s64",
      "userId": "07427441145968700929"
     },
     "user_tz": 240
    },
    "id": "6OryKo9GxvRj",
    "outputId": "d0cc97d3-e3cd-47a5-bb57-b4d40303da49"
   },
   "outputs": [
    {
     "data": {
      "text/plain": [
       "<AxesSubplot:xlabel='timestamp'>"
      ]
     },
     "execution_count": 9,
     "metadata": {},
     "output_type": "execute_result"
    },
    {
     "data": {
      "image/png": "[encoded data removed]",
      "text/plain": [
       "<Figure size 432x288 with 1 Axes>"
      ]
     },
     "metadata": {
      "needs_background": "light"
     },
     "output_type": "display_data"
    }
   ],
   "source": [
    "year_df[['high', 'low']].plot()"
   ]
  },
  {
   "cell_type": "code",
   "execution_count": 10,
   "metadata": {
    "colab": {
     "base_uri": "https://localhost:8080/",
     "height": 487
    },
    "colab_type": "code",
    "executionInfo": {
     "elapsed": 2094,
     "status": "ok",
     "timestamp": 1596762650531,
     "user": {
      "displayName": "John Ward",
      "photoUrl": "https://lh3.googleusercontent.com/a-/AOh14Ghf8-rSYPt5lZkKsWM1gZPoGmQcbXjrB8rZhOvfSdo=s64",
      "userId": "07427441145968700929"
     },
     "user_tz": 240
    },
    "id": "1x60CdFCxvRn",
    "outputId": "97444e94-908b-4181-ccf2-61b12e9b783f"
   },
   "outputs": [
    {
     "data": {
      "image/png": "[encoded data removed]",
      "text/plain": [
       "<Figure size 800x575 with 4 Axes>"
      ]
     },
     "metadata": {},
     "output_type": "display_data"
    }
   ],
   "source": [
    "mpf.plot(year_df.loc['2019-01-02 15:00':'2019-01-02 22:00',:], type='candle', volume=True, show_nontrading=True, style='yahoo')\n"
   ]
  },
  {
   "cell_type": "markdown",
   "metadata": {
    "colab_type": "text",
    "id": "-UPgKg9OxvRq"
   },
   "source": [
    "# 2. Feature Engineering"
   ]
  },
  {
   "cell_type": "code",
   "execution_count": 11,
   "metadata": {
    "colab": {
     "base_uri": "https://localhost:8080/",
     "height": 235
    },
    "colab_type": "code",
    "executionInfo": {
     "elapsed": 326,
     "status": "ok",
     "timestamp": 1596762653209,
     "user": {
      "displayName": "John Ward",
      "photoUrl": "https://lh3.googleusercontent.com/a-/AOh14Ghf8-rSYPt5lZkKsWM1gZPoGmQcbXjrB8rZhOvfSdo=s64",
      "userId": "07427441145968700929"
     },
     "user_tz": 240
    },
    "id": "P7JC2nyNxvRq",
    "outputId": "9c103731-c09d-4acc-cb50-2989849364f3"
   },
   "outputs": [
    {
     "data": {
      "text/html": [
       "<div>\n",
       "<style scoped>\n",
       "    .dataframe tbody tr th:only-of-type {\n",
       "        vertical-align: middle;\n",
       "    }\n",
       "\n",
       "    .dataframe tbody tr th {\n",
       "        vertical-align: top;\n",
       "    }\n",
       "\n",
       "    .dataframe thead th {\n",
       "        text-align: right;\n",
       "    }\n",
       "</style>\n",
       "<table border=\"1\" class=\"dataframe\">\n",
       "  <thead>\n",
       "    <tr style=\"text-align: right;\">\n",
       "      <th></th>\n",
       "      <th>volume</th>\n",
       "      <th>open</th>\n",
       "      <th>close</th>\n",
       "      <th>high</th>\n",
       "      <th>low</th>\n",
       "      <th>num_trades</th>\n",
       "    </tr>\n",
       "    <tr>\n",
       "      <th>timestamp</th>\n",
       "      <th></th>\n",
       "      <th></th>\n",
       "      <th></th>\n",
       "      <th></th>\n",
       "      <th></th>\n",
       "      <th></th>\n",
       "    </tr>\n",
       "  </thead>\n",
       "  <tbody>\n",
       "    <tr>\n",
       "      <th>2019-01-02 12:17:00</th>\n",
       "      <td>300.0</td>\n",
       "      <td>63.67</td>\n",
       "      <td>63.68</td>\n",
       "      <td>63.68</td>\n",
       "      <td>63.67</td>\n",
       "      <td>4.0</td>\n",
       "    </tr>\n",
       "    <tr>\n",
       "      <th>2019-01-02 12:21:00</th>\n",
       "      <td>487.0</td>\n",
       "      <td>63.50</td>\n",
       "      <td>63.53</td>\n",
       "      <td>63.53</td>\n",
       "      <td>63.50</td>\n",
       "      <td>5.0</td>\n",
       "    </tr>\n",
       "    <tr>\n",
       "      <th>2019-01-02 12:22:00</th>\n",
       "      <td>1949.0</td>\n",
       "      <td>63.50</td>\n",
       "      <td>63.50</td>\n",
       "      <td>63.50</td>\n",
       "      <td>63.47</td>\n",
       "      <td>8.0</td>\n",
       "    </tr>\n",
       "    <tr>\n",
       "      <th>2019-01-02 12:31:00</th>\n",
       "      <td>203.0</td>\n",
       "      <td>63.52</td>\n",
       "      <td>63.52</td>\n",
       "      <td>63.52</td>\n",
       "      <td>63.52</td>\n",
       "      <td>3.0</td>\n",
       "    </tr>\n",
       "    <tr>\n",
       "      <th>2019-01-02 12:34:00</th>\n",
       "      <td>238.0</td>\n",
       "      <td>63.55</td>\n",
       "      <td>63.55</td>\n",
       "      <td>63.55</td>\n",
       "      <td>63.55</td>\n",
       "      <td>4.0</td>\n",
       "    </tr>\n",
       "  </tbody>\n",
       "</table>\n",
       "</div>"
      ],
      "text/plain": [
       "                     volume   open  close   high    low  num_trades\n",
       "timestamp                                                          \n",
       "2019-01-02 12:17:00   300.0  63.67  63.68  63.68  63.67         4.0\n",
       "2019-01-02 12:21:00   487.0  63.50  63.53  63.53  63.50         5.0\n",
       "2019-01-02 12:22:00  1949.0  63.50  63.50  63.50  63.47         8.0\n",
       "2019-01-02 12:31:00   203.0  63.52  63.52  63.52  63.52         3.0\n",
       "2019-01-02 12:34:00   238.0  63.55  63.55  63.55  63.55         4.0"
      ]
     },
     "execution_count": 11,
     "metadata": {},
     "output_type": "execute_result"
    }
   ],
   "source": [
    "year_df.head()"
   ]
  },
  {
   "cell_type": "markdown",
   "metadata": {},
   "source": [
    "Compute the labels we're training for:"
   ]
  },
  {
   "cell_type": "code",
   "execution_count": 12,
   "metadata": {},
   "outputs": [],
   "source": [
    "WINDOW_SIZE = 5  # looking 5 bars into the future\n",
    "\n",
    "PCT_WINDOWS = [0.05, 0.1, 0.15, 0.2, 0.25]\n",
    "LABELS = (['down_{}_pct'.format(pct) for pct in sorted(PCT_WINDOWS, reverse=True)] +\n",
    "          ['up_{}_pct'.format(pct) for pct in sorted(PCT_WINDOWS)])"
   ]
  },
  {
   "cell_type": "code",
   "execution_count": 14,
   "metadata": {},
   "outputs": [
    {
     "name": "stderr",
     "output_type": "stream",
     "text": [
      "/Users/john/.local/share/virtualenvs/pbc-AS_-2Y6Z/lib/python3.8/site-packages/tqdm/std.py:668: FutureWarning: The Panel class is removed from pandas. Accessing it from the top-level namespace will also be removed in the next version\n",
      "  from pandas import Panel\n"
     ]
    }
   ],
   "source": [
    "tqdm.pandas()  # graphical load bar\n",
    "\n",
    "def compute_label(formatted_df, pct, direction, row):\n",
    "    window = formatted_df[formatted_df.index > row.name].iloc[:WINDOW_SIZE]\n",
    "    if len(window) == WINDOW_SIZE:\n",
    "        if direction == 'up':\n",
    "            return int(max(window['high']) >= row['close']*(1+(pct/100)))\n",
    "        return int(min(window['low']) <= row['close']*(1-(pct/100)))\n",
    "    return None"
   ]
  },
  {
   "cell_type": "code",
   "execution_count": 15,
   "metadata": {},
   "outputs": [
    {
     "data": {
      "application/vnd.jupyter.widget-view+json": {
       "model_id": "c2d2f6ad86794c36ae5777c839a3a01d",
       "version_major": 2,
       "version_minor": 0
      },
      "text/plain": [
       "HBox(children=(FloatProgress(value=0.0, max=93692.0), HTML(value='')))"
      ]
     },
     "metadata": {},
     "output_type": "display_data"
    },
    {
     "name": "stdout",
     "output_type": "stream",
     "text": [
      "\n"
     ]
    },
    {
     "data": {
      "application/vnd.jupyter.widget-view+json": {
       "model_id": "b992d642da16487589eb96d9d10e1355",
       "version_major": 2,
       "version_minor": 0
      },
      "text/plain": [
       "HBox(children=(FloatProgress(value=0.0, max=93692.0), HTML(value='')))"
      ]
     },
     "metadata": {},
     "output_type": "display_data"
    },
    {
     "name": "stdout",
     "output_type": "stream",
     "text": [
      "\n"
     ]
    },
    {
     "data": {
      "application/vnd.jupyter.widget-view+json": {
       "model_id": "bc9ff4479c5148a29b610b756d02ebe7",
       "version_major": 2,
       "version_minor": 0
      },
      "text/plain": [
       "HBox(children=(FloatProgress(value=0.0, max=93692.0), HTML(value='')))"
      ]
     },
     "metadata": {},
     "output_type": "display_data"
    },
    {
     "name": "stdout",
     "output_type": "stream",
     "text": [
      "\n"
     ]
    },
    {
     "data": {
      "application/vnd.jupyter.widget-view+json": {
       "model_id": "785896940a754e75b3a3e6fe5e833d15",
       "version_major": 2,
       "version_minor": 0
      },
      "text/plain": [
       "HBox(children=(FloatProgress(value=0.0, max=93692.0), HTML(value='')))"
      ]
     },
     "metadata": {},
     "output_type": "display_data"
    },
    {
     "name": "stdout",
     "output_type": "stream",
     "text": [
      "\n"
     ]
    },
    {
     "data": {
      "application/vnd.jupyter.widget-view+json": {
       "model_id": "f9eda52249d9459c91cfbe88c0c71958",
       "version_major": 2,
       "version_minor": 0
      },
      "text/plain": [
       "HBox(children=(FloatProgress(value=0.0, max=93692.0), HTML(value='')))"
      ]
     },
     "metadata": {},
     "output_type": "display_data"
    },
    {
     "name": "stdout",
     "output_type": "stream",
     "text": [
      "\n"
     ]
    },
    {
     "data": {
      "application/vnd.jupyter.widget-view+json": {
       "model_id": "8b91850009dc4d49bac9e30f7c19b634",
       "version_major": 2,
       "version_minor": 0
      },
      "text/plain": [
       "HBox(children=(FloatProgress(value=0.0, max=93692.0), HTML(value='')))"
      ]
     },
     "metadata": {},
     "output_type": "display_data"
    },
    {
     "name": "stdout",
     "output_type": "stream",
     "text": [
      "\n"
     ]
    },
    {
     "data": {
      "application/vnd.jupyter.widget-view+json": {
       "model_id": "ca3f330b2a1143c49bc573579b33b1b4",
       "version_major": 2,
       "version_minor": 0
      },
      "text/plain": [
       "HBox(children=(FloatProgress(value=0.0, max=93692.0), HTML(value='')))"
      ]
     },
     "metadata": {},
     "output_type": "display_data"
    },
    {
     "name": "stdout",
     "output_type": "stream",
     "text": [
      "\n"
     ]
    },
    {
     "data": {
      "application/vnd.jupyter.widget-view+json": {
       "model_id": "e9c789a7d3c24c9b9c7407467bad4e04",
       "version_major": 2,
       "version_minor": 0
      },
      "text/plain": [
       "HBox(children=(FloatProgress(value=0.0, max=93692.0), HTML(value='')))"
      ]
     },
     "metadata": {},
     "output_type": "display_data"
    },
    {
     "name": "stdout",
     "output_type": "stream",
     "text": [
      "\n"
     ]
    },
    {
     "data": {
      "application/vnd.jupyter.widget-view+json": {
       "model_id": "6dfe1290c5b14cf49a3b908745315ad2",
       "version_major": 2,
       "version_minor": 0
      },
      "text/plain": [
       "HBox(children=(FloatProgress(value=0.0, max=93692.0), HTML(value='')))"
      ]
     },
     "metadata": {},
     "output_type": "display_data"
    },
    {
     "name": "stdout",
     "output_type": "stream",
     "text": [
      "\n"
     ]
    },
    {
     "data": {
      "application/vnd.jupyter.widget-view+json": {
       "model_id": "9efd054a0fe14a95abd6c065a2d67f92",
       "version_major": 2,
       "version_minor": 0
      },
      "text/plain": [
       "HBox(children=(FloatProgress(value=0.0, max=93692.0), HTML(value='')))"
      ]
     },
     "metadata": {},
     "output_type": "display_data"
    },
    {
     "name": "stdout",
     "output_type": "stream",
     "text": [
      "\n"
     ]
    }
   ],
   "source": [
    "if RUNTIME == 'local':\n",
    "    FORMATTED_DF_DIR = '.data/formatted_df.parquet.gzip'\n",
    "elif RUNTIME == 'colab':\n",
    "    FORMATTED_DF_DIR = '/content/drive/My Drive/pbc/formatted_df.parquet.gzip'\n",
    "\n",
    "try:\n",
    "    formatted_df = pd.read_parquet(FORMATTED_DF_DIR)\n",
    "except FileNotFoundError as e:\n",
    "    # sanitize\n",
    "    formatted_df = (year_df\n",
    "        .sort_index(inplace=False)\n",
    "        .drop_duplicates()\n",
    "        # filter out times before 9:30 and after 4:00\n",
    "        .between_time('13:30','20:00')\n",
    "        .dropna()\n",
    "    )\n",
    "    \n",
    "    # compute labels\n",
    "    for pct in [0.05, 0.1, 0.15, 0.2, 0.25]:\n",
    "        formatted_df['up_{}_pct'.format(pct)] = formatted_df.progress_apply(partial(compute_label, formatted_df, pct, 'up'), axis=1)\n",
    "        formatted_df['down_{}_pct'.format(pct)] = formatted_df.progress_apply(partial(compute_label, formatted_df, pct, 'down'), axis=1)\n",
    "    \n",
    "    # compute features\n",
    "    formatted_df['open_close_pct_delta'] = (formatted_df['close'] - formatted_df['open'])/formatted_df['open']\n",
    "    formatted_df['vol'] = (formatted_df['high'] - formatted_df['low'])/formatted_df['open']\n",
    "    formatted_df['{}min_vol_std'.format(WINDOW_SIZE)] = formatted_df['vol'].rolling(5).std()\n",
    "    formatted_df['{}min_ocd_std'.format(WINDOW_SIZE)] = formatted_df['open_close_pct_delta'].rolling(5).std()\n",
    "    scaler = MinMaxScaler()\n",
    "    formatted_df[['scaled_volume']] = scaler.fit_transform(formatted_df[['volume']])\n",
    "    \n",
    "    \n",
    "    formatted_df = formatted_df.dropna()\n",
    "    formatted_df.to_parquet(FORMATTED_DF_DIR, compression='gzip')\n"
   ]
  },
  {
   "cell_type": "code",
   "execution_count": 16,
   "metadata": {
    "colab": {
     "base_uri": "https://localhost:8080/",
     "height": 528
    },
    "colab_type": "code",
    "executionInfo": {
     "elapsed": 46323,
     "status": "ok",
     "timestamp": 1596762714371,
     "user": {
      "displayName": "John Ward",
      "photoUrl": "https://lh3.googleusercontent.com/a-/AOh14Ghf8-rSYPt5lZkKsWM1gZPoGmQcbXjrB8rZhOvfSdo=s64",
      "userId": "07427441145968700929"
     },
     "user_tz": 240
    },
    "id": "KluuaRue4nTY",
    "outputId": "ae6396b6-c978-4b84-d40a-9fd4eb1970f1"
   },
   "outputs": [],
   "source": [
    "#mpf.plot(formatted_df, type='candle', volume=True, show_nontrading=True, style='yahoo')"
   ]
  },
  {
   "cell_type": "code",
   "execution_count": 17,
   "metadata": {
    "colab": {
     "base_uri": "https://localhost:8080/",
     "height": 447
    },
    "colab_type": "code",
    "executionInfo": {
     "elapsed": 44499,
     "status": "ok",
     "timestamp": 1596762714750,
     "user": {
      "displayName": "John Ward",
      "photoUrl": "https://lh3.googleusercontent.com/a-/AOh14Ghf8-rSYPt5lZkKsWM1gZPoGmQcbXjrB8rZhOvfSdo=s64",
      "userId": "07427441145968700929"
     },
     "user_tz": 240
    },
    "id": "22RoebdZKpor",
    "outputId": "96215601-6d58-4239-c146-5657fce4699c"
   },
   "outputs": [
    {
     "data": {
      "image/png": "[encoded data removed]",
      "text/plain": [
       "<Figure size 640x480 with 1 Axes>"
      ]
     },
     "metadata": {},
     "output_type": "display_data"
    }
   ],
   "source": [
    "def plot_label_frequency():\n",
    "    formatted_df[LABELS].sum().plot(kind='bar')\n",
    "plot_label_frequency()"
   ]
  },
  {
   "cell_type": "markdown",
   "metadata": {
    "colab_type": "text",
    "id": "bm0mNjQmxvRx"
   },
   "source": [
    "# 3. Attempt #1: Simple Neural Net"
   ]
  },
  {
   "cell_type": "code",
   "execution_count": 37,
   "metadata": {
    "colab": {},
    "colab_type": "code",
    "executionInfo": {
     "elapsed": 428,
     "status": "ok",
     "timestamp": 1596767509744,
     "user": {
      "displayName": "John Ward",
      "photoUrl": "https://lh3.googleusercontent.com/a-/AOh14Ghf8-rSYPt5lZkKsWM1gZPoGmQcbXjrB8rZhOvfSdo=s64",
      "userId": "07427441145968700929"
     },
     "user_tz": 240
    },
    "id": "XrJfVKURXT9x"
   },
   "outputs": [
    {
     "data": {
      "text/html": [
       "<div>\n",
       "<style scoped>\n",
       "    .dataframe tbody tr th:only-of-type {\n",
       "        vertical-align: middle;\n",
       "    }\n",
       "\n",
       "    .dataframe tbody tr th {\n",
       "        vertical-align: top;\n",
       "    }\n",
       "\n",
       "    .dataframe thead th {\n",
       "        text-align: right;\n",
       "    }\n",
       "</style>\n",
       "<table border=\"1\" class=\"dataframe\">\n",
       "  <thead>\n",
       "    <tr style=\"text-align: right;\">\n",
       "      <th></th>\n",
       "      <th>open_close_pct_delta</th>\n",
       "      <th>vol</th>\n",
       "      <th>5min_vol_std</th>\n",
       "      <th>5min_ocd_std</th>\n",
       "      <th>scaled_volume</th>\n",
       "    </tr>\n",
       "  </thead>\n",
       "  <tbody>\n",
       "    <tr>\n",
       "      <th>count</th>\n",
       "      <td>93683.000000</td>\n",
       "      <td>93683.000000</td>\n",
       "      <td>93683.000000</td>\n",
       "      <td>93683.000000</td>\n",
       "      <td>93683.000000</td>\n",
       "    </tr>\n",
       "    <tr>\n",
       "      <th>mean</th>\n",
       "      <td>-0.000006</td>\n",
       "      <td>0.000589</td>\n",
       "      <td>0.000258</td>\n",
       "      <td>0.000410</td>\n",
       "      <td>0.006672</td>\n",
       "    </tr>\n",
       "    <tr>\n",
       "      <th>std</th>\n",
       "      <td>0.000527</td>\n",
       "      <td>0.000551</td>\n",
       "      <td>0.000291</td>\n",
       "      <td>0.000336</td>\n",
       "      <td>0.012736</td>\n",
       "    </tr>\n",
       "    <tr>\n",
       "      <th>min</th>\n",
       "      <td>-0.013842</td>\n",
       "      <td>0.000000</td>\n",
       "      <td>0.000000</td>\n",
       "      <td>0.000000</td>\n",
       "      <td>0.000000</td>\n",
       "    </tr>\n",
       "    <tr>\n",
       "      <th>25%</th>\n",
       "      <td>-0.000235</td>\n",
       "      <td>0.000289</td>\n",
       "      <td>0.000128</td>\n",
       "      <td>0.000218</td>\n",
       "      <td>0.002808</td>\n",
       "    </tr>\n",
       "    <tr>\n",
       "      <th>50%</th>\n",
       "      <td>0.000000</td>\n",
       "      <td>0.000456</td>\n",
       "      <td>0.000190</td>\n",
       "      <td>0.000325</td>\n",
       "      <td>0.004432</td>\n",
       "    </tr>\n",
       "    <tr>\n",
       "      <th>75%</th>\n",
       "      <td>0.000223</td>\n",
       "      <td>0.000710</td>\n",
       "      <td>0.000291</td>\n",
       "      <td>0.000492</td>\n",
       "      <td>0.007208</td>\n",
       "    </tr>\n",
       "    <tr>\n",
       "      <th>max</th>\n",
       "      <td>0.009662</td>\n",
       "      <td>0.021831</td>\n",
       "      <td>0.008706</td>\n",
       "      <td>0.008565</td>\n",
       "      <td>1.000000</td>\n",
       "    </tr>\n",
       "  </tbody>\n",
       "</table>\n",
       "</div>"
      ],
      "text/plain": [
       "       open_close_pct_delta           vol  5min_vol_std  5min_ocd_std  \\\n",
       "count          93683.000000  93683.000000  93683.000000  93683.000000   \n",
       "mean              -0.000006      0.000589      0.000258      0.000410   \n",
       "std                0.000527      0.000551      0.000291      0.000336   \n",
       "min               -0.013842      0.000000      0.000000      0.000000   \n",
       "25%               -0.000235      0.000289      0.000128      0.000218   \n",
       "50%                0.000000      0.000456      0.000190      0.000325   \n",
       "75%                0.000223      0.000710      0.000291      0.000492   \n",
       "max                0.009662      0.021831      0.008706      0.008565   \n",
       "\n",
       "       scaled_volume  \n",
       "count   93683.000000  \n",
       "mean        0.006672  \n",
       "std         0.012736  \n",
       "min         0.000000  \n",
       "25%         0.002808  \n",
       "50%         0.004432  \n",
       "75%         0.007208  \n",
       "max         1.000000  "
      ]
     },
     "metadata": {},
     "output_type": "display_data"
    }
   ],
   "source": [
    "FEATURES = ['open_close_pct_delta', 'vol', '5min_vol_std', '5min_ocd_std', 'scaled_volume']\n",
    "\n",
    "X_all = formatted_df[FEATURES]\n",
    "twenty_pct = (len(X_all)//5)\n",
    "X_train, X_val, X_test = X_all[:twenty_pct*3], X_all[twenty_pct*3:twenty_pct*4], X_all[twenty_pct*4:]\n",
    "y_all = formatted_df[LABELS]\n",
    "y_train, y_val, y_test = y_all[:twenty_pct*3], y_all[twenty_pct*3:twenty_pct*4], y_all[twenty_pct*4:]\n",
    "\n",
    "display(X_all.describe())"
   ]
  },
  {
   "cell_type": "code",
   "execution_count": 62,
   "metadata": {
    "colab": {
     "base_uri": "https://localhost:8080/",
     "height": 187
    },
    "colab_type": "code",
    "executionInfo": {
     "elapsed": 43260,
     "status": "ok",
     "timestamp": 1596767555492,
     "user": {
      "displayName": "John Ward",
      "photoUrl": "https://lh3.googleusercontent.com/a-/AOh14Ghf8-rSYPt5lZkKsWM1gZPoGmQcbXjrB8rZhOvfSdo=s64",
      "userId": "07427441145968700929"
     },
     "user_tz": 240
    },
    "id": "wV05mGUsxvRx",
    "outputId": "81cadac4-0352-4b05-ec71-16fda6a3f11c"
   },
   "outputs": [
    {
     "name": "stdout",
     "output_type": "stream",
     "text": [
      "Epoch 1/50\n",
      "2811/2811 [==============================] - 5s 2ms/step - loss: 0.4006 - accuracy: 0.3100 - precision_3: 0.5350 - recall_3: 0.2312 - auc_1: 0.6158 - val_loss: 0.4226 - val_accuracy: 0.2614 - val_precision_3: 0.6607 - val_recall_3: 0.1591 - val_auc_1: 0.7057\n",
      "Epoch 2/50\n",
      "2811/2811 [==============================] - 4s 2ms/step - loss: 0.3811 - accuracy: 0.3098 - precision_3: 0.5863 - recall_3: 0.2588 - auc_1: 0.6925 - val_loss: 0.4335 - val_accuracy: 0.2557 - val_precision_3: 0.6937 - val_recall_3: 0.1319 - val_auc_1: 0.7210\n",
      "Epoch 3/50\n",
      "2811/2811 [==============================] - 4s 2ms/step - loss: 0.3755 - accuracy: 0.3125 - precision_3: 0.5947 - recall_3: 0.2788 - auc_1: 0.7108 - val_loss: 0.4191 - val_accuracy: 0.2745 - val_precision_3: 0.6831 - val_recall_3: 0.1908 - val_auc_1: 0.7315\n",
      "Epoch 4/50\n",
      "2811/2811 [==============================] - 4s 1ms/step - loss: 0.3724 - accuracy: 0.3117 - precision_3: 0.5998 - recall_3: 0.2935 - auc_1: 0.7189 - val_loss: 0.3997 - val_accuracy: 0.2705 - val_precision_3: 0.6223 - val_recall_3: 0.3406 - val_auc_1: 0.7342\n",
      "Epoch 5/50\n",
      "2811/2811 [==============================] - 4s 1ms/step - loss: 0.3716 - accuracy: 0.3107 - precision_3: 0.5999 - recall_3: 0.3045 - auc_1: 0.7209 - val_loss: 0.3992 - val_accuracy: 0.2584 - val_precision_3: 0.6103 - val_recall_3: 0.3758 - val_auc_1: 0.7338\n",
      "Epoch 6/50\n",
      "2811/2811 [==============================] - 4s 1ms/step - loss: 0.3716 - accuracy: 0.3118 - precision_3: 0.5991 - recall_3: 0.3116 - auc_1: 0.7213 - val_loss: 0.4034 - val_accuracy: 0.2737 - val_precision_3: 0.5833 - val_recall_3: 0.4468 - val_auc_1: 0.7338\n",
      "Epoch 7/50\n",
      "2811/2811 [==============================] - 4s 1ms/step - loss: 0.3712 - accuracy: 0.3075 - precision_3: 0.5976 - recall_3: 0.3121 - auc_1: 0.7229 - val_loss: 0.4034 - val_accuracy: 0.2561 - val_precision_3: 0.6525 - val_recall_3: 0.2660 - val_auc_1: 0.7332\n",
      "Epoch 8/50\n",
      "2811/2811 [==============================] - 4s 1ms/step - loss: 0.3713 - accuracy: 0.3082 - precision_3: 0.5993 - recall_3: 0.3088 - auc_1: 0.7223 - val_loss: 0.4000 - val_accuracy: 0.3406 - val_precision_3: 0.6230 - val_recall_3: 0.3391 - val_auc_1: 0.7336\n",
      "Epoch 9/50\n",
      "2811/2811 [==============================] - 4s 1ms/step - loss: 0.3711 - accuracy: 0.3111 - precision_3: 0.6002 - recall_3: 0.3130 - auc_1: 0.7231 - val_loss: 0.4001 - val_accuracy: 0.3406 - val_precision_3: 0.5917 - val_recall_3: 0.4229 - val_auc_1: 0.7339\n",
      "Epoch 10/50\n",
      "2811/2811 [==============================] - 4s 1ms/step - loss: 0.3710 - accuracy: 0.3115 - precision_3: 0.5983 - recall_3: 0.3154 - auc_1: 0.7239 - val_loss: 0.4103 - val_accuracy: 0.2819 - val_precision_3: 0.6745 - val_recall_3: 0.2169 - val_auc_1: 0.7337\n",
      "Epoch 11/50\n",
      "2811/2811 [==============================] - 4s 1ms/step - loss: 0.3709 - accuracy: 0.3062 - precision_3: 0.6011 - recall_3: 0.3072 - auc_1: 0.7235 - val_loss: 0.4037 - val_accuracy: 0.2758 - val_precision_3: 0.6446 - val_recall_3: 0.2840 - val_auc_1: 0.7337\n",
      "Epoch 12/50\n",
      "2811/2811 [==============================] - 4s 1ms/step - loss: 0.3707 - accuracy: 0.3169 - precision_3: 0.6012 - recall_3: 0.3091 - auc_1: 0.7237 - val_loss: 0.4054 - val_accuracy: 0.2636 - val_precision_3: 0.6493 - val_recall_3: 0.2727 - val_auc_1: 0.7336\n",
      "Epoch 13/50\n",
      "2811/2811 [==============================] - 4s 1ms/step - loss: 0.3705 - accuracy: 0.3131 - precision_3: 0.6002 - recall_3: 0.3103 - auc_1: 0.7247 - val_loss: 0.4020 - val_accuracy: 0.2656 - val_precision_3: 0.6425 - val_recall_3: 0.2874 - val_auc_1: 0.7337\n",
      "Epoch 14/50\n",
      "2811/2811 [==============================] - 4s 2ms/step - loss: 0.3706 - accuracy: 0.3061 - precision_3: 0.6012 - recall_3: 0.3104 - auc_1: 0.7250 - val_loss: 0.4090 - val_accuracy: 0.3406 - val_precision_3: 0.6710 - val_recall_3: 0.2301 - val_auc_1: 0.7339\n",
      "Epoch 15/50\n",
      "2811/2811 [==============================] - 4s 2ms/step - loss: 0.3706 - accuracy: 0.3102 - precision_3: 0.6001 - recall_3: 0.3110 - auc_1: 0.7243 - val_loss: 0.3999 - val_accuracy: 0.2766 - val_precision_3: 0.6057 - val_recall_3: 0.3875 - val_auc_1: 0.7339\n",
      "Epoch 16/50\n",
      "2811/2811 [==============================] - 4s 2ms/step - loss: 0.3706 - accuracy: 0.3184 - precision_3: 0.5997 - recall_3: 0.3132 - auc_1: 0.7244 - val_loss: 0.4007 - val_accuracy: 0.2609 - val_precision_3: 0.6400 - val_recall_3: 0.2960 - val_auc_1: 0.7338\n",
      "Epoch 17/50\n",
      "2811/2811 [==============================] - 4s 2ms/step - loss: 0.3706 - accuracy: 0.3098 - precision_3: 0.6027 - recall_3: 0.3075 - auc_1: 0.7243 - val_loss: 0.4118 - val_accuracy: 0.3406 - val_precision_3: 0.6688 - val_recall_3: 0.2301 - val_auc_1: 0.7336\n",
      "Epoch 18/50\n",
      "2811/2811 [==============================] - 4s 2ms/step - loss: 0.3705 - accuracy: 0.3147 - precision_3: 0.6010 - recall_3: 0.3096 - auc_1: 0.7255 - val_loss: 0.4109 - val_accuracy: 0.2601 - val_precision_3: 0.6654 - val_recall_3: 0.2387 - val_auc_1: 0.7329\n",
      "Epoch 19/50\n",
      "2811/2811 [==============================] - 5s 2ms/step - loss: 0.3704 - accuracy: 0.3084 - precision_3: 0.6021 - recall_3: 0.3103 - auc_1: 0.7250 - val_loss: 0.4204 - val_accuracy: 0.2562 - val_precision_3: 0.6771 - val_recall_3: 0.2096 - val_auc_1: 0.7324\n",
      "Epoch 20/50\n",
      "2811/2811 [==============================] - 4s 2ms/step - loss: 0.3705 - accuracy: 0.3071 - precision_3: 0.6023 - recall_3: 0.3139 - auc_1: 0.7249 - val_loss: 0.4029 - val_accuracy: 0.3306 - val_precision_3: 0.6429 - val_recall_3: 0.2868 - val_auc_1: 0.7337\n",
      "Epoch 21/50\n",
      "2811/2811 [==============================] - 4s 2ms/step - loss: 0.3704 - accuracy: 0.3149 - precision_3: 0.6034 - recall_3: 0.3111 - auc_1: 0.7249 - val_loss: 0.4065 - val_accuracy: 0.2716 - val_precision_3: 0.6607 - val_recall_3: 0.2480 - val_auc_1: 0.7332\n",
      "Epoch 22/50\n",
      "2811/2811 [==============================] - 4s 2ms/step - loss: 0.3704 - accuracy: 0.3100 - precision_3: 0.6025 - recall_3: 0.3115 - auc_1: 0.7253 - val_loss: 0.3992 - val_accuracy: 0.3404 - val_precision_3: 0.6112 - val_recall_3: 0.3739 - val_auc_1: 0.7342\n",
      "Epoch 23/50\n",
      "2811/2811 [==============================] - 4s 1ms/step - loss: 0.3704 - accuracy: 0.3090 - precision_3: 0.6030 - recall_3: 0.3082 - auc_1: 0.7253 - val_loss: 0.4017 - val_accuracy: 0.3406 - val_precision_3: 0.6378 - val_recall_3: 0.2989 - val_auc_1: 0.7335\n",
      "Epoch 24/50\n",
      "2811/2811 [==============================] - 4s 2ms/step - loss: 0.3705 - accuracy: 0.3173 - precision_3: 0.6027 - recall_3: 0.3097 - auc_1: 0.7252 - val_loss: 0.4007 - val_accuracy: 0.2580 - val_precision_3: 0.5949 - val_recall_3: 0.4075 - val_auc_1: 0.7337\n",
      "Epoch 25/50\n",
      "2811/2811 [==============================] - 4s 2ms/step - loss: 0.3705 - accuracy: 0.3136 - precision_3: 0.6033 - recall_3: 0.3129 - auc_1: 0.7251 - val_loss: 0.4151 - val_accuracy: 0.2621 - val_precision_3: 0.6734 - val_recall_3: 0.2208 - val_auc_1: 0.7333\n",
      "Epoch 26/50\n",
      "2811/2811 [==============================] - 4s 1ms/step - loss: 0.3704 - accuracy: 0.3058 - precision_3: 0.6010 - recall_3: 0.3139 - auc_1: 0.7259 - val_loss: 0.4084 - val_accuracy: 0.3406 - val_precision_3: 0.6554 - val_recall_3: 0.2579 - val_auc_1: 0.7335\n",
      "Epoch 27/50\n",
      "2811/2811 [==============================] - 4s 2ms/step - loss: 0.3704 - accuracy: 0.3085 - precision_3: 0.6016 - recall_3: 0.3125 - auc_1: 0.7254 - val_loss: 0.4050 - val_accuracy: 0.2550 - val_precision_3: 0.6470 - val_recall_3: 0.2773 - val_auc_1: 0.7336\n",
      "Epoch 28/50\n",
      "2811/2811 [==============================] - 4s 1ms/step - loss: 0.3703 - accuracy: 0.3123 - precision_3: 0.6021 - recall_3: 0.3158 - auc_1: 0.7261 - val_loss: 0.3995 - val_accuracy: 0.2569 - val_precision_3: 0.6286 - val_recall_3: 0.3248 - val_auc_1: 0.7341\n",
      "Epoch 29/50\n",
      "2811/2811 [==============================] - 4s 1ms/step - loss: 0.3704 - accuracy: 0.3045 - precision_3: 0.6003 - recall_3: 0.3144 - auc_1: 0.7256 - val_loss: 0.4001 - val_accuracy: 0.3406 - val_precision_3: 0.6088 - val_recall_3: 0.3764 - val_auc_1: 0.7339\n",
      "Epoch 30/50\n",
      "2811/2811 [==============================] - 4s 2ms/step - loss: 0.3703 - accuracy: 0.3082 - precision_3: 0.6030 - recall_3: 0.3132 - auc_1: 0.7261 - val_loss: 0.3999 - val_accuracy: 0.3100 - val_precision_3: 0.6126 - val_recall_3: 0.3659 - val_auc_1: 0.7339\n",
      "Epoch 31/50\n"
     ]
    },
    {
     "name": "stdout",
     "output_type": "stream",
     "text": [
      "2811/2811 [==============================] - 4s 1ms/step - loss: 0.3704 - accuracy: 0.3090 - precision_3: 0.6021 - recall_3: 0.3160 - auc_1: 0.7258 - val_loss: 0.4008 - val_accuracy: 0.3406 - val_precision_3: 0.6189 - val_recall_3: 0.3458 - val_auc_1: 0.7340\n",
      "Epoch 32/50\n",
      "2811/2811 [==============================] - 4s 1ms/step - loss: 0.3704 - accuracy: 0.3168 - precision_3: 0.6021 - recall_3: 0.3134 - auc_1: 0.7260 - val_loss: 0.4002 - val_accuracy: 0.2580 - val_precision_3: 0.6292 - val_recall_3: 0.3262 - val_auc_1: 0.7335\n",
      "Epoch 33/50\n",
      "2811/2811 [==============================] - 4s 1ms/step - loss: 0.3702 - accuracy: 0.3120 - precision_3: 0.6023 - recall_3: 0.3146 - auc_1: 0.7264 - val_loss: 0.4052 - val_accuracy: 0.3406 - val_precision_3: 0.6389 - val_recall_3: 0.2962 - val_auc_1: 0.7330\n",
      "Epoch 34/50\n",
      "2811/2811 [==============================] - 4s 1ms/step - loss: 0.3702 - accuracy: 0.3112 - precision_3: 0.6028 - recall_3: 0.3124 - auc_1: 0.7258 - val_loss: 0.4010 - val_accuracy: 0.3406 - val_precision_3: 0.6318 - val_recall_3: 0.3141 - val_auc_1: 0.7336\n",
      "Epoch 35/50\n",
      "2811/2811 [==============================] - 4s 1ms/step - loss: 0.3703 - accuracy: 0.3138 - precision_3: 0.6030 - recall_3: 0.3099 - auc_1: 0.7254 - val_loss: 0.4094 - val_accuracy: 0.2901 - val_precision_3: 0.6659 - val_recall_3: 0.2350 - val_auc_1: 0.7335\n",
      "Epoch 36/50\n",
      "2811/2811 [==============================] - 4s 2ms/step - loss: 0.3702 - accuracy: 0.3127 - precision_3: 0.6029 - recall_3: 0.3127 - auc_1: 0.7262 - val_loss: 0.4003 - val_accuracy: 0.3376 - val_precision_3: 0.6118 - val_recall_3: 0.3689 - val_auc_1: 0.7340\n",
      "Epoch 37/50\n",
      "2811/2811 [==============================] - 4s 2ms/step - loss: 0.3702 - accuracy: 0.3085 - precision_3: 0.6017 - recall_3: 0.3119 - auc_1: 0.7264 - val_loss: 0.4025 - val_accuracy: 0.3099 - val_precision_3: 0.6485 - val_recall_3: 0.2768 - val_auc_1: 0.7336\n",
      "Epoch 38/50\n",
      "2811/2811 [==============================] - 4s 1ms/step - loss: 0.3702 - accuracy: 0.3176 - precision_3: 0.6033 - recall_3: 0.3095 - auc_1: 0.7263 - val_loss: 0.3991 - val_accuracy: 0.2597 - val_precision_3: 0.6274 - val_recall_3: 0.3293 - val_auc_1: 0.7344\n",
      "Epoch 39/50\n",
      "2811/2811 [==============================] - 4s 1ms/step - loss: 0.3703 - accuracy: 0.3061 - precision_3: 0.6023 - recall_3: 0.3119 - auc_1: 0.7256 - val_loss: 0.4063 - val_accuracy: 0.3345 - val_precision_3: 0.6418 - val_recall_3: 0.2880 - val_auc_1: 0.7339\n",
      "Epoch 40/50\n",
      "2811/2811 [==============================] - 4s 2ms/step - loss: 0.3702 - accuracy: 0.3169 - precision_3: 0.6027 - recall_3: 0.3134 - auc_1: 0.7262 - val_loss: 0.3994 - val_accuracy: 0.2650 - val_precision_3: 0.6221 - val_recall_3: 0.3467 - val_auc_1: 0.7342\n",
      "Epoch 41/50\n",
      "2811/2811 [==============================] - 4s 1ms/step - loss: 0.3702 - accuracy: 0.3089 - precision_3: 0.6039 - recall_3: 0.3135 - auc_1: 0.7262 - val_loss: 0.4000 - val_accuracy: 0.2554 - val_precision_3: 0.6305 - val_recall_3: 0.3215 - val_auc_1: 0.7340\n",
      "Epoch 42/50\n",
      "2811/2811 [==============================] - 4s 1ms/step - loss: 0.3701 - accuracy: 0.3108 - precision_3: 0.6029 - recall_3: 0.3135 - auc_1: 0.7263 - val_loss: 0.4217 - val_accuracy: 0.2612 - val_precision_3: 0.6778 - val_recall_3: 0.2136 - val_auc_1: 0.7314\n",
      "Epoch 43/50\n",
      "2811/2811 [==============================] - 4s 2ms/step - loss: 0.3702 - accuracy: 0.3139 - precision_3: 0.6030 - recall_3: 0.3135 - auc_1: 0.7263 - val_loss: 0.3990 - val_accuracy: 0.2583 - val_precision_3: 0.6154 - val_recall_3: 0.3640 - val_auc_1: 0.7340\n",
      "Epoch 44/50\n",
      "2811/2811 [==============================] - 4s 1ms/step - loss: 0.3701 - accuracy: 0.3105 - precision_3: 0.6029 - recall_3: 0.3147 - auc_1: 0.7263 - val_loss: 0.4017 - val_accuracy: 0.3405 - val_precision_3: 0.6283 - val_recall_3: 0.3225 - val_auc_1: 0.7341\n",
      "Epoch 45/50\n",
      "2811/2811 [==============================] - 4s 1ms/step - loss: 0.3701 - accuracy: 0.3158 - precision_3: 0.6012 - recall_3: 0.3133 - auc_1: 0.7266 - val_loss: 0.4028 - val_accuracy: 0.3283 - val_precision_3: 0.6499 - val_recall_3: 0.2681 - val_auc_1: 0.7339\n",
      "Epoch 46/50\n",
      "2811/2811 [==============================] - 4s 2ms/step - loss: 0.3701 - accuracy: 0.3149 - precision_3: 0.6023 - recall_3: 0.3151 - auc_1: 0.7268 - val_loss: 0.4039 - val_accuracy: 0.2586 - val_precision_3: 0.6498 - val_recall_3: 0.2718 - val_auc_1: 0.7337\n",
      "Epoch 47/50\n",
      "2811/2811 [==============================] - 4s 1ms/step - loss: 0.3701 - accuracy: 0.3104 - precision_3: 0.6029 - recall_3: 0.3126 - auc_1: 0.7267 - val_loss: 0.4034 - val_accuracy: 0.3406 - val_precision_3: 0.6431 - val_recall_3: 0.2875 - val_auc_1: 0.7341\n",
      "Epoch 48/50\n",
      "2811/2811 [==============================] - 4s 2ms/step - loss: 0.3701 - accuracy: 0.3118 - precision_3: 0.6034 - recall_3: 0.3135 - auc_1: 0.7264 - val_loss: 0.4009 - val_accuracy: 0.3393 - val_precision_3: 0.5873 - val_recall_3: 0.4405 - val_auc_1: 0.7342\n",
      "Epoch 49/50\n",
      "2811/2811 [==============================] - 4s 2ms/step - loss: 0.3700 - accuracy: 0.3150 - precision_3: 0.6017 - recall_3: 0.3168 - auc_1: 0.7267 - val_loss: 0.3988 - val_accuracy: 0.2587 - val_precision_3: 0.6113 - val_recall_3: 0.3780 - val_auc_1: 0.7342\n",
      "Epoch 50/50\n",
      "2811/2811 [==============================] - 4s 1ms/step - loss: 0.3701 - accuracy: 0.3105 - precision_3: 0.6022 - recall_3: 0.3137 - auc_1: 0.7270 - val_loss: 0.3993 - val_accuracy: 0.3189 - val_precision_3: 0.6270 - val_recall_3: 0.3279 - val_auc_1: 0.7339\n"
     ]
    }
   ],
   "source": [
    "model = Sequential()\n",
    "model.add(Dense(64, activation='relu', input_shape=(X_train.shape[1],)))\n",
    "#model.add(Dropout(0.1))\n",
    "model.add(Dense(64, activation='relu'))\n",
    "#model.add(Dropout(0.1))\n",
    "model.add(Dense(y_train.shape[1], activation='sigmoid'))\n",
    "\n",
    "model.compile(loss='binary_crossentropy',\n",
    "              metrics=['accuracy', Precision(), Recall(), AUC(multi_label=True)])\n",
    "\n",
    "history = model.fit(X_train,\n",
    "                    y_train,\n",
    "                    validation_data=(X_val, y_val),\n",
    "                    epochs=50,\n",
    "                    batch_size=20)"
   ]
  },
  {
   "cell_type": "code",
   "execution_count": 38,
   "metadata": {},
   "outputs": [
    {
     "name": "stdout",
     "output_type": "stream",
     "text": [
      "Model: \"sequential\"\n",
      "_________________________________________________________________\n",
      "Layer (type)                 Output Shape              Param #   \n",
      "=================================================================\n",
      "dense (Dense)                (None, 64)                384       \n",
      "_________________________________________________________________\n",
      "dense_1 (Dense)              (None, 64)                4160      \n",
      "_________________________________________________________________\n",
      "dense_2 (Dense)              (None, 10)                650       \n",
      "=================================================================\n",
      "Total params: 5,194\n",
      "Trainable params: 5,194\n",
      "Non-trainable params: 0\n",
      "_________________________________________________________________\n"
     ]
    }
   ],
   "source": [
    "model.summary()"
   ]
  },
  {
   "cell_type": "code",
   "execution_count": 58,
   "metadata": {
    "colab": {},
    "colab_type": "code",
    "id": "yH1_VKA4xvR0"
   },
   "outputs": [
    {
     "data": {
      "image/png": "[encoded data removed]",
      "text/plain": [
       "<Figure size 640x480 with 1 Axes>"
      ]
     },
     "metadata": {},
     "output_type": "display_data"
    }
   ],
   "source": [
    "import matplotlib.pyplot as plt\n",
    "\n",
    "def plot_loss(history):\n",
    "    fig, axis = plt.subplots()\n",
    "    color = next(axis._get_lines.prop_cycler)['color']\n",
    "    \n",
    "    loss = history.history['loss']\n",
    "    val_loss = history.history['val_loss']\n",
    "\n",
    "    epochs = range(1, len(loss) + 1)\n",
    "\n",
    "    axis.plot(epochs,\n",
    "              loss,\n",
    "              color=color,\n",
    "              linestyle='dotted',\n",
    "              label='Training loss ({:.3}%)'.format(min(loss)*100))\n",
    "    axis.plot(epochs,\n",
    "              val_loss,\n",
    "              color=color,\n",
    "              label='Validation loss ({:.3}%)'.format(min(val_loss)*100))\n",
    "    axis.set_title('Training and validation loss')\n",
    "    axis.set_xlabel('Epochs')\n",
    "    axis.set_ylabel('Loss')\n",
    "    axis.legend()\n",
    "\n",
    "    plt.show()\n",
    "    \n",
    "plot_loss(history)"
   ]
  },
  {
   "cell_type": "code",
   "execution_count": 144,
   "metadata": {},
   "outputs": [
    {
     "data": {
      "image/png": "[encoded data removed]",
      "text/plain": [
       "<Figure size 640x480 with 1 Axes>"
      ]
     },
     "metadata": {},
     "output_type": "display_data"
    }
   ],
   "source": [
    "def plot_recall_precision(history):\n",
    "    fig, axis = plt.subplots()\n",
    "    \n",
    "    color = next(axis._get_lines.prop_cycler)['color']\n",
    "    recall = history.history.get('recall') or history.history.get('recall_13')\n",
    "    val_recall = history.history.get('val_recall')  or history.history.get('val_recall_13')\n",
    "    \n",
    "    epochs = range(1, len(recall) + 1)\n",
    "    \n",
    "    axis.plot(epochs,\n",
    "             recall,\n",
    "             color=color,\n",
    "             linestyle='dotted',\n",
    "             label='Training recall ({:.3}%)'.format(max(recall)*100))\n",
    "    axis.plot(epochs,\n",
    "             val_recall,\n",
    "             color=color,\n",
    "             label='Validation recall ({:.3}%)'.format(max(val_recall)*100))\n",
    "    \n",
    "    color = next(axis._get_lines.prop_cycler)['color']\n",
    "    precision = history.history.get('precision')  or history.history.get('precision_13')\n",
    "    val_precision = history.history.get('val_precision')  or history.history.get('precision_13')\n",
    "    \n",
    "    axis.plot(epochs,\n",
    "             precision,\n",
    "             color=color,\n",
    "             linestyle='dotted',\n",
    "             label='Training precision ({:.3}%)'.format(max(precision)*100))\n",
    "    axis.plot(epochs,\n",
    "             val_precision,\n",
    "             color=color,\n",
    "             label='Validation precision ({:.3}%)'.format(max(val_precision)*100))\n",
    "    \n",
    "    axis.set_title('Recall and Precision')\n",
    "    axis.set_xlabel('Epochs')\n",
    "    axis.set_ylabel('Pct')\n",
    "    axis.legend()\n",
    "\n",
    "    plt.show()\n",
    "    \n",
    "plot_recall_precision(history)"
   ]
  },
  {
   "cell_type": "markdown",
   "metadata": {
    "colab_type": "text",
    "id": "x7RqRC2MxvRz"
   },
   "source": [
    "# 4. Attempt #2: SimpleRNN"
   ]
  },
  {
   "cell_type": "code",
   "execution_count": 115,
   "metadata": {},
   "outputs": [
    {
     "data": {
      "text/html": [
       "<div>\n",
       "<style scoped>\n",
       "    .dataframe tbody tr th:only-of-type {\n",
       "        vertical-align: middle;\n",
       "    }\n",
       "\n",
       "    .dataframe tbody tr th {\n",
       "        vertical-align: top;\n",
       "    }\n",
       "\n",
       "    .dataframe thead th {\n",
       "        text-align: right;\n",
       "    }\n",
       "</style>\n",
       "<table border=\"1\" class=\"dataframe\">\n",
       "  <thead>\n",
       "    <tr style=\"text-align: right;\">\n",
       "      <th></th>\n",
       "      <th>open_close_pct_delta</th>\n",
       "      <th>vol</th>\n",
       "      <th>5min_vol_std</th>\n",
       "      <th>5min_ocd_std</th>\n",
       "      <th>scaled_volume</th>\n",
       "    </tr>\n",
       "    <tr>\n",
       "      <th>timestamp</th>\n",
       "      <th></th>\n",
       "      <th></th>\n",
       "      <th></th>\n",
       "      <th></th>\n",
       "      <th></th>\n",
       "    </tr>\n",
       "  </thead>\n",
       "  <tbody>\n",
       "    <tr>\n",
       "      <th>2019-10-15 14:37:00</th>\n",
       "      <td>0.000231</td>\n",
       "      <td>0.000461</td>\n",
       "      <td>0.000139</td>\n",
       "      <td>0.000243</td>\n",
       "      <td>0.003060</td>\n",
       "    </tr>\n",
       "    <tr>\n",
       "      <th>2019-10-15 14:38:00</th>\n",
       "      <td>-0.000696</td>\n",
       "      <td>0.000938</td>\n",
       "      <td>0.000198</td>\n",
       "      <td>0.000412</td>\n",
       "      <td>0.002121</td>\n",
       "    </tr>\n",
       "    <tr>\n",
       "      <th>2019-10-15 14:39:00</th>\n",
       "      <td>-0.000197</td>\n",
       "      <td>0.000922</td>\n",
       "      <td>0.000234</td>\n",
       "      <td>0.000331</td>\n",
       "      <td>0.005704</td>\n",
       "    </tr>\n",
       "    <tr>\n",
       "      <th>2019-10-15 14:40:00</th>\n",
       "      <td>0.000866</td>\n",
       "      <td>0.000924</td>\n",
       "      <td>0.000209</td>\n",
       "      <td>0.000587</td>\n",
       "      <td>0.005392</td>\n",
       "    </tr>\n",
       "    <tr>\n",
       "      <th>2019-10-15 14:41:00</th>\n",
       "      <td>-0.000231</td>\n",
       "      <td>0.000923</td>\n",
       "      <td>0.000208</td>\n",
       "      <td>0.000587</td>\n",
       "      <td>0.013734</td>\n",
       "    </tr>\n",
       "  </tbody>\n",
       "</table>\n",
       "</div>"
      ],
      "text/plain": [
       "                     open_close_pct_delta       vol  5min_vol_std  \\\n",
       "timestamp                                                           \n",
       "2019-10-15 14:37:00              0.000231  0.000461      0.000139   \n",
       "2019-10-15 14:38:00             -0.000696  0.000938      0.000198   \n",
       "2019-10-15 14:39:00             -0.000197  0.000922      0.000234   \n",
       "2019-10-15 14:40:00              0.000866  0.000924      0.000209   \n",
       "2019-10-15 14:41:00             -0.000231  0.000923      0.000208   \n",
       "\n",
       "                     5min_ocd_std  scaled_volume  \n",
       "timestamp                                         \n",
       "2019-10-15 14:37:00      0.000243       0.003060  \n",
       "2019-10-15 14:38:00      0.000412       0.002121  \n",
       "2019-10-15 14:39:00      0.000331       0.005704  \n",
       "2019-10-15 14:40:00      0.000587       0.005392  \n",
       "2019-10-15 14:41:00      0.000587       0.013734  "
      ]
     },
     "metadata": {},
     "output_type": "display_data"
    },
    {
     "data": {
      "text/html": [
       "<div>\n",
       "<style scoped>\n",
       "    .dataframe tbody tr th:only-of-type {\n",
       "        vertical-align: middle;\n",
       "    }\n",
       "\n",
       "    .dataframe tbody tr th {\n",
       "        vertical-align: top;\n",
       "    }\n",
       "\n",
       "    .dataframe thead th {\n",
       "        text-align: right;\n",
       "    }\n",
       "</style>\n",
       "<table border=\"1\" class=\"dataframe\">\n",
       "  <thead>\n",
       "    <tr style=\"text-align: right;\">\n",
       "      <th></th>\n",
       "      <th>trailing_col</th>\n",
       "    </tr>\n",
       "    <tr>\n",
       "      <th>timestamp</th>\n",
       "      <th></th>\n",
       "    </tr>\n",
       "  </thead>\n",
       "  <tbody>\n",
       "    <tr>\n",
       "      <th>2019-01-02 14:32:00</th>\n",
       "      <td>[[0.0, 0.0, 0.0006213721524858403, 0.000656455...</td>\n",
       "    </tr>\n",
       "    <tr>\n",
       "      <th>2019-01-02 14:33:00</th>\n",
       "      <td>[[0.0, 0.0, 0.0006213721524858403, 0.000656455...</td>\n",
       "    </tr>\n",
       "    <tr>\n",
       "      <th>2019-01-02 14:34:00</th>\n",
       "      <td>[[-0.0010992462311557834, 0.00329773869346735,...</td>\n",
       "    </tr>\n",
       "    <tr>\n",
       "      <th>2019-01-02 14:35:00</th>\n",
       "      <td>[[0.005345911949685476, 0.005660377358490557, ...</td>\n",
       "    </tr>\n",
       "    <tr>\n",
       "      <th>2019-01-02 14:36:00</th>\n",
       "      <td>[[-0.0007822277847309803, 0.002346683354192718...</td>\n",
       "    </tr>\n",
       "  </tbody>\n",
       "</table>\n",
       "</div>"
      ],
      "text/plain": [
       "                                                          trailing_col\n",
       "timestamp                                                             \n",
       "2019-01-02 14:32:00  [[0.0, 0.0, 0.0006213721524858403, 0.000656455...\n",
       "2019-01-02 14:33:00  [[0.0, 0.0, 0.0006213721524858403, 0.000656455...\n",
       "2019-01-02 14:34:00  [[-0.0010992462311557834, 0.00329773869346735,...\n",
       "2019-01-02 14:35:00  [[0.005345911949685476, 0.005660377358490557, ...\n",
       "2019-01-02 14:36:00  [[-0.0007822277847309803, 0.002346683354192718..."
      ]
     },
     "metadata": {},
     "output_type": "display_data"
    },
    {
     "data": {
      "text/html": [
       "<div>\n",
       "<style scoped>\n",
       "    .dataframe tbody tr th:only-of-type {\n",
       "        vertical-align: middle;\n",
       "    }\n",
       "\n",
       "    .dataframe tbody tr th {\n",
       "        vertical-align: top;\n",
       "    }\n",
       "\n",
       "    .dataframe thead th {\n",
       "        text-align: right;\n",
       "    }\n",
       "</style>\n",
       "<table border=\"1\" class=\"dataframe\">\n",
       "  <thead>\n",
       "    <tr style=\"text-align: right;\">\n",
       "      <th></th>\n",
       "      <th>down_0.25_pct</th>\n",
       "      <th>down_0.2_pct</th>\n",
       "      <th>down_0.15_pct</th>\n",
       "      <th>down_0.1_pct</th>\n",
       "      <th>down_0.05_pct</th>\n",
       "      <th>up_0.05_pct</th>\n",
       "      <th>up_0.1_pct</th>\n",
       "      <th>up_0.15_pct</th>\n",
       "      <th>up_0.2_pct</th>\n",
       "      <th>up_0.25_pct</th>\n",
       "    </tr>\n",
       "    <tr>\n",
       "      <th>timestamp</th>\n",
       "      <th></th>\n",
       "      <th></th>\n",
       "      <th></th>\n",
       "      <th></th>\n",
       "      <th></th>\n",
       "      <th></th>\n",
       "      <th></th>\n",
       "      <th></th>\n",
       "      <th></th>\n",
       "      <th></th>\n",
       "    </tr>\n",
       "  </thead>\n",
       "  <tbody>\n",
       "    <tr>\n",
       "      <th>2019-01-02 14:32:00</th>\n",
       "      <td>1.0</td>\n",
       "      <td>1.0</td>\n",
       "      <td>1.0</td>\n",
       "      <td>1.0</td>\n",
       "      <td>1.0</td>\n",
       "      <td>1.0</td>\n",
       "      <td>1.0</td>\n",
       "      <td>0.0</td>\n",
       "      <td>0.0</td>\n",
       "      <td>0.0</td>\n",
       "    </tr>\n",
       "    <tr>\n",
       "      <th>2019-01-02 14:33:00</th>\n",
       "      <td>1.0</td>\n",
       "      <td>1.0</td>\n",
       "      <td>1.0</td>\n",
       "      <td>1.0</td>\n",
       "      <td>1.0</td>\n",
       "      <td>1.0</td>\n",
       "      <td>1.0</td>\n",
       "      <td>1.0</td>\n",
       "      <td>0.0</td>\n",
       "      <td>0.0</td>\n",
       "    </tr>\n",
       "    <tr>\n",
       "      <th>2019-01-02 14:34:00</th>\n",
       "      <td>1.0</td>\n",
       "      <td>1.0</td>\n",
       "      <td>1.0</td>\n",
       "      <td>1.0</td>\n",
       "      <td>1.0</td>\n",
       "      <td>1.0</td>\n",
       "      <td>1.0</td>\n",
       "      <td>1.0</td>\n",
       "      <td>0.0</td>\n",
       "      <td>0.0</td>\n",
       "    </tr>\n",
       "    <tr>\n",
       "      <th>2019-01-02 14:35:00</th>\n",
       "      <td>1.0</td>\n",
       "      <td>1.0</td>\n",
       "      <td>1.0</td>\n",
       "      <td>1.0</td>\n",
       "      <td>1.0</td>\n",
       "      <td>1.0</td>\n",
       "      <td>1.0</td>\n",
       "      <td>0.0</td>\n",
       "      <td>0.0</td>\n",
       "      <td>0.0</td>\n",
       "    </tr>\n",
       "    <tr>\n",
       "      <th>2019-01-02 14:36:00</th>\n",
       "      <td>0.0</td>\n",
       "      <td>0.0</td>\n",
       "      <td>0.0</td>\n",
       "      <td>1.0</td>\n",
       "      <td>1.0</td>\n",
       "      <td>1.0</td>\n",
       "      <td>1.0</td>\n",
       "      <td>1.0</td>\n",
       "      <td>1.0</td>\n",
       "      <td>1.0</td>\n",
       "    </tr>\n",
       "    <tr>\n",
       "      <th>...</th>\n",
       "      <td>...</td>\n",
       "      <td>...</td>\n",
       "      <td>...</td>\n",
       "      <td>...</td>\n",
       "      <td>...</td>\n",
       "      <td>...</td>\n",
       "      <td>...</td>\n",
       "      <td>...</td>\n",
       "      <td>...</td>\n",
       "      <td>...</td>\n",
       "    </tr>\n",
       "    <tr>\n",
       "      <th>2019-12-31 19:51:00</th>\n",
       "      <td>0.0</td>\n",
       "      <td>0.0</td>\n",
       "      <td>0.0</td>\n",
       "      <td>0.0</td>\n",
       "      <td>0.0</td>\n",
       "      <td>0.0</td>\n",
       "      <td>0.0</td>\n",
       "      <td>0.0</td>\n",
       "      <td>0.0</td>\n",
       "      <td>0.0</td>\n",
       "    </tr>\n",
       "    <tr>\n",
       "      <th>2019-12-31 19:52:00</th>\n",
       "      <td>0.0</td>\n",
       "      <td>0.0</td>\n",
       "      <td>0.0</td>\n",
       "      <td>0.0</td>\n",
       "      <td>0.0</td>\n",
       "      <td>0.0</td>\n",
       "      <td>0.0</td>\n",
       "      <td>0.0</td>\n",
       "      <td>0.0</td>\n",
       "      <td>0.0</td>\n",
       "    </tr>\n",
       "    <tr>\n",
       "      <th>2019-12-31 19:53:00</th>\n",
       "      <td>0.0</td>\n",
       "      <td>0.0</td>\n",
       "      <td>0.0</td>\n",
       "      <td>0.0</td>\n",
       "      <td>1.0</td>\n",
       "      <td>0.0</td>\n",
       "      <td>0.0</td>\n",
       "      <td>0.0</td>\n",
       "      <td>0.0</td>\n",
       "      <td>0.0</td>\n",
       "    </tr>\n",
       "    <tr>\n",
       "      <th>2019-12-31 19:54:00</th>\n",
       "      <td>0.0</td>\n",
       "      <td>0.0</td>\n",
       "      <td>0.0</td>\n",
       "      <td>0.0</td>\n",
       "      <td>0.0</td>\n",
       "      <td>1.0</td>\n",
       "      <td>0.0</td>\n",
       "      <td>0.0</td>\n",
       "      <td>0.0</td>\n",
       "      <td>0.0</td>\n",
       "    </tr>\n",
       "    <tr>\n",
       "      <th>2019-12-31 19:55:00</th>\n",
       "      <td>0.0</td>\n",
       "      <td>0.0</td>\n",
       "      <td>0.0</td>\n",
       "      <td>0.0</td>\n",
       "      <td>0.0</td>\n",
       "      <td>0.0</td>\n",
       "      <td>0.0</td>\n",
       "      <td>0.0</td>\n",
       "      <td>0.0</td>\n",
       "      <td>0.0</td>\n",
       "    </tr>\n",
       "  </tbody>\n",
       "</table>\n",
       "<p>93679 rows × 10 columns</p>\n",
       "</div>"
      ],
      "text/plain": [
       "                     down_0.25_pct  down_0.2_pct  down_0.15_pct  down_0.1_pct  \\\n",
       "timestamp                                                                       \n",
       "2019-01-02 14:32:00            1.0           1.0            1.0           1.0   \n",
       "2019-01-02 14:33:00            1.0           1.0            1.0           1.0   \n",
       "2019-01-02 14:34:00            1.0           1.0            1.0           1.0   \n",
       "2019-01-02 14:35:00            1.0           1.0            1.0           1.0   \n",
       "2019-01-02 14:36:00            0.0           0.0            0.0           1.0   \n",
       "...                            ...           ...            ...           ...   \n",
       "2019-12-31 19:51:00            0.0           0.0            0.0           0.0   \n",
       "2019-12-31 19:52:00            0.0           0.0            0.0           0.0   \n",
       "2019-12-31 19:53:00            0.0           0.0            0.0           0.0   \n",
       "2019-12-31 19:54:00            0.0           0.0            0.0           0.0   \n",
       "2019-12-31 19:55:00            0.0           0.0            0.0           0.0   \n",
       "\n",
       "                     down_0.05_pct  up_0.05_pct  up_0.1_pct  up_0.15_pct  \\\n",
       "timestamp                                                                  \n",
       "2019-01-02 14:32:00            1.0          1.0         1.0          0.0   \n",
       "2019-01-02 14:33:00            1.0          1.0         1.0          1.0   \n",
       "2019-01-02 14:34:00            1.0          1.0         1.0          1.0   \n",
       "2019-01-02 14:35:00            1.0          1.0         1.0          0.0   \n",
       "2019-01-02 14:36:00            1.0          1.0         1.0          1.0   \n",
       "...                            ...          ...         ...          ...   \n",
       "2019-12-31 19:51:00            0.0          0.0         0.0          0.0   \n",
       "2019-12-31 19:52:00            0.0          0.0         0.0          0.0   \n",
       "2019-12-31 19:53:00            1.0          0.0         0.0          0.0   \n",
       "2019-12-31 19:54:00            0.0          1.0         0.0          0.0   \n",
       "2019-12-31 19:55:00            0.0          0.0         0.0          0.0   \n",
       "\n",
       "                     up_0.2_pct  up_0.25_pct  \n",
       "timestamp                                     \n",
       "2019-01-02 14:32:00         0.0          0.0  \n",
       "2019-01-02 14:33:00         0.0          0.0  \n",
       "2019-01-02 14:34:00         0.0          0.0  \n",
       "2019-01-02 14:35:00         0.0          0.0  \n",
       "2019-01-02 14:36:00         1.0          1.0  \n",
       "...                         ...          ...  \n",
       "2019-12-31 19:51:00         0.0          0.0  \n",
       "2019-12-31 19:52:00         0.0          0.0  \n",
       "2019-12-31 19:53:00         0.0          0.0  \n",
       "2019-12-31 19:54:00         0.0          0.0  \n",
       "2019-12-31 19:55:00         0.0          0.0  \n",
       "\n",
       "[93679 rows x 10 columns]"
      ]
     },
     "metadata": {},
     "output_type": "display_data"
    }
   ],
   "source": [
    "display(X_test.head())\n",
    "\n",
    "trailing_values = []\n",
    "trailing_col = []\n",
    "for idx, row in X_all.iterrows():\n",
    "    trailing_values.append(np.asarray(row.values))\n",
    "    if len(trailing_values) >= WINDOW_SIZE:\n",
    "        trailing_col.append(np.asarray(trailing_values))\n",
    "        trailing_values.pop(0)\n",
    "    else:\n",
    "        trailing_col.append(None)\n",
    "#display(trailing_col[4:8])\n",
    "#assert trailing_col[5] != trailing_col[6]\n",
    "\n",
    "RNN_df = pd.DataFrame({\n",
    "    **y_all,\n",
    "    **{'trailing_col': trailing_col}\n",
    "}, index=X_all.index)\n",
    "RNN_df = RNN_df.dropna()\n",
    "\n",
    "X_all_RNN = RNN_df[['trailing_col']]\n",
    "y_all_RNN = RNN_df[y_all.columns]\n",
    "display(X_all_RNN.head())\n",
    "display(y_all_RNN)"
   ]
  },
  {
   "cell_type": "code",
   "execution_count": 116,
   "metadata": {},
   "outputs": [],
   "source": [
    "\n",
    "twenty_pct = (len(X_all_RNN)//5)\n",
    "X_RNN_train, X_RNN_val, X_RNN_test = X_all_RNN[:twenty_pct*3], X_all_RNN[twenty_pct*3:twenty_pct*4], X_all_RNN[twenty_pct*4:]\n",
    "y_RNN_train, y_RNN_val, y_RNN_test = y_all_RNN[:twenty_pct*3], y_all_RNN[twenty_pct*3:twenty_pct*4], y_all_RNN[twenty_pct*4:]\n"
   ]
  },
  {
   "cell_type": "code",
   "execution_count": 129,
   "metadata": {},
   "outputs": [
    {
     "data": {
      "text/plain": [
       "array([[[ 0.00000000e+00,  0.00000000e+00,  6.21372152e-04,\n",
       "          6.56455525e-04,  6.76616737e-05],\n",
       "        [ 0.00000000e+00,  0.00000000e+00,  6.21372152e-04,\n",
       "          6.56455525e-04,  1.52850166e-04],\n",
       "        [-1.09924623e-03,  3.29773869e-03,  1.45262711e-03,\n",
       "          8.95181327e-04,  5.92121165e-02],\n",
       "        [ 5.34591195e-03,  5.66037736e-03,  2.59159139e-03,\n",
       "          2.55833358e-03,  8.84452203e-03],\n",
       "        [-7.82227785e-04,  2.34668335e-03,  2.39072045e-03,\n",
       "          2.64568191e-03,  1.17556044e-02]],\n",
       "\n",
       "       [[ 0.00000000e+00,  0.00000000e+00,  6.21372152e-04,\n",
       "          6.56455525e-04,  1.52850166e-04],\n",
       "        [-1.09924623e-03,  3.29773869e-03,  1.45262711e-03,\n",
       "          8.95181327e-04,  5.92121165e-02],\n",
       "        [ 5.34591195e-03,  5.66037736e-03,  2.59159139e-03,\n",
       "          2.55833358e-03,  8.84452203e-03],\n",
       "        [-7.82227785e-04,  2.34668335e-03,  2.39072045e-03,\n",
       "          2.64568191e-03,  1.17556044e-02],\n",
       "        [ 1.56617071e-04,  2.03602193e-03,  2.05983965e-03,\n",
       "          2.63633828e-03,  1.77461081e-02]],\n",
       "\n",
       "       [[-1.09924623e-03,  3.29773869e-03,  1.45262711e-03,\n",
       "          8.95181327e-04,  5.92121165e-02],\n",
       "        [ 5.34591195e-03,  5.66037736e-03,  2.59159139e-03,\n",
       "          2.55833358e-03,  8.84452203e-03],\n",
       "        [-7.82227785e-04,  2.34668335e-03,  2.39072045e-03,\n",
       "          2.64568191e-03,  1.17556044e-02],\n",
       "        [ 1.56617071e-04,  2.03602193e-03,  2.05983965e-03,\n",
       "          2.63633828e-03,  1.77461081e-02],\n",
       "        [ 0.00000000e+00,  1.87911055e-03,  1.56277410e-03,\n",
       "          2.63633828e-03,  1.23751571e-02]],\n",
       "\n",
       "       ...,\n",
       "\n",
       "       [[ 4.21096958e-04,  5.26371197e-04,  8.43179978e-04,\n",
       "          8.77838342e-04,  2.84423590e-03],\n",
       "        [-7.36687013e-04,  8.94548516e-04,  7.71071432e-04,\n",
       "          9.00316437e-04,  4.05317881e-03],\n",
       "        [-2.10614996e-04,  8.42459983e-04,  4.43240168e-04,\n",
       "          6.79907263e-04,  5.52380122e-03],\n",
       "        [-4.21274355e-04,  9.09952607e-04,  4.27328494e-04,\n",
       "          6.24159688e-04,  1.77012721e-02],\n",
       "        [ 6.31978091e-04,  1.13545397e-03,  2.18611610e-04,\n",
       "          5.74749783e-04,  8.46382322e-03]],\n",
       "\n",
       "       [[-7.36687013e-04,  8.94548516e-04,  7.71071432e-04,\n",
       "          9.00316437e-04,  4.05317881e-03],\n",
       "        [-2.10614996e-04,  8.42459983e-04,  4.43240168e-04,\n",
       "          6.79907263e-04,  5.52380122e-03],\n",
       "        [-4.21274355e-04,  9.09952607e-04,  4.27328494e-04,\n",
       "          6.24159688e-04,  1.77012721e-02],\n",
       "        [ 6.31978091e-04,  1.13545397e-03,  2.18611610e-04,\n",
       "          5.74749783e-04,  8.46382322e-03],\n",
       "        [-5.26149637e-04,  7.36609492e-04,  1.46203856e-04,\n",
       "          5.29589890e-04,  4.15630173e-03]],\n",
       "\n",
       "       [[-2.10614996e-04,  8.42459983e-04,  4.43240168e-04,\n",
       "          6.79907263e-04,  5.52380122e-03],\n",
       "        [-4.21274355e-04,  9.09952607e-04,  4.27328494e-04,\n",
       "          6.24159688e-04,  1.77012721e-02],\n",
       "        [ 6.31978091e-04,  1.13545397e-03,  2.18611610e-04,\n",
       "          5.74749783e-04,  8.46382322e-03],\n",
       "        [-5.26149637e-04,  7.36609492e-04,  1.46203856e-04,\n",
       "          5.29589890e-04,  4.15630173e-03],\n",
       "        [ 5.26426616e-04,  6.31711939e-04,  1.90810484e-04,\n",
       "          5.42029857e-04,  3.02847130e-03]]])"
      ]
     },
     "execution_count": 129,
     "metadata": {},
     "output_type": "execute_result"
    }
   ],
   "source": [
    "np.stack(X_RNN_train['trailing_col'].values)"
   ]
  },
  {
   "cell_type": "code",
   "execution_count": 138,
   "metadata": {},
   "outputs": [
    {
     "data": {
      "text/plain": [
       "(5, 5)"
      ]
     },
     "metadata": {},
     "output_type": "display_data"
    },
    {
     "name": "stdout",
     "output_type": "stream",
     "text": [
      "Model: \"sequential_16\"\n",
      "_________________________________________________________________\n",
      "Layer (type)                 Output Shape              Param #   \n",
      "=================================================================\n",
      "simple_rnn_9 (SimpleRNN)     (None, 64)                4480      \n",
      "_________________________________________________________________\n",
      "dense_35 (Dense)             (None, 64)                4160      \n",
      "_________________________________________________________________\n",
      "dense_36 (Dense)             (None, 10)                650       \n",
      "=================================================================\n",
      "Total params: 9,290\n",
      "Trainable params: 9,290\n",
      "Non-trainable params: 0\n",
      "_________________________________________________________________\n"
     ]
    }
   ],
   "source": [
    "model_name = \"simple_rnn\"\n",
    "n_timesteps = WINDOW_SIZE\n",
    "n_features = len(X_all_RNN['trailing_col'].iloc[0])\n",
    "\n",
    "display((n_timesteps, n_features))\n",
    "\n",
    "model = Sequential()\n",
    "model.add(SimpleRNN(64,\n",
    "                    activation='linear',\n",
    "                    input_shape=(n_timesteps, n_features)))\n",
    "model.add(Dense(64, activation='linear'))\n",
    "model.add(Dense(y_RNN_train.shape[1], activation='sigmoid'))\n",
    "\n",
    "model.summary()"
   ]
  },
  {
   "cell_type": "code",
   "execution_count": 139,
   "metadata": {},
   "outputs": [
    {
     "name": "stdout",
     "output_type": "stream",
     "text": [
      "Epoch 1/50\n",
      "2811/2811 [==============================] - 7s 2ms/step - loss: 0.3924 - accuracy: 0.3038 - precision_13: 0.5516 - recall_13: 0.2674 - auc_11: 0.6549 - val_loss: 0.4109 - val_accuracy: 0.2589 - val_precision_13: 0.6759 - val_recall_13: 0.1897 - val_auc_11: 0.7461\n",
      "Epoch 2/50\n",
      "2811/2811 [==============================] - 6s 2ms/step - loss: 0.3800 - accuracy: 0.3111 - precision_13: 0.5884 - recall_13: 0.2957 - auc_11: 0.7100 - val_loss: 0.4254 - val_accuracy: 0.3403 - val_precision_13: 0.7182 - val_recall_13: 0.1340 - val_auc_11: 0.7488\n",
      "Epoch 3/50\n",
      "2811/2811 [==============================] - 7s 2ms/step - loss: 0.3771 - accuracy: 0.3103 - precision_13: 0.5958 - recall_13: 0.2991 - auc_11: 0.7213 - val_loss: 0.4090 - val_accuracy: 0.2950 - val_precision_13: 0.6707 - val_recall_13: 0.2571 - val_auc_11: 0.7513\n",
      "Epoch 4/50\n",
      "2811/2811 [==============================] - 7s 2ms/step - loss: 0.3756 - accuracy: 0.3120 - precision_13: 0.6005 - recall_13: 0.2976 - auc_11: 0.7259 - val_loss: 0.4408 - val_accuracy: 0.2556 - val_precision_13: 0.7342 - val_recall_13: 0.1069 - val_auc_11: 0.7491\n",
      "Epoch 5/50\n",
      "2811/2811 [==============================] - 7s 2ms/step - loss: 0.3753 - accuracy: 0.3094 - precision_13: 0.6031 - recall_13: 0.3003 - auc_11: 0.7291 - val_loss: 0.4026 - val_accuracy: 0.2665 - val_precision_13: 0.6367 - val_recall_13: 0.3439 - val_auc_11: 0.7526\n",
      "Epoch 6/50\n",
      "2811/2811 [==============================] - 7s 2ms/step - loss: 0.3748 - accuracy: 0.3134 - precision_13: 0.6047 - recall_13: 0.3016 - auc_11: 0.7291 - val_loss: 0.4083 - val_accuracy: 0.3400 - val_precision_13: 0.6793 - val_recall_13: 0.2186 - val_auc_11: 0.7530\n",
      "Epoch 7/50\n",
      "2811/2811 [==============================] - 7s 2ms/step - loss: 0.3744 - accuracy: 0.3131 - precision_13: 0.6072 - recall_13: 0.3021 - auc_11: 0.7319 - val_loss: 0.4051 - val_accuracy: 0.3400 - val_precision_13: 0.5678 - val_recall_13: 0.4991 - val_auc_11: 0.7535\n",
      "Epoch 8/50\n",
      "2811/2811 [==============================] - 7s 2ms/step - loss: 0.3740 - accuracy: 0.3139 - precision_13: 0.6060 - recall_13: 0.3038 - auc_11: 0.7327 - val_loss: 0.4026 - val_accuracy: 0.3400 - val_precision_13: 0.6056 - val_recall_13: 0.4192 - val_auc_11: 0.7516\n",
      "Epoch 9/50\n",
      "2811/2811 [==============================] - 6s 2ms/step - loss: 0.3737 - accuracy: 0.3115 - precision_13: 0.6087 - recall_13: 0.3038 - auc_11: 0.7328 - val_loss: 0.4147 - val_accuracy: 0.3098 - val_precision_13: 0.6899 - val_recall_13: 0.2008 - val_auc_11: 0.7513\n",
      "Epoch 10/50\n",
      "2811/2811 [==============================] - 7s 2ms/step - loss: 0.3738 - accuracy: 0.3080 - precision_13: 0.6096 - recall_13: 0.3027 - auc_11: 0.7331 - val_loss: 0.4328 - val_accuracy: 0.2638 - val_precision_13: 0.7229 - val_recall_13: 0.1366 - val_auc_11: 0.7502\n",
      "Epoch 11/50\n",
      "2811/2811 [==============================] - 7s 2ms/step - loss: 0.3736 - accuracy: 0.3116 - precision_13: 0.6084 - recall_13: 0.3033 - auc_11: 0.7341 - val_loss: 0.4195 - val_accuracy: 0.2723 - val_precision_13: 0.7074 - val_recall_13: 0.1607 - val_auc_11: 0.7514\n",
      "Epoch 12/50\n",
      "2811/2811 [==============================] - 7s 2ms/step - loss: 0.3733 - accuracy: 0.3094 - precision_13: 0.6088 - recall_13: 0.3023 - auc_11: 0.7343 - val_loss: 0.4148 - val_accuracy: 0.2576 - val_precision_13: 0.6988 - val_recall_13: 0.1895 - val_auc_11: 0.7521\n",
      "Epoch 13/50\n",
      "2811/2811 [==============================] - 7s 3ms/step - loss: 0.3731 - accuracy: 0.3082 - precision_13: 0.6092 - recall_13: 0.3054 - auc_11: 0.7355 - val_loss: 0.4167 - val_accuracy: 0.2658 - val_precision_13: 0.6996 - val_recall_13: 0.1868 - val_auc_11: 0.7526\n",
      "Epoch 14/50\n",
      "2811/2811 [==============================] - 7s 2ms/step - loss: 0.3732 - accuracy: 0.3103 - precision_13: 0.6099 - recall_13: 0.3020 - auc_11: 0.7361 - val_loss: 0.4052 - val_accuracy: 0.2968 - val_precision_13: 0.6642 - val_recall_13: 0.2654 - val_auc_11: 0.7534\n",
      "Epoch 15/50\n",
      "2811/2811 [==============================] - 7s 2ms/step - loss: 0.3729 - accuracy: 0.3116 - precision_13: 0.6105 - recall_13: 0.3062 - auc_11: 0.7367 - val_loss: 0.4054 - val_accuracy: 0.3394 - val_precision_13: 0.5853 - val_recall_13: 0.4860 - val_auc_11: 0.7532\n",
      "Epoch 16/50\n",
      "2811/2811 [==============================] - 7s 2ms/step - loss: 0.3727 - accuracy: 0.3118 - precision_13: 0.6121 - recall_13: 0.3038 - auc_11: 0.7366 - val_loss: 0.4063 - val_accuracy: 0.3398 - val_precision_13: 0.6660 - val_recall_13: 0.2596 - val_auc_11: 0.7529\n",
      "Epoch 17/50\n",
      "2811/2811 [==============================] - 6s 2ms/step - loss: 0.3727 - accuracy: 0.3159 - precision_13: 0.6114 - recall_13: 0.3058 - auc_11: 0.7370 - val_loss: 0.4100 - val_accuracy: 0.2813 - val_precision_13: 0.6656 - val_recall_13: 0.2365 - val_auc_11: 0.7526\n",
      "Epoch 18/50\n",
      "2811/2811 [==============================] - 6s 2ms/step - loss: 0.3727 - accuracy: 0.3116 - precision_13: 0.6116 - recall_13: 0.3048 - auc_11: 0.7375 - val_loss: 0.4012 - val_accuracy: 0.3213 - val_precision_13: 0.6196 - val_recall_13: 0.3956 - val_auc_11: 0.7555\n",
      "Epoch 19/50\n",
      "2811/2811 [==============================] - 7s 2ms/step - loss: 0.3726 - accuracy: 0.3092 - precision_13: 0.6118 - recall_13: 0.3050 - auc_11: 0.7373 - val_loss: 0.4165 - val_accuracy: 0.2775 - val_precision_13: 0.6885 - val_recall_13: 0.1921 - val_auc_11: 0.7523\n",
      "Epoch 20/50\n",
      "2811/2811 [==============================] - 7s 2ms/step - loss: 0.3723 - accuracy: 0.3104 - precision_13: 0.6115 - recall_13: 0.3060 - auc_11: 0.7382 - val_loss: 0.4070 - val_accuracy: 0.2594 - val_precision_13: 0.6780 - val_recall_13: 0.2437 - val_auc_11: 0.7537\n",
      "Epoch 21/50\n",
      "2811/2811 [==============================] - 7s 2ms/step - loss: 0.3724 - accuracy: 0.3078 - precision_13: 0.6124 - recall_13: 0.3044 - auc_11: 0.7383 - val_loss: 0.4047 - val_accuracy: 0.3400 - val_precision_13: 0.5700 - val_recall_13: 0.5232 - val_auc_11: 0.7549\n",
      "Epoch 22/50\n",
      "2811/2811 [==============================] - 6s 2ms/step - loss: 0.3724 - accuracy: 0.3099 - precision_13: 0.6121 - recall_13: 0.3037 - auc_11: 0.7382 - val_loss: 0.4066 - val_accuracy: 0.3255 - val_precision_13: 0.6823 - val_recall_13: 0.2341 - val_auc_11: 0.7552\n",
      "Epoch 23/50\n",
      "2811/2811 [==============================] - 6s 2ms/step - loss: 0.3721 - accuracy: 0.3106 - precision_13: 0.6120 - recall_13: 0.3061 - auc_11: 0.7386 - val_loss: 0.4045 - val_accuracy: 0.3399 - val_precision_13: 0.6677 - val_recall_13: 0.2636 - val_auc_11: 0.7540\n",
      "Epoch 24/50\n",
      "2811/2811 [==============================] - 6s 2ms/step - loss: 0.3723 - accuracy: 0.3114 - precision_13: 0.6107 - recall_13: 0.3061 - auc_11: 0.7384 - val_loss: 0.4047 - val_accuracy: 0.3246 - val_precision_13: 0.6627 - val_recall_13: 0.2756 - val_auc_11: 0.7547\n",
      "Epoch 25/50\n",
      "2811/2811 [==============================] - 6s 2ms/step - loss: 0.3719 - accuracy: 0.3112 - precision_13: 0.6134 - recall_13: 0.3051 - auc_11: 0.7391 - val_loss: 0.4023 - val_accuracy: 0.2677 - val_precision_13: 0.5739 - val_recall_13: 0.5079 - val_auc_11: 0.7535\n",
      "Epoch 26/50\n",
      "2811/2811 [==============================] - 6s 2ms/step - loss: 0.3720 - accuracy: 0.3098 - precision_13: 0.6120 - recall_13: 0.3051 - auc_11: 0.7399 - val_loss: 0.4032 - val_accuracy: 0.3397 - val_precision_13: 0.6359 - val_recall_13: 0.3348 - val_auc_11: 0.7525\n",
      "Epoch 27/50\n",
      "2811/2811 [==============================] - 6s 2ms/step - loss: 0.3721 - accuracy: 0.3093 - precision_13: 0.6123 - recall_13: 0.3046 - auc_11: 0.7398 - val_loss: 0.4053 - val_accuracy: 0.3404 - val_precision_13: 0.6524 - val_recall_13: 0.3011 - val_auc_11: 0.7534\n",
      "Epoch 28/50\n",
      "2811/2811 [==============================] - 7s 2ms/step - loss: 0.3719 - accuracy: 0.3138 - precision_13: 0.6136 - recall_13: 0.3058 - auc_11: 0.7402 - val_loss: 0.4080 - val_accuracy: 0.3400 - val_precision_13: 0.6749 - val_recall_13: 0.2261 - val_auc_11: 0.7544\n",
      "Epoch 29/50\n",
      "2811/2811 [==============================] - 7s 2ms/step - loss: 0.3720 - accuracy: 0.3126 - precision_13: 0.6113 - recall_13: 0.3057 - auc_11: 0.7396 - val_loss: 0.4029 - val_accuracy: 0.3398 - val_precision_13: 0.6484 - val_recall_13: 0.3069 - val_auc_11: 0.7538\n",
      "Epoch 30/50\n",
      "2811/2811 [==============================] - 6s 2ms/step - loss: 0.3718 - accuracy: 0.3101 - precision_13: 0.6131 - recall_13: 0.3076 - auc_11: 0.7397 - val_loss: 0.4067 - val_accuracy: 0.3403 - val_precision_13: 0.6585 - val_recall_13: 0.2792 - val_auc_11: 0.7525\n"
     ]
    },
    {
     "name": "stdout",
     "output_type": "stream",
     "text": [
      "Epoch 31/50\n",
      "2811/2811 [==============================] - 6s 2ms/step - loss: 0.3719 - accuracy: 0.3140 - precision_13: 0.6144 - recall_13: 0.3063 - auc_11: 0.7394 - val_loss: 0.4188 - val_accuracy: 0.3363 - val_precision_13: 0.6907 - val_recall_13: 0.1891 - val_auc_11: 0.7527\n",
      "Epoch 32/50\n",
      "2811/2811 [==============================] - 6s 2ms/step - loss: 0.3718 - accuracy: 0.3126 - precision_13: 0.6124 - recall_13: 0.3061 - auc_11: 0.7400 - val_loss: 0.4008 - val_accuracy: 0.2692 - val_precision_13: 0.5940 - val_recall_13: 0.4626 - val_auc_11: 0.7558\n",
      "Epoch 33/50\n",
      "2811/2811 [==============================] - 6s 2ms/step - loss: 0.3719 - accuracy: 0.3115 - precision_13: 0.6137 - recall_13: 0.3080 - auc_11: 0.7406 - val_loss: 0.4059 - val_accuracy: 0.2803 - val_precision_13: 0.6649 - val_recall_13: 0.2812 - val_auc_11: 0.7540\n",
      "Epoch 34/50\n",
      "2811/2811 [==============================] - 6s 2ms/step - loss: 0.3719 - accuracy: 0.3134 - precision_13: 0.6123 - recall_13: 0.3061 - auc_11: 0.7401 - val_loss: 0.4022 - val_accuracy: 0.2834 - val_precision_13: 0.6549 - val_recall_13: 0.2978 - val_auc_11: 0.7555\n",
      "Epoch 35/50\n",
      "2811/2811 [==============================] - 6s 2ms/step - loss: 0.3716 - accuracy: 0.3074 - precision_13: 0.6140 - recall_13: 0.3062 - auc_11: 0.7397 - val_loss: 0.4137 - val_accuracy: 0.2624 - val_precision_13: 0.6770 - val_recall_13: 0.2257 - val_auc_11: 0.7528\n",
      "Epoch 36/50\n",
      "2811/2811 [==============================] - 6s 2ms/step - loss: 0.3719 - accuracy: 0.3105 - precision_13: 0.6137 - recall_13: 0.3046 - auc_11: 0.7407 - val_loss: 0.4163 - val_accuracy: 0.2677 - val_precision_13: 0.6952 - val_recall_13: 0.1864 - val_auc_11: 0.7532\n",
      "Epoch 37/50\n",
      "2811/2811 [==============================] - 6s 2ms/step - loss: 0.3717 - accuracy: 0.3090 - precision_13: 0.6145 - recall_13: 0.3076 - auc_11: 0.7402 - val_loss: 0.4031 - val_accuracy: 0.3401 - val_precision_13: 0.5965 - val_recall_13: 0.4474 - val_auc_11: 0.7544\n",
      "Epoch 38/50\n",
      "2811/2811 [==============================] - 6s 2ms/step - loss: 0.3715 - accuracy: 0.3106 - precision_13: 0.6141 - recall_13: 0.3049 - auc_11: 0.7402 - val_loss: 0.4007 - val_accuracy: 0.3270 - val_precision_13: 0.6386 - val_recall_13: 0.3429 - val_auc_11: 0.7562\n",
      "Epoch 39/50\n",
      "2811/2811 [==============================] - 6s 2ms/step - loss: 0.3715 - accuracy: 0.3157 - precision_13: 0.6131 - recall_13: 0.3064 - auc_11: 0.7411 - val_loss: 0.4047 - val_accuracy: 0.2656 - val_precision_13: 0.6665 - val_recall_13: 0.2699 - val_auc_11: 0.7537\n",
      "Epoch 40/50\n",
      "2811/2811 [==============================] - 6s 2ms/step - loss: 0.3715 - accuracy: 0.3072 - precision_13: 0.6139 - recall_13: 0.3054 - auc_11: 0.7415 - val_loss: 0.4063 - val_accuracy: 0.3401 - val_precision_13: 0.6657 - val_recall_13: 0.2573 - val_auc_11: 0.7546\n",
      "Epoch 41/50\n",
      "2811/2811 [==============================] - 6s 2ms/step - loss: 0.3714 - accuracy: 0.3128 - precision_13: 0.6137 - recall_13: 0.3074 - auc_11: 0.7408 - val_loss: 0.4007 - val_accuracy: 0.3138 - val_precision_13: 0.6406 - val_recall_13: 0.3360 - val_auc_11: 0.7561\n",
      "Epoch 42/50\n",
      "2811/2811 [==============================] - 6s 2ms/step - loss: 0.3715 - accuracy: 0.3163 - precision_13: 0.6138 - recall_13: 0.3054 - auc_11: 0.7405 - val_loss: 0.4095 - val_accuracy: 0.2552 - val_precision_13: 0.6676 - val_recall_13: 0.2689 - val_auc_11: 0.7545\n",
      "Epoch 43/50\n",
      "2811/2811 [==============================] - 6s 2ms/step - loss: 0.3713 - accuracy: 0.3093 - precision_13: 0.6121 - recall_13: 0.3067 - auc_11: 0.7411 - val_loss: 0.4173 - val_accuracy: 0.3401 - val_precision_13: 0.6747 - val_recall_13: 0.2106 - val_auc_11: 0.7548\n",
      "Epoch 44/50\n",
      "2811/2811 [==============================] - 6s 2ms/step - loss: 0.3715 - accuracy: 0.3102 - precision_13: 0.6145 - recall_13: 0.3063 - auc_11: 0.7417 - val_loss: 0.4017 - val_accuracy: 0.3402 - val_precision_13: 0.6298 - val_recall_13: 0.3543 - val_auc_11: 0.7534\n",
      "Epoch 45/50\n",
      "2811/2811 [==============================] - 6s 2ms/step - loss: 0.3714 - accuracy: 0.3141 - precision_13: 0.6141 - recall_13: 0.3070 - auc_11: 0.7421 - val_loss: 0.4043 - val_accuracy: 0.3401 - val_precision_13: 0.6699 - val_recall_13: 0.2663 - val_auc_11: 0.7549\n",
      "Epoch 46/50\n",
      "2811/2811 [==============================] - 6s 2ms/step - loss: 0.3714 - accuracy: 0.3117 - precision_13: 0.6136 - recall_13: 0.3073 - auc_11: 0.7421 - val_loss: 0.4056 - val_accuracy: 0.3126 - val_precision_13: 0.6771 - val_recall_13: 0.2403 - val_auc_11: 0.7538\n",
      "Epoch 47/50\n",
      "2811/2811 [==============================] - 6s 2ms/step - loss: 0.3713 - accuracy: 0.3084 - precision_13: 0.6129 - recall_13: 0.3061 - auc_11: 0.7415 - val_loss: 0.4031 - val_accuracy: 0.2809 - val_precision_13: 0.6652 - val_recall_13: 0.2801 - val_auc_11: 0.7549\n",
      "Epoch 48/50\n",
      "2811/2811 [==============================] - 6s 2ms/step - loss: 0.3714 - accuracy: 0.3062 - precision_13: 0.6159 - recall_13: 0.3067 - auc_11: 0.7418 - val_loss: 0.4010 - val_accuracy: 0.3398 - val_precision_13: 0.6378 - val_recall_13: 0.3336 - val_auc_11: 0.7554\n",
      "Epoch 49/50\n",
      "2811/2811 [==============================] - 6s 2ms/step - loss: 0.3715 - accuracy: 0.3106 - precision_13: 0.6156 - recall_13: 0.3058 - auc_11: 0.7416 - val_loss: 0.3998 - val_accuracy: 0.3347 - val_precision_13: 0.6170 - val_recall_13: 0.4008 - val_auc_11: 0.7558\n",
      "Epoch 50/50\n",
      "2811/2811 [==============================] - 6s 2ms/step - loss: 0.3714 - accuracy: 0.3111 - precision_13: 0.6147 - recall_13: 0.3064 - auc_11: 0.7418 - val_loss: 0.4026 - val_accuracy: 0.3347 - val_precision_13: 0.6359 - val_recall_13: 0.3531 - val_auc_11: 0.7551\n"
     ]
    }
   ],
   "source": [
    "model.compile(loss='binary_crossentropy',\n",
    "              metrics=['accuracy', Precision(), Recall(), AUC(multi_label=True)])\n",
    "\n",
    "history = model.fit(np.stack(X_RNN_train['trailing_col'].values),\n",
    "                    y_RNN_train,\n",
    "                    validation_data=(np.stack(X_RNN_val['trailing_col'].values),\n",
    "                                     y_RNN_val),\n",
    "                    epochs=50,\n",
    "                    batch_size=20)"
   ]
  },
  {
   "cell_type": "code",
   "execution_count": 140,
   "metadata": {},
   "outputs": [
    {
     "data": {
      "image/png": "[encoded data removed]",
      "text/plain": [
       "<Figure size 640x480 with 1 Axes>"
      ]
     },
     "metadata": {},
     "output_type": "display_data"
    }
   ],
   "source": [
    "plot_loss(history)"
   ]
  },
  {
   "cell_type": "code",
   "execution_count": 142,
   "metadata": {},
   "outputs": [
    {
     "data": {
      "text/plain": [
       "{'loss': [0.3923635184764862,\n",
       "  0.38004857301712036,\n",
       "  0.37707439064979553,\n",
       "  0.37564724683761597,\n",
       "  0.37531572580337524,\n",
       "  0.37479421496391296,\n",
       "  0.37435096502304077,\n",
       "  0.37399613857269287,\n",
       "  0.3737197518348694,\n",
       "  0.3737611174583435,\n",
       "  0.3736046850681305,\n",
       "  0.37326356768608093,\n",
       "  0.3730608820915222,\n",
       "  0.373198002576828,\n",
       "  0.372883141040802,\n",
       "  0.37266820669174194,\n",
       "  0.3727225065231323,\n",
       "  0.3726525604724884,\n",
       "  0.37260305881500244,\n",
       "  0.37231725454330444,\n",
       "  0.37240245938301086,\n",
       "  0.37236693501472473,\n",
       "  0.37213078141212463,\n",
       "  0.372299462556839,\n",
       "  0.3719468414783478,\n",
       "  0.37195542454719543,\n",
       "  0.3720822036266327,\n",
       "  0.37188461422920227,\n",
       "  0.3719707429409027,\n",
       "  0.3717520833015442,\n",
       "  0.3719114065170288,\n",
       "  0.37183877825737,\n",
       "  0.37188106775283813,\n",
       "  0.37185120582580566,\n",
       "  0.3716457486152649,\n",
       "  0.3718641996383667,\n",
       "  0.3716675341129303,\n",
       "  0.37152931094169617,\n",
       "  0.37146827578544617,\n",
       "  0.3714808225631714,\n",
       "  0.37136584520339966,\n",
       "  0.37151744961738586,\n",
       "  0.3713352680206299,\n",
       "  0.37145236134529114,\n",
       "  0.3713974952697754,\n",
       "  0.37140125036239624,\n",
       "  0.3713436424732208,\n",
       "  0.37142401933670044,\n",
       "  0.37147578597068787,\n",
       "  0.3714003264904022],\n",
       " 'accuracy': [0.3037630021572113,\n",
       "  0.3111289143562317,\n",
       "  0.3103460669517517,\n",
       "  0.31196513772010803,\n",
       "  0.30936750769615173,\n",
       "  0.31342408061027527,\n",
       "  0.31312161684036255,\n",
       "  0.31390446424484253,\n",
       "  0.31148475408554077,\n",
       "  0.3080330789089203,\n",
       "  0.31157371401786804,\n",
       "  0.30943867564201355,\n",
       "  0.30821099877357483,\n",
       "  0.31029269099235535,\n",
       "  0.31157371401786804,\n",
       "  0.31184059381484985,\n",
       "  0.3158615827560425,\n",
       "  0.3115915060043335,\n",
       "  0.3092251718044281,\n",
       "  0.310435026884079,\n",
       "  0.30781957507133484,\n",
       "  0.3099190592765808,\n",
       "  0.31064853072166443,\n",
       "  0.31144917011260986,\n",
       "  0.31118229031562805,\n",
       "  0.3097767233848572,\n",
       "  0.30927854776382446,\n",
       "  0.3137977123260498,\n",
       "  0.312552273273468,\n",
       "  0.31009697914123535,\n",
       "  0.31404680013656616,\n",
       "  0.3126056492328644,\n",
       "  0.3115025460720062,\n",
       "  0.3133707046508789,\n",
       "  0.30739256739616394,\n",
       "  0.31052398681640625,\n",
       "  0.30904725193977356,\n",
       "  0.31055957078933716,\n",
       "  0.3156658709049225,\n",
       "  0.3071790635585785,\n",
       "  0.3127835690975189,\n",
       "  0.3162707984447479,\n",
       "  0.3093497157096863,\n",
       "  0.3101503551006317,\n",
       "  0.314117968082428,\n",
       "  0.3117160499095917,\n",
       "  0.30844229459762573,\n",
       "  0.30618271231651306,\n",
       "  0.31059515476226807,\n",
       "  0.3111289143562317],\n",
       " 'precision_13': [0.5515656471252441,\n",
       "  0.5884475708007812,\n",
       "  0.5958231091499329,\n",
       "  0.6005423665046692,\n",
       "  0.6031287908554077,\n",
       "  0.6047108173370361,\n",
       "  0.6072466373443604,\n",
       "  0.6059815883636475,\n",
       "  0.6087237000465393,\n",
       "  0.6096041798591614,\n",
       "  0.608380138874054,\n",
       "  0.6087867021560669,\n",
       "  0.6091890931129456,\n",
       "  0.6098739504814148,\n",
       "  0.6104830503463745,\n",
       "  0.6120806336402893,\n",
       "  0.6113513708114624,\n",
       "  0.6115636825561523,\n",
       "  0.6118035912513733,\n",
       "  0.6114954352378845,\n",
       "  0.6123847365379333,\n",
       "  0.6120726466178894,\n",
       "  0.6120468974113464,\n",
       "  0.6106612086296082,\n",
       "  0.6133772730827332,\n",
       "  0.6119924187660217,\n",
       "  0.6123223304748535,\n",
       "  0.6135544776916504,\n",
       "  0.6112675666809082,\n",
       "  0.6131400465965271,\n",
       "  0.6143577098846436,\n",
       "  0.6123756766319275,\n",
       "  0.6137364506721497,\n",
       "  0.6122772097587585,\n",
       "  0.6139803528785706,\n",
       "  0.613727867603302,\n",
       "  0.6144622564315796,\n",
       "  0.614147961139679,\n",
       "  0.6131302118301392,\n",
       "  0.6139295697212219,\n",
       "  0.613678514957428,\n",
       "  0.6137936115264893,\n",
       "  0.6121196746826172,\n",
       "  0.6144514083862305,\n",
       "  0.6141339540481567,\n",
       "  0.6136046051979065,\n",
       "  0.6128836274147034,\n",
       "  0.6159122586250305,\n",
       "  0.6155756115913391,\n",
       "  0.6147253513336182],\n",
       " 'recall_13': [0.267392098903656,\n",
       "  0.29569995403289795,\n",
       "  0.2991429269313812,\n",
       "  0.29764237999916077,\n",
       "  0.3002568483352661,\n",
       "  0.3015732765197754,\n",
       "  0.30208879709243774,\n",
       "  0.3038471043109894,\n",
       "  0.3038378953933716,\n",
       "  0.3026779592037201,\n",
       "  0.3032855689525604,\n",
       "  0.3023281395435333,\n",
       "  0.30539369583129883,\n",
       "  0.30204278230667114,\n",
       "  0.30622220039367676,\n",
       "  0.3038286864757538,\n",
       "  0.3058079481124878,\n",
       "  0.3047769069671631,\n",
       "  0.30499783158302307,\n",
       "  0.3059644401073456,\n",
       "  0.3044362962245941,\n",
       "  0.303745836019516,\n",
       "  0.30606570839881897,\n",
       "  0.30614855885505676,\n",
       "  0.30509909987449646,\n",
       "  0.30508068203926086,\n",
       "  0.3045743703842163,\n",
       "  0.3057803213596344,\n",
       "  0.3057435154914856,\n",
       "  0.30756625533103943,\n",
       "  0.30630505084991455,\n",
       "  0.30611175298690796,\n",
       "  0.3079897165298462,\n",
       "  0.30613014101982117,\n",
       "  0.30621299147605896,\n",
       "  0.3045559525489807,\n",
       "  0.307584673166275,\n",
       "  0.3049057722091675,\n",
       "  0.30641552805900574,\n",
       "  0.30535686016082764,\n",
       "  0.30744656920433044,\n",
       "  0.30543050169944763,\n",
       "  0.3066824972629547,\n",
       "  0.30632346868515015,\n",
       "  0.3070415258407593,\n",
       "  0.30733612179756165,\n",
       "  0.30611175298690796,\n",
       "  0.3066548705101013,\n",
       "  0.3058355748653412,\n",
       "  0.30636951327323914],\n",
       " 'auc_11': [0.6549035310745239,\n",
       "  0.7099586725234985,\n",
       "  0.7212908864021301,\n",
       "  0.725865364074707,\n",
       "  0.7291187644004822,\n",
       "  0.7291176915168762,\n",
       "  0.7318695783615112,\n",
       "  0.7327014207839966,\n",
       "  0.7328200340270996,\n",
       "  0.7331241965293884,\n",
       "  0.7340742349624634,\n",
       "  0.7343056201934814,\n",
       "  0.7354817986488342,\n",
       "  0.7361091375350952,\n",
       "  0.7367132306098938,\n",
       "  0.7365734577178955,\n",
       "  0.7370464205741882,\n",
       "  0.7374815940856934,\n",
       "  0.7373331189155579,\n",
       "  0.7382314801216125,\n",
       "  0.738338828086853,\n",
       "  0.7382100820541382,\n",
       "  0.7385541200637817,\n",
       "  0.7384475469589233,\n",
       "  0.7391045093536377,\n",
       "  0.7398685216903687,\n",
       "  0.7397757768630981,\n",
       "  0.7401807904243469,\n",
       "  0.7396200895309448,\n",
       "  0.7397080659866333,\n",
       "  0.7394339442253113,\n",
       "  0.740026593208313,\n",
       "  0.740556538105011,\n",
       "  0.7400935888290405,\n",
       "  0.7397422194480896,\n",
       "  0.7406604886054993,\n",
       "  0.7402409315109253,\n",
       "  0.7402362823486328,\n",
       "  0.7410724759101868,\n",
       "  0.7414578795433044,\n",
       "  0.740768313407898,\n",
       "  0.7405235767364502,\n",
       "  0.7410574555397034,\n",
       "  0.7417319416999817,\n",
       "  0.7421164512634277,\n",
       "  0.7420676946640015,\n",
       "  0.7414756417274475,\n",
       "  0.7417692542076111,\n",
       "  0.741628110408783,\n",
       "  0.7417804002761841],\n",
       " 'val_loss': [0.4109078049659729,\n",
       "  0.42538341879844666,\n",
       "  0.4089732766151428,\n",
       "  0.44078242778778076,\n",
       "  0.4025757312774658,\n",
       "  0.4083367884159088,\n",
       "  0.40505075454711914,\n",
       "  0.4025692045688629,\n",
       "  0.41465234756469727,\n",
       "  0.4328303039073944,\n",
       "  0.4194627106189728,\n",
       "  0.4148333966732025,\n",
       "  0.41669583320617676,\n",
       "  0.4051738679409027,\n",
       "  0.40540969371795654,\n",
       "  0.40629321336746216,\n",
       "  0.41002172231674194,\n",
       "  0.4012032151222229,\n",
       "  0.41654375195503235,\n",
       "  0.4069988429546356,\n",
       "  0.40465283393859863,\n",
       "  0.4066298305988312,\n",
       "  0.404484361410141,\n",
       "  0.40466824173927307,\n",
       "  0.40226197242736816,\n",
       "  0.40318527817726135,\n",
       "  0.4052635729312897,\n",
       "  0.40801364183425903,\n",
       "  0.40287670493125916,\n",
       "  0.40669047832489014,\n",
       "  0.41877010464668274,\n",
       "  0.4007601737976074,\n",
       "  0.4058532416820526,\n",
       "  0.402214914560318,\n",
       "  0.41373738646507263,\n",
       "  0.41626766324043274,\n",
       "  0.40311792492866516,\n",
       "  0.40070101618766785,\n",
       "  0.40467569231987,\n",
       "  0.40634921193122864,\n",
       "  0.400738000869751,\n",
       "  0.40945640206336975,\n",
       "  0.41734910011291504,\n",
       "  0.4017150402069092,\n",
       "  0.4043256640434265,\n",
       "  0.40559014678001404,\n",
       "  0.4031117558479309,\n",
       "  0.4009680151939392,\n",
       "  0.3997960388660431,\n",
       "  0.4025850296020508],\n",
       " 'val_accuracy': [0.2589271366596222,\n",
       "  0.34032559394836426,\n",
       "  0.2949559688568115,\n",
       "  0.25561782717704773,\n",
       "  0.266506552696228,\n",
       "  0.3400053381919861,\n",
       "  0.3399519622325897,\n",
       "  0.3399519622325897,\n",
       "  0.309847891330719,\n",
       "  0.26378434896469116,\n",
       "  0.27227115631103516,\n",
       "  0.2576461136341095,\n",
       "  0.26575925946235657,\n",
       "  0.2968241274356842,\n",
       "  0.33936482667922974,\n",
       "  0.339845210313797,\n",
       "  0.28134506940841675,\n",
       "  0.3213237226009369,\n",
       "  0.27750200033187866,\n",
       "  0.25940752029418945,\n",
       "  0.3400053381919861,\n",
       "  0.32548704743385315,\n",
       "  0.33989858627319336,\n",
       "  0.324579656124115,\n",
       "  0.26773419976234436,\n",
       "  0.3397384583950043,\n",
       "  0.3403789699077606,\n",
       "  0.3399519622325897,\n",
       "  0.339845210313797,\n",
       "  0.34032559394836426,\n",
       "  0.3363223969936371,\n",
       "  0.2692287266254425,\n",
       "  0.2802775502204895,\n",
       "  0.2833733558654785,\n",
       "  0.26239657402038574,\n",
       "  0.267680823802948,\n",
       "  0.3401120901107788,\n",
       "  0.32703495025634766,\n",
       "  0.2655991315841675,\n",
       "  0.34005871415138245,\n",
       "  0.3137977123260498,\n",
       "  0.25519081950187683,\n",
       "  0.34005871415138245,\n",
       "  0.34021884202957153,\n",
       "  0.3401120901107788,\n",
       "  0.31262344121932983,\n",
       "  0.28091806173324585,\n",
       "  0.33979183435440063,\n",
       "  0.33466774225234985,\n",
       "  0.3347211182117462],\n",
       " 'val_precision_13': [0.6758739948272705,\n",
       "  0.7181817889213562,\n",
       "  0.6706692576408386,\n",
       "  0.7342320084571838,\n",
       "  0.6366857886314392,\n",
       "  0.6792680025100708,\n",
       "  0.5678409934043884,\n",
       "  0.6055938601493835,\n",
       "  0.6898876428604126,\n",
       "  0.7229348421096802,\n",
       "  0.7074003219604492,\n",
       "  0.6988113522529602,\n",
       "  0.69964599609375,\n",
       "  0.6641605496406555,\n",
       "  0.585276186466217,\n",
       "  0.6660242676734924,\n",
       "  0.6655529737472534,\n",
       "  0.6195878982543945,\n",
       "  0.6884875893592834,\n",
       "  0.6780392527580261,\n",
       "  0.5699580311775208,\n",
       "  0.6822515726089478,\n",
       "  0.6677306294441223,\n",
       "  0.6627243161201477,\n",
       "  0.573896586894989,\n",
       "  0.635882556438446,\n",
       "  0.6524227261543274,\n",
       "  0.6748861074447632,\n",
       "  0.6483595371246338,\n",
       "  0.6585142612457275,\n",
       "  0.6906742453575134,\n",
       "  0.594013512134552,\n",
       "  0.6649094820022583,\n",
       "  0.6549261808395386,\n",
       "  0.6770114302635193,\n",
       "  0.6951572299003601,\n",
       "  0.5965235233306885,\n",
       "  0.6386118531227112,\n",
       "  0.6664872169494629,\n",
       "  0.6657261252403259,\n",
       "  0.640570878982544,\n",
       "  0.6675690412521362,\n",
       "  0.6746875643730164,\n",
       "  0.6298401951789856,\n",
       "  0.6698762774467468,\n",
       "  0.6771373748779297,\n",
       "  0.6651896238327026,\n",
       "  0.6377744674682617,\n",
       "  0.6169538497924805,\n",
       "  0.6359272003173828],\n",
       " 'val_recall_13': [0.18972159922122955,\n",
       "  0.13399238884449005,\n",
       "  0.2571296989917755,\n",
       "  0.10690315067768097,\n",
       "  0.34389764070510864,\n",
       "  0.21855540573596954,\n",
       "  0.49911561608314514,\n",
       "  0.4191805422306061,\n",
       "  0.2008432000875473,\n",
       "  0.13656078279018402,\n",
       "  0.16074241697788239,\n",
       "  0.1894550621509552,\n",
       "  0.18676552176475525,\n",
       "  0.26541638374328613,\n",
       "  0.48600712418556213,\n",
       "  0.2595769464969635,\n",
       "  0.23650990426540375,\n",
       "  0.3956288993358612,\n",
       "  0.19214460253715515,\n",
       "  0.24365776777267456,\n",
       "  0.5232245326042175,\n",
       "  0.23406265676021576,\n",
       "  0.26357489824295044,\n",
       "  0.2756172716617584,\n",
       "  0.5078868865966797,\n",
       "  0.33483558893203735,\n",
       "  0.30113154649734497,\n",
       "  0.22613942623138428,\n",
       "  0.3069225251674652,\n",
       "  0.2792275547981262,\n",
       "  0.18914008140563965,\n",
       "  0.46257662773132324,\n",
       "  0.2811659574508667,\n",
       "  0.29781201481819153,\n",
       "  0.22570328414440155,\n",
       "  0.1864262968301773,\n",
       "  0.4473601281642914,\n",
       "  0.342879980802536,\n",
       "  0.2699474096298218,\n",
       "  0.2572508454322815,\n",
       "  0.33604711294174194,\n",
       "  0.26888129115104675,\n",
       "  0.21060793101787567,\n",
       "  0.3543165922164917,\n",
       "  0.266337126493454,\n",
       "  0.24026556313037872,\n",
       "  0.2800756096839905,\n",
       "  0.33357563614845276,\n",
       "  0.40083837509155273,\n",
       "  0.3530566394329071],\n",
       " 'val_auc_11': [0.7461408376693726,\n",
       "  0.748805046081543,\n",
       "  0.7512822151184082,\n",
       "  0.7490571737289429,\n",
       "  0.752625584602356,\n",
       "  0.7530367970466614,\n",
       "  0.7534670829772949,\n",
       "  0.7516357898712158,\n",
       "  0.7513147592544556,\n",
       "  0.7502251267433167,\n",
       "  0.7513861656188965,\n",
       "  0.7520794868469238,\n",
       "  0.7526294589042664,\n",
       "  0.7534178495407104,\n",
       "  0.7532467246055603,\n",
       "  0.752937912940979,\n",
       "  0.7525925040245056,\n",
       "  0.7554880976676941,\n",
       "  0.752315104007721,\n",
       "  0.7536843419075012,\n",
       "  0.7548597455024719,\n",
       "  0.7552328109741211,\n",
       "  0.7539899945259094,\n",
       "  0.7546901702880859,\n",
       "  0.7535337805747986,\n",
       "  0.752533495426178,\n",
       "  0.7534032464027405,\n",
       "  0.7544255256652832,\n",
       "  0.7538341283798218,\n",
       "  0.7525333166122437,\n",
       "  0.7527235150337219,\n",
       "  0.755790650844574,\n",
       "  0.753993034362793,\n",
       "  0.7554861307144165,\n",
       "  0.7528432011604309,\n",
       "  0.7531537413597107,\n",
       "  0.7544463276863098,\n",
       "  0.7562252283096313,\n",
       "  0.7536859512329102,\n",
       "  0.7545822262763977,\n",
       "  0.7560610771179199,\n",
       "  0.7544542551040649,\n",
       "  0.7548105120658875,\n",
       "  0.7533705234527588,\n",
       "  0.7549227476119995,\n",
       "  0.7538483738899231,\n",
       "  0.7549253702163696,\n",
       "  0.7554271817207336,\n",
       "  0.7557886838912964,\n",
       "  0.755069375038147]}"
      ]
     },
     "execution_count": 142,
     "metadata": {},
     "output_type": "execute_result"
    }
   ],
   "source": [
    "history.history"
   ]
  },
  {
   "cell_type": "code",
   "execution_count": 145,
   "metadata": {},
   "outputs": [
    {
     "data": {
      "image/png": "[encoded data removed]",
      "text/plain": [
       "<Figure size 640x480 with 1 Axes>"
      ]
     },
     "metadata": {},
     "output_type": "display_data"
    }
   ],
   "source": [
    "plot_recall_precision(history)"
   ]
  },
  {
   "cell_type": "markdown",
   "metadata": {
    "colab_type": "text",
    "id": "hfo8dHFwxvR3"
   },
   "source": [
    "# 5. Analysis"
   ]
  },
  {
   "cell_type": "code",
   "execution_count": 39,
   "metadata": {
    "colab": {},
    "colab_type": "code",
    "id": "xTcPA-xbxvR3"
   },
   "outputs": [
    {
     "ename": "KeyboardInterrupt",
     "evalue": "",
     "output_type": "error",
     "traceback": [
      "\u001b[0;31m-----------------------------------------------------------------------\u001b[0m",
      "\u001b[0;31mKeyboardInterrupt\u001b[0m                     Traceback (most recent call last)",
      "\u001b[0;32m<ipython-input-39-687e683ccba7>\u001b[0m in \u001b[0;36m<module>\u001b[0;34m\u001b[0m\n\u001b[1;32m     25\u001b[0m     \u001b[0;32mreturn\u001b[0m \u001b[0mpd\u001b[0m\u001b[0;34m.\u001b[0m\u001b[0mSeries\u001b[0m\u001b[0;34m(\u001b[0m\u001b[0mbalances\u001b[0m\u001b[0;34m,\u001b[0m \u001b[0mindex\u001b[0m\u001b[0;34m=\u001b[0m\u001b[0mindexes\u001b[0m\u001b[0;34m)\u001b[0m\u001b[0;34m\u001b[0m\u001b[0;34m\u001b[0m\u001b[0m\n\u001b[1;32m     26\u001b[0m \u001b[0;34m\u001b[0m\u001b[0m\n\u001b[0;32m---> 27\u001b[0;31m \u001b[0mbacktest\u001b[0m\u001b[0;34m(\u001b[0m\u001b[0mmodel\u001b[0m\u001b[0;34m)\u001b[0m\u001b[0;34m.\u001b[0m\u001b[0mplot\u001b[0m\u001b[0;34m(\u001b[0m\u001b[0;34m)\u001b[0m\u001b[0;34m\u001b[0m\u001b[0;34m\u001b[0m\u001b[0m\n\u001b[0m\u001b[1;32m     28\u001b[0m \u001b[0mformatted_df\u001b[0m\u001b[0;34m[\u001b[0m\u001b[0;34m'close'\u001b[0m\u001b[0;34m]\u001b[0m\u001b[0;34m.\u001b[0m\u001b[0mloc\u001b[0m\u001b[0;34m[\u001b[0m\u001b[0mtest_df\u001b[0m\u001b[0;34m.\u001b[0m\u001b[0miloc\u001b[0m\u001b[0;34m[\u001b[0m\u001b[0;36m0\u001b[0m\u001b[0;34m]\u001b[0m\u001b[0;34m.\u001b[0m\u001b[0mindex\u001b[0m\u001b[0;34m:\u001b[0m\u001b[0;34m]\u001b[0m\u001b[0;34m.\u001b[0m\u001b[0mplot\u001b[0m\u001b[0;34m(\u001b[0m\u001b[0;34m)\u001b[0m\u001b[0;34m\u001b[0m\u001b[0;34m\u001b[0m\u001b[0m\n",
      "\u001b[0;32m<ipython-input-39-687e683ccba7>\u001b[0m in \u001b[0;36mbacktest\u001b[0;34m(model)\u001b[0m\n\u001b[1;32m     14\u001b[0m         \u001b[0mbalances\u001b[0m\u001b[0;34m.\u001b[0m\u001b[0mappend\u001b[0m\u001b[0;34m(\u001b[0m\u001b[0mbalance\u001b[0m\u001b[0;34m)\u001b[0m\u001b[0;34m\u001b[0m\u001b[0;34m\u001b[0m\u001b[0m\n\u001b[1;32m     15\u001b[0m         \u001b[0mindexes\u001b[0m\u001b[0;34m.\u001b[0m\u001b[0mappend\u001b[0m\u001b[0;34m(\u001b[0m\u001b[0midx\u001b[0m\u001b[0;34m)\u001b[0m\u001b[0;34m\u001b[0m\u001b[0;34m\u001b[0m\u001b[0m\n\u001b[0;32m---> 16\u001b[0;31m         predictions = model.predict(np.reshape(row.to_numpy(),\n\u001b[0m\u001b[1;32m     17\u001b[0m                                                (-1, len(FEATURES))))[0]\n\u001b[1;32m     18\u001b[0m         weighted_prediction = [weight_from_label(LABELS[idx])*pred\n",
      "\u001b[0;32m~/.local/share/virtualenvs/pbc-AS_-2Y6Z/lib/python3.8/site-packages/tensorflow/python/keras/engine/training.py\u001b[0m in \u001b[0;36m_method_wrapper\u001b[0;34m(self, *args, **kwargs)\u001b[0m\n\u001b[1;32m    128\u001b[0m       raise ValueError('{} is not supported in multi-worker mode.'.format(\n\u001b[1;32m    129\u001b[0m           method.__name__))\n\u001b[0;32m--> 130\u001b[0;31m     \u001b[0;32mreturn\u001b[0m \u001b[0mmethod\u001b[0m\u001b[0;34m(\u001b[0m\u001b[0mself\u001b[0m\u001b[0;34m,\u001b[0m \u001b[0;34m*\u001b[0m\u001b[0margs\u001b[0m\u001b[0;34m,\u001b[0m \u001b[0;34m**\u001b[0m\u001b[0mkwargs\u001b[0m\u001b[0;34m)\u001b[0m\u001b[0;34m\u001b[0m\u001b[0;34m\u001b[0m\u001b[0m\n\u001b[0m\u001b[1;32m    131\u001b[0m \u001b[0;34m\u001b[0m\u001b[0m\n\u001b[1;32m    132\u001b[0m   return tf_decorator.make_decorator(\n",
      "\u001b[0;32m~/.local/share/virtualenvs/pbc-AS_-2Y6Z/lib/python3.8/site-packages/tensorflow/python/keras/engine/training.py\u001b[0m in \u001b[0;36mpredict\u001b[0;34m(self, x, batch_size, verbose, steps, callbacks, max_queue_size, workers, use_multiprocessing)\u001b[0m\n\u001b[1;32m   1567\u001b[0m     \u001b[0;32mwith\u001b[0m \u001b[0mself\u001b[0m\u001b[0;34m.\u001b[0m\u001b[0mdistribute_strategy\u001b[0m\u001b[0;34m.\u001b[0m\u001b[0mscope\u001b[0m\u001b[0;34m(\u001b[0m\u001b[0;34m)\u001b[0m\u001b[0;34m:\u001b[0m\u001b[0;34m\u001b[0m\u001b[0;34m\u001b[0m\u001b[0m\n\u001b[1;32m   1568\u001b[0m       \u001b[0;31m# Creates a `tf.data.Dataset` and handles batch and epoch iteration.\u001b[0m\u001b[0;34m\u001b[0m\u001b[0;34m\u001b[0m\u001b[0;34m\u001b[0m\u001b[0m\n\u001b[0;32m-> 1569\u001b[0;31m       data_handler = data_adapter.DataHandler(\n\u001b[0m\u001b[1;32m   1570\u001b[0m           \u001b[0mx\u001b[0m\u001b[0;34m=\u001b[0m\u001b[0mx\u001b[0m\u001b[0;34m,\u001b[0m\u001b[0;34m\u001b[0m\u001b[0;34m\u001b[0m\u001b[0m\n\u001b[1;32m   1571\u001b[0m           \u001b[0mbatch_size\u001b[0m\u001b[0;34m=\u001b[0m\u001b[0mbatch_size\u001b[0m\u001b[0;34m,\u001b[0m\u001b[0;34m\u001b[0m\u001b[0;34m\u001b[0m\u001b[0m\n",
      "\u001b[0;32m~/.local/share/virtualenvs/pbc-AS_-2Y6Z/lib/python3.8/site-packages/tensorflow/python/keras/engine/data_adapter.py\u001b[0m in \u001b[0;36m__init__\u001b[0;34m(self, x, y, sample_weight, batch_size, steps_per_epoch, initial_epoch, epochs, shuffle, class_weight, max_queue_size, workers, use_multiprocessing, model, steps_per_execution)\u001b[0m\n\u001b[1;32m   1103\u001b[0m \u001b[0;34m\u001b[0m\u001b[0m\n\u001b[1;32m   1104\u001b[0m     \u001b[0madapter_cls\u001b[0m \u001b[0;34m=\u001b[0m \u001b[0mselect_data_adapter\u001b[0m\u001b[0;34m(\u001b[0m\u001b[0mx\u001b[0m\u001b[0;34m,\u001b[0m \u001b[0my\u001b[0m\u001b[0;34m)\u001b[0m\u001b[0;34m\u001b[0m\u001b[0;34m\u001b[0m\u001b[0m\n\u001b[0;32m-> 1105\u001b[0;31m     self._adapter = adapter_cls(\n\u001b[0m\u001b[1;32m   1106\u001b[0m         \u001b[0mx\u001b[0m\u001b[0;34m,\u001b[0m\u001b[0;34m\u001b[0m\u001b[0;34m\u001b[0m\u001b[0m\n\u001b[1;32m   1107\u001b[0m         \u001b[0my\u001b[0m\u001b[0;34m,\u001b[0m\u001b[0;34m\u001b[0m\u001b[0;34m\u001b[0m\u001b[0m\n",
      "\u001b[0;32m~/.local/share/virtualenvs/pbc-AS_-2Y6Z/lib/python3.8/site-packages/tensorflow/python/keras/engine/data_adapter.py\u001b[0m in \u001b[0;36m__init__\u001b[0;34m(self, x, y, sample_weights, sample_weight_modes, batch_size, epochs, steps, shuffle, **kwargs)\u001b[0m\n\u001b[1;32m    360\u001b[0m       \u001b[0;32mreturn\u001b[0m \u001b[0mflat_dataset\u001b[0m\u001b[0;34m\u001b[0m\u001b[0;34m\u001b[0m\u001b[0m\n\u001b[1;32m    361\u001b[0m \u001b[0;34m\u001b[0m\u001b[0m\n\u001b[0;32m--> 362\u001b[0;31m     \u001b[0mindices_dataset\u001b[0m \u001b[0;34m=\u001b[0m \u001b[0mindices_dataset\u001b[0m\u001b[0;34m.\u001b[0m\u001b[0mflat_map\u001b[0m\u001b[0;34m(\u001b[0m\u001b[0mslice_batch_indices\u001b[0m\u001b[0;34m)\u001b[0m\u001b[0;34m\u001b[0m\u001b[0;34m\u001b[0m\u001b[0m\n\u001b[0m\u001b[1;32m    363\u001b[0m \u001b[0;34m\u001b[0m\u001b[0m\n\u001b[1;32m    364\u001b[0m     \u001b[0mdataset\u001b[0m \u001b[0;34m=\u001b[0m \u001b[0mself\u001b[0m\u001b[0;34m.\u001b[0m\u001b[0mslice_inputs\u001b[0m\u001b[0;34m(\u001b[0m\u001b[0mindices_dataset\u001b[0m\u001b[0;34m,\u001b[0m \u001b[0minputs\u001b[0m\u001b[0;34m)\u001b[0m\u001b[0;34m\u001b[0m\u001b[0;34m\u001b[0m\u001b[0m\n",
      "\u001b[0;32m~/.local/share/virtualenvs/pbc-AS_-2Y6Z/lib/python3.8/site-packages/tensorflow/python/data/ops/dataset_ops.py\u001b[0m in \u001b[0;36mflat_map\u001b[0;34m(self, map_func)\u001b[0m\n\u001b[1;32m   1725\u001b[0m       \u001b[0mDataset\u001b[0m\u001b[0;34m:\u001b[0m \u001b[0mA\u001b[0m\u001b[0;31m \u001b[0m\u001b[0;31m`\u001b[0m\u001b[0mDataset\u001b[0m\u001b[0;31m`\u001b[0m\u001b[0;34m.\u001b[0m\u001b[0;34m\u001b[0m\u001b[0;34m\u001b[0m\u001b[0m\n\u001b[1;32m   1726\u001b[0m     \"\"\"\n\u001b[0;32m-> 1727\u001b[0;31m     \u001b[0;32mreturn\u001b[0m \u001b[0mFlatMapDataset\u001b[0m\u001b[0;34m(\u001b[0m\u001b[0mself\u001b[0m\u001b[0;34m,\u001b[0m \u001b[0mmap_func\u001b[0m\u001b[0;34m)\u001b[0m\u001b[0;34m\u001b[0m\u001b[0;34m\u001b[0m\u001b[0m\n\u001b[0m\u001b[1;32m   1728\u001b[0m \u001b[0;34m\u001b[0m\u001b[0m\n\u001b[1;32m   1729\u001b[0m   def interleave(self,\n",
      "\u001b[0;32m~/.local/share/virtualenvs/pbc-AS_-2Y6Z/lib/python3.8/site-packages/tensorflow/python/data/ops/dataset_ops.py\u001b[0m in \u001b[0;36m__init__\u001b[0;34m(self, input_dataset, map_func)\u001b[0m\n\u001b[1;32m   4120\u001b[0m     \u001b[0;34m\"\"\"See `Dataset.flat_map()` for details.\"\"\"\u001b[0m\u001b[0;34m\u001b[0m\u001b[0;34m\u001b[0m\u001b[0m\n\u001b[1;32m   4121\u001b[0m     \u001b[0mself\u001b[0m\u001b[0;34m.\u001b[0m\u001b[0m_input_dataset\u001b[0m \u001b[0;34m=\u001b[0m \u001b[0minput_dataset\u001b[0m\u001b[0;34m\u001b[0m\u001b[0;34m\u001b[0m\u001b[0m\n\u001b[0;32m-> 4122\u001b[0;31m     self._map_func = StructuredFunctionWrapper(\n\u001b[0m\u001b[1;32m   4123\u001b[0m         map_func, self._transformation_name(), dataset=input_dataset)\n\u001b[1;32m   4124\u001b[0m     \u001b[0;32mif\u001b[0m \u001b[0;32mnot\u001b[0m \u001b[0misinstance\u001b[0m\u001b[0;34m(\u001b[0m\u001b[0mself\u001b[0m\u001b[0;34m.\u001b[0m\u001b[0m_map_func\u001b[0m\u001b[0;34m.\u001b[0m\u001b[0moutput_structure\u001b[0m\u001b[0;34m,\u001b[0m \u001b[0mDatasetSpec\u001b[0m\u001b[0;34m)\u001b[0m\u001b[0;34m:\u001b[0m\u001b[0;34m\u001b[0m\u001b[0;34m\u001b[0m\u001b[0m\n",
      "\u001b[0;32m~/.local/share/virtualenvs/pbc-AS_-2Y6Z/lib/python3.8/site-packages/tensorflow/python/data/ops/dataset_ops.py\u001b[0m in \u001b[0;36m__init__\u001b[0;34m(self, func, transformation_name, dataset, input_classes, input_shapes, input_types, input_structure, add_to_graph, use_legacy_function, defun_kwargs)\u001b[0m\n\u001b[1;32m   3369\u001b[0m       \u001b[0;32mwith\u001b[0m \u001b[0mtracking\u001b[0m\u001b[0;34m.\u001b[0m\u001b[0mresource_tracker_scope\u001b[0m\u001b[0;34m(\u001b[0m\u001b[0mresource_tracker\u001b[0m\u001b[0;34m)\u001b[0m\u001b[0;34m:\u001b[0m\u001b[0;34m\u001b[0m\u001b[0;34m\u001b[0m\u001b[0m\n\u001b[1;32m   3370\u001b[0m         \u001b[0;31m# TODO(b/141462134): Switch to using garbage collection.\u001b[0m\u001b[0;34m\u001b[0m\u001b[0;34m\u001b[0m\u001b[0;34m\u001b[0m\u001b[0m\n\u001b[0;32m-> 3371\u001b[0;31m         \u001b[0mself\u001b[0m\u001b[0;34m.\u001b[0m\u001b[0m_function\u001b[0m \u001b[0;34m=\u001b[0m \u001b[0mwrapper_fn\u001b[0m\u001b[0;34m.\u001b[0m\u001b[0mget_concrete_function\u001b[0m\u001b[0;34m(\u001b[0m\u001b[0;34m)\u001b[0m\u001b[0;34m\u001b[0m\u001b[0;34m\u001b[0m\u001b[0m\n\u001b[0m\u001b[1;32m   3372\u001b[0m         \u001b[0;32mif\u001b[0m \u001b[0madd_to_graph\u001b[0m\u001b[0;34m:\u001b[0m\u001b[0;34m\u001b[0m\u001b[0;34m\u001b[0m\u001b[0m\n\u001b[1;32m   3373\u001b[0m           \u001b[0mself\u001b[0m\u001b[0;34m.\u001b[0m\u001b[0m_function\u001b[0m\u001b[0;34m.\u001b[0m\u001b[0madd_to_graph\u001b[0m\u001b[0;34m(\u001b[0m\u001b[0mops\u001b[0m\u001b[0;34m.\u001b[0m\u001b[0mget_default_graph\u001b[0m\u001b[0;34m(\u001b[0m\u001b[0;34m)\u001b[0m\u001b[0;34m)\u001b[0m\u001b[0;34m\u001b[0m\u001b[0;34m\u001b[0m\u001b[0m\n",
      "\u001b[0;32m~/.local/share/virtualenvs/pbc-AS_-2Y6Z/lib/python3.8/site-packages/tensorflow/python/eager/function.py\u001b[0m in \u001b[0;36mget_concrete_function\u001b[0;34m(self, *args, **kwargs)\u001b[0m\n\u001b[1;32m   2936\u001b[0m       \u001b[0;34m**\u001b[0m\u001b[0mkwargs\u001b[0m\u001b[0;34m:\u001b[0m \u001b[0minputs\u001b[0m \u001b[0mto\u001b[0m \u001b[0mspecialize\u001b[0m \u001b[0mon\u001b[0m\u001b[0;34m.\u001b[0m\u001b[0;34m\u001b[0m\u001b[0;34m\u001b[0m\u001b[0m\n\u001b[1;32m   2937\u001b[0m     \"\"\"\n\u001b[0;32m-> 2938\u001b[0;31m     graph_function = self._get_concrete_function_garbage_collected(\n\u001b[0m\u001b[1;32m   2939\u001b[0m         *args, **kwargs)\n\u001b[1;32m   2940\u001b[0m     \u001b[0mgraph_function\u001b[0m\u001b[0;34m.\u001b[0m\u001b[0m_garbage_collector\u001b[0m\u001b[0;34m.\u001b[0m\u001b[0mrelease\u001b[0m\u001b[0;34m(\u001b[0m\u001b[0;34m)\u001b[0m  \u001b[0;31m# pylint: disable=protected-access\u001b[0m\u001b[0;34m\u001b[0m\u001b[0;34m\u001b[0m\u001b[0m\n",
      "\u001b[0;32m~/.local/share/virtualenvs/pbc-AS_-2Y6Z/lib/python3.8/site-packages/tensorflow/python/eager/function.py\u001b[0m in \u001b[0;36m_get_concrete_function_garbage_collected\u001b[0;34m(self, *args, **kwargs)\u001b[0m\n\u001b[1;32m   2904\u001b[0m       \u001b[0margs\u001b[0m\u001b[0;34m,\u001b[0m \u001b[0mkwargs\u001b[0m \u001b[0;34m=\u001b[0m \u001b[0;32mNone\u001b[0m\u001b[0;34m,\u001b[0m \u001b[0;32mNone\u001b[0m\u001b[0;34m\u001b[0m\u001b[0;34m\u001b[0m\u001b[0m\n\u001b[1;32m   2905\u001b[0m     \u001b[0;32mwith\u001b[0m \u001b[0mself\u001b[0m\u001b[0;34m.\u001b[0m\u001b[0m_lock\u001b[0m\u001b[0;34m:\u001b[0m\u001b[0;34m\u001b[0m\u001b[0;34m\u001b[0m\u001b[0m\n\u001b[0;32m-> 2906\u001b[0;31m       \u001b[0mgraph_function\u001b[0m\u001b[0;34m,\u001b[0m \u001b[0margs\u001b[0m\u001b[0;34m,\u001b[0m \u001b[0mkwargs\u001b[0m \u001b[0;34m=\u001b[0m \u001b[0mself\u001b[0m\u001b[0;34m.\u001b[0m\u001b[0m_maybe_define_function\u001b[0m\u001b[0;34m(\u001b[0m\u001b[0margs\u001b[0m\u001b[0;34m,\u001b[0m \u001b[0mkwargs\u001b[0m\u001b[0;34m)\u001b[0m\u001b[0;34m\u001b[0m\u001b[0;34m\u001b[0m\u001b[0m\n\u001b[0m\u001b[1;32m   2907\u001b[0m       \u001b[0mseen_names\u001b[0m \u001b[0;34m=\u001b[0m \u001b[0mset\u001b[0m\u001b[0;34m(\u001b[0m\u001b[0;34m)\u001b[0m\u001b[0;34m\u001b[0m\u001b[0;34m\u001b[0m\u001b[0m\n\u001b[1;32m   2908\u001b[0m       captured = object_identity.ObjectIdentitySet(\n",
      "\u001b[0;32m~/.local/share/virtualenvs/pbc-AS_-2Y6Z/lib/python3.8/site-packages/tensorflow/python/eager/function.py\u001b[0m in \u001b[0;36m_maybe_define_function\u001b[0;34m(self, args, kwargs)\u001b[0m\n\u001b[1;32m   3211\u001b[0m \u001b[0;34m\u001b[0m\u001b[0m\n\u001b[1;32m   3212\u001b[0m       \u001b[0mself\u001b[0m\u001b[0;34m.\u001b[0m\u001b[0m_function_cache\u001b[0m\u001b[0;34m.\u001b[0m\u001b[0mmissed\u001b[0m\u001b[0;34m.\u001b[0m\u001b[0madd\u001b[0m\u001b[0;34m(\u001b[0m\u001b[0mcall_context_key\u001b[0m\u001b[0;34m)\u001b[0m\u001b[0;34m\u001b[0m\u001b[0;34m\u001b[0m\u001b[0m\n\u001b[0;32m-> 3213\u001b[0;31m       \u001b[0mgraph_function\u001b[0m \u001b[0;34m=\u001b[0m \u001b[0mself\u001b[0m\u001b[0;34m.\u001b[0m\u001b[0m_create_graph_function\u001b[0m\u001b[0;34m(\u001b[0m\u001b[0margs\u001b[0m\u001b[0;34m,\u001b[0m \u001b[0mkwargs\u001b[0m\u001b[0;34m)\u001b[0m\u001b[0;34m\u001b[0m\u001b[0;34m\u001b[0m\u001b[0m\n\u001b[0m\u001b[1;32m   3214\u001b[0m       \u001b[0mself\u001b[0m\u001b[0;34m.\u001b[0m\u001b[0m_function_cache\u001b[0m\u001b[0;34m.\u001b[0m\u001b[0mprimary\u001b[0m\u001b[0;34m[\u001b[0m\u001b[0mcache_key\u001b[0m\u001b[0;34m]\u001b[0m \u001b[0;34m=\u001b[0m \u001b[0mgraph_function\u001b[0m\u001b[0;34m\u001b[0m\u001b[0;34m\u001b[0m\u001b[0m\n\u001b[1;32m   3215\u001b[0m       \u001b[0;32mreturn\u001b[0m \u001b[0mgraph_function\u001b[0m\u001b[0;34m,\u001b[0m \u001b[0margs\u001b[0m\u001b[0;34m,\u001b[0m \u001b[0mkwargs\u001b[0m\u001b[0;34m\u001b[0m\u001b[0;34m\u001b[0m\u001b[0m\n",
      "\u001b[0;32m~/.local/share/virtualenvs/pbc-AS_-2Y6Z/lib/python3.8/site-packages/tensorflow/python/eager/function.py\u001b[0m in \u001b[0;36m_create_graph_function\u001b[0;34m(self, args, kwargs, override_flat_arg_shapes)\u001b[0m\n\u001b[1;32m   3063\u001b[0m     \u001b[0marg_names\u001b[0m \u001b[0;34m=\u001b[0m \u001b[0mbase_arg_names\u001b[0m \u001b[0;34m+\u001b[0m \u001b[0mmissing_arg_names\u001b[0m\u001b[0;34m\u001b[0m\u001b[0;34m\u001b[0m\u001b[0m\n\u001b[1;32m   3064\u001b[0m     graph_function = ConcreteFunction(\n\u001b[0;32m-> 3065\u001b[0;31m         func_graph_module.func_graph_from_py_func(\n\u001b[0m\u001b[1;32m   3066\u001b[0m             \u001b[0mself\u001b[0m\u001b[0;34m.\u001b[0m\u001b[0m_name\u001b[0m\u001b[0;34m,\u001b[0m\u001b[0;34m\u001b[0m\u001b[0;34m\u001b[0m\u001b[0m\n\u001b[1;32m   3067\u001b[0m             \u001b[0mself\u001b[0m\u001b[0;34m.\u001b[0m\u001b[0m_python_function\u001b[0m\u001b[0;34m,\u001b[0m\u001b[0;34m\u001b[0m\u001b[0;34m\u001b[0m\u001b[0m\n",
      "\u001b[0;32m~/.local/share/virtualenvs/pbc-AS_-2Y6Z/lib/python3.8/site-packages/tensorflow/python/framework/func_graph.py\u001b[0m in \u001b[0;36mfunc_graph_from_py_func\u001b[0;34m(name, python_func, args, kwargs, signature, func_graph, autograph, autograph_options, add_control_dependencies, arg_names, op_return_value, collections, capture_by_value, override_flat_arg_shapes)\u001b[0m\n\u001b[1;32m    984\u001b[0m         \u001b[0m_\u001b[0m\u001b[0;34m,\u001b[0m \u001b[0moriginal_func\u001b[0m \u001b[0;34m=\u001b[0m \u001b[0mtf_decorator\u001b[0m\u001b[0;34m.\u001b[0m\u001b[0munwrap\u001b[0m\u001b[0;34m(\u001b[0m\u001b[0mpython_func\u001b[0m\u001b[0;34m)\u001b[0m\u001b[0;34m\u001b[0m\u001b[0;34m\u001b[0m\u001b[0m\n\u001b[1;32m    985\u001b[0m \u001b[0;34m\u001b[0m\u001b[0m\n\u001b[0;32m--> 986\u001b[0;31m       \u001b[0mfunc_outputs\u001b[0m \u001b[0;34m=\u001b[0m \u001b[0mpython_func\u001b[0m\u001b[0;34m(\u001b[0m\u001b[0;34m*\u001b[0m\u001b[0mfunc_args\u001b[0m\u001b[0;34m,\u001b[0m \u001b[0;34m**\u001b[0m\u001b[0mfunc_kwargs\u001b[0m\u001b[0;34m)\u001b[0m\u001b[0;34m\u001b[0m\u001b[0;34m\u001b[0m\u001b[0m\n\u001b[0m\u001b[1;32m    987\u001b[0m \u001b[0;34m\u001b[0m\u001b[0m\n\u001b[1;32m    988\u001b[0m       \u001b[0;31m# invariant: `func_outputs` contains only Tensors, CompositeTensors,\u001b[0m\u001b[0;34m\u001b[0m\u001b[0;34m\u001b[0m\u001b[0;34m\u001b[0m\u001b[0m\n",
      "\u001b[0;32m~/.local/share/virtualenvs/pbc-AS_-2Y6Z/lib/python3.8/site-packages/tensorflow/python/data/ops/dataset_ops.py\u001b[0m in \u001b[0;36mwrapper_fn\u001b[0;34m(*args)\u001b[0m\n\u001b[1;32m   3362\u001b[0m           attributes=defun_kwargs)\n\u001b[1;32m   3363\u001b[0m       \u001b[0;32mdef\u001b[0m \u001b[0mwrapper_fn\u001b[0m\u001b[0;34m(\u001b[0m\u001b[0;34m*\u001b[0m\u001b[0margs\u001b[0m\u001b[0;34m)\u001b[0m\u001b[0;34m:\u001b[0m  \u001b[0;31m# pylint: disable=missing-docstring\u001b[0m\u001b[0;34m\u001b[0m\u001b[0;34m\u001b[0m\u001b[0m\n\u001b[0;32m-> 3364\u001b[0;31m         \u001b[0mret\u001b[0m \u001b[0;34m=\u001b[0m \u001b[0m_wrapper_helper\u001b[0m\u001b[0;34m(\u001b[0m\u001b[0;34m*\u001b[0m\u001b[0margs\u001b[0m\u001b[0;34m)\u001b[0m\u001b[0;34m\u001b[0m\u001b[0;34m\u001b[0m\u001b[0m\n\u001b[0m\u001b[1;32m   3365\u001b[0m         \u001b[0mret\u001b[0m \u001b[0;34m=\u001b[0m \u001b[0mstructure\u001b[0m\u001b[0;34m.\u001b[0m\u001b[0mto_tensor_list\u001b[0m\u001b[0;34m(\u001b[0m\u001b[0mself\u001b[0m\u001b[0;34m.\u001b[0m\u001b[0m_output_structure\u001b[0m\u001b[0;34m,\u001b[0m \u001b[0mret\u001b[0m\u001b[0;34m)\u001b[0m\u001b[0;34m\u001b[0m\u001b[0;34m\u001b[0m\u001b[0m\n\u001b[1;32m   3366\u001b[0m         \u001b[0;32mreturn\u001b[0m \u001b[0;34m[\u001b[0m\u001b[0mops\u001b[0m\u001b[0;34m.\u001b[0m\u001b[0mconvert_to_tensor\u001b[0m\u001b[0;34m(\u001b[0m\u001b[0mt\u001b[0m\u001b[0;34m)\u001b[0m \u001b[0;32mfor\u001b[0m \u001b[0mt\u001b[0m \u001b[0;32min\u001b[0m \u001b[0mret\u001b[0m\u001b[0;34m]\u001b[0m\u001b[0;34m\u001b[0m\u001b[0;34m\u001b[0m\u001b[0m\n",
      "\u001b[0;32m~/.local/share/virtualenvs/pbc-AS_-2Y6Z/lib/python3.8/site-packages/tensorflow/python/data/ops/dataset_ops.py\u001b[0m in \u001b[0;36m_wrapper_helper\u001b[0;34m(*args)\u001b[0m\n\u001b[1;32m   3297\u001b[0m         \u001b[0mnested_args\u001b[0m \u001b[0;34m=\u001b[0m \u001b[0;34m(\u001b[0m\u001b[0mnested_args\u001b[0m\u001b[0;34m,\u001b[0m\u001b[0;34m)\u001b[0m\u001b[0;34m\u001b[0m\u001b[0;34m\u001b[0m\u001b[0m\n\u001b[1;32m   3298\u001b[0m \u001b[0;34m\u001b[0m\u001b[0m\n\u001b[0;32m-> 3299\u001b[0;31m       \u001b[0mret\u001b[0m \u001b[0;34m=\u001b[0m \u001b[0mautograph\u001b[0m\u001b[0;34m.\u001b[0m\u001b[0mtf_convert\u001b[0m\u001b[0;34m(\u001b[0m\u001b[0mfunc\u001b[0m\u001b[0;34m,\u001b[0m \u001b[0mag_ctx\u001b[0m\u001b[0;34m)\u001b[0m\u001b[0;34m(\u001b[0m\u001b[0;34m*\u001b[0m\u001b[0mnested_args\u001b[0m\u001b[0;34m)\u001b[0m\u001b[0;34m\u001b[0m\u001b[0;34m\u001b[0m\u001b[0m\n\u001b[0m\u001b[1;32m   3300\u001b[0m       \u001b[0;31m# If `func` returns a list of tensors, `nest.flatten()` and\u001b[0m\u001b[0;34m\u001b[0m\u001b[0;34m\u001b[0m\u001b[0;34m\u001b[0m\u001b[0m\n\u001b[1;32m   3301\u001b[0m       \u001b[0;31m# `ops.convert_to_tensor()` would conspire to attempt to stack\u001b[0m\u001b[0;34m\u001b[0m\u001b[0;34m\u001b[0m\u001b[0;34m\u001b[0m\u001b[0m\n",
      "\u001b[0;32m~/.local/share/virtualenvs/pbc-AS_-2Y6Z/lib/python3.8/site-packages/tensorflow/python/autograph/impl/api.py\u001b[0m in \u001b[0;36mwrapper\u001b[0;34m(*args, **kwargs)\u001b[0m\n\u001b[1;32m    253\u001b[0m       \u001b[0;32mtry\u001b[0m\u001b[0;34m:\u001b[0m\u001b[0;34m\u001b[0m\u001b[0;34m\u001b[0m\u001b[0m\n\u001b[1;32m    254\u001b[0m         \u001b[0;32mwith\u001b[0m \u001b[0mconversion_ctx\u001b[0m\u001b[0;34m:\u001b[0m\u001b[0;34m\u001b[0m\u001b[0;34m\u001b[0m\u001b[0m\n\u001b[0;32m--> 255\u001b[0;31m           \u001b[0;32mreturn\u001b[0m \u001b[0mconverted_call\u001b[0m\u001b[0;34m(\u001b[0m\u001b[0mf\u001b[0m\u001b[0;34m,\u001b[0m \u001b[0margs\u001b[0m\u001b[0;34m,\u001b[0m \u001b[0mkwargs\u001b[0m\u001b[0;34m,\u001b[0m \u001b[0moptions\u001b[0m\u001b[0;34m=\u001b[0m\u001b[0moptions\u001b[0m\u001b[0;34m)\u001b[0m\u001b[0;34m\u001b[0m\u001b[0;34m\u001b[0m\u001b[0m\n\u001b[0m\u001b[1;32m    256\u001b[0m       \u001b[0;32mexcept\u001b[0m \u001b[0mException\u001b[0m \u001b[0;32mas\u001b[0m \u001b[0me\u001b[0m\u001b[0;34m:\u001b[0m  \u001b[0;31m# pylint:disable=broad-except\u001b[0m\u001b[0;34m\u001b[0m\u001b[0;34m\u001b[0m\u001b[0m\n\u001b[1;32m    257\u001b[0m         \u001b[0;32mif\u001b[0m \u001b[0mhasattr\u001b[0m\u001b[0;34m(\u001b[0m\u001b[0me\u001b[0m\u001b[0;34m,\u001b[0m \u001b[0;34m'ag_error_metadata'\u001b[0m\u001b[0;34m)\u001b[0m\u001b[0;34m:\u001b[0m\u001b[0;34m\u001b[0m\u001b[0;34m\u001b[0m\u001b[0m\n",
      "\u001b[0;32m~/.local/share/virtualenvs/pbc-AS_-2Y6Z/lib/python3.8/site-packages/tensorflow/python/autograph/impl/api.py\u001b[0m in \u001b[0;36mconverted_call\u001b[0;34m(f, args, kwargs, caller_fn_scope, options)\u001b[0m\n\u001b[1;32m    530\u001b[0m \u001b[0;34m\u001b[0m\u001b[0m\n\u001b[1;32m    531\u001b[0m   \u001b[0;32mif\u001b[0m \u001b[0;32mnot\u001b[0m \u001b[0moptions\u001b[0m\u001b[0;34m.\u001b[0m\u001b[0muser_requested\u001b[0m \u001b[0;32mand\u001b[0m \u001b[0mconversion\u001b[0m\u001b[0;34m.\u001b[0m\u001b[0mis_whitelisted\u001b[0m\u001b[0;34m(\u001b[0m\u001b[0mf\u001b[0m\u001b[0;34m)\u001b[0m\u001b[0;34m:\u001b[0m\u001b[0;34m\u001b[0m\u001b[0;34m\u001b[0m\u001b[0m\n\u001b[0;32m--> 532\u001b[0;31m     \u001b[0;32mreturn\u001b[0m \u001b[0m_call_unconverted\u001b[0m\u001b[0;34m(\u001b[0m\u001b[0mf\u001b[0m\u001b[0;34m,\u001b[0m \u001b[0margs\u001b[0m\u001b[0;34m,\u001b[0m \u001b[0mkwargs\u001b[0m\u001b[0;34m,\u001b[0m \u001b[0moptions\u001b[0m\u001b[0;34m)\u001b[0m\u001b[0;34m\u001b[0m\u001b[0;34m\u001b[0m\u001b[0m\n\u001b[0m\u001b[1;32m    533\u001b[0m \u001b[0;34m\u001b[0m\u001b[0m\n\u001b[1;32m    534\u001b[0m   \u001b[0;31m# internal_convert_user_code is for example turned off when issuing a dynamic\u001b[0m\u001b[0;34m\u001b[0m\u001b[0;34m\u001b[0m\u001b[0;34m\u001b[0m\u001b[0m\n",
      "\u001b[0;32m~/.local/share/virtualenvs/pbc-AS_-2Y6Z/lib/python3.8/site-packages/tensorflow/python/autograph/impl/api.py\u001b[0m in \u001b[0;36m_call_unconverted\u001b[0;34m(f, args, kwargs, options, update_cache)\u001b[0m\n\u001b[1;32m    337\u001b[0m \u001b[0;34m\u001b[0m\u001b[0m\n\u001b[1;32m    338\u001b[0m   \u001b[0;32mif\u001b[0m \u001b[0mkwargs\u001b[0m \u001b[0;32mis\u001b[0m \u001b[0;32mnot\u001b[0m \u001b[0;32mNone\u001b[0m\u001b[0;34m:\u001b[0m\u001b[0;34m\u001b[0m\u001b[0;34m\u001b[0m\u001b[0m\n\u001b[0;32m--> 339\u001b[0;31m     \u001b[0;32mreturn\u001b[0m \u001b[0mf\u001b[0m\u001b[0;34m(\u001b[0m\u001b[0;34m*\u001b[0m\u001b[0margs\u001b[0m\u001b[0;34m,\u001b[0m \u001b[0;34m**\u001b[0m\u001b[0mkwargs\u001b[0m\u001b[0;34m)\u001b[0m\u001b[0;34m\u001b[0m\u001b[0;34m\u001b[0m\u001b[0m\n\u001b[0m\u001b[1;32m    340\u001b[0m   \u001b[0;32mreturn\u001b[0m \u001b[0mf\u001b[0m\u001b[0;34m(\u001b[0m\u001b[0;34m*\u001b[0m\u001b[0margs\u001b[0m\u001b[0;34m)\u001b[0m\u001b[0;34m\u001b[0m\u001b[0;34m\u001b[0m\u001b[0m\n\u001b[1;32m    341\u001b[0m \u001b[0;34m\u001b[0m\u001b[0m\n",
      "\u001b[0;32m~/.local/share/virtualenvs/pbc-AS_-2Y6Z/lib/python3.8/site-packages/tensorflow/python/keras/engine/data_adapter.py\u001b[0m in \u001b[0;36mslice_batch_indices\u001b[0;34m(indices)\u001b[0m\n\u001b[1;32m    345\u001b[0m       \"\"\"\n\u001b[1;32m    346\u001b[0m       \u001b[0mnum_in_full_batch\u001b[0m \u001b[0;34m=\u001b[0m \u001b[0mnum_full_batches\u001b[0m \u001b[0;34m*\u001b[0m \u001b[0mbatch_size\u001b[0m\u001b[0;34m\u001b[0m\u001b[0;34m\u001b[0m\u001b[0m\n\u001b[0;32m--> 347\u001b[0;31m       \u001b[0mfirst_k_indices\u001b[0m \u001b[0;34m=\u001b[0m \u001b[0marray_ops\u001b[0m\u001b[0;34m.\u001b[0m\u001b[0mslice\u001b[0m\u001b[0;34m(\u001b[0m\u001b[0mindices\u001b[0m\u001b[0;34m,\u001b[0m \u001b[0;34m[\u001b[0m\u001b[0;36m0\u001b[0m\u001b[0;34m]\u001b[0m\u001b[0;34m,\u001b[0m \u001b[0;34m[\u001b[0m\u001b[0mnum_in_full_batch\u001b[0m\u001b[0;34m]\u001b[0m\u001b[0;34m)\u001b[0m\u001b[0;34m\u001b[0m\u001b[0;34m\u001b[0m\u001b[0m\n\u001b[0m\u001b[1;32m    348\u001b[0m       first_k_indices = array_ops.reshape(\n\u001b[1;32m    349\u001b[0m           first_k_indices, [num_full_batches, batch_size])\n",
      "\u001b[0;32m~/.local/share/virtualenvs/pbc-AS_-2Y6Z/lib/python3.8/site-packages/tensorflow/python/util/dispatch.py\u001b[0m in \u001b[0;36mwrapper\u001b[0;34m(*args, **kwargs)\u001b[0m\n\u001b[1;32m    199\u001b[0m     \u001b[0;34m\"\"\"Call target, and fall back on dispatchers if there is a TypeError.\"\"\"\u001b[0m\u001b[0;34m\u001b[0m\u001b[0;34m\u001b[0m\u001b[0m\n\u001b[1;32m    200\u001b[0m     \u001b[0;32mtry\u001b[0m\u001b[0;34m:\u001b[0m\u001b[0;34m\u001b[0m\u001b[0;34m\u001b[0m\u001b[0m\n\u001b[0;32m--> 201\u001b[0;31m       \u001b[0;32mreturn\u001b[0m \u001b[0mtarget\u001b[0m\u001b[0;34m(\u001b[0m\u001b[0;34m*\u001b[0m\u001b[0margs\u001b[0m\u001b[0;34m,\u001b[0m \u001b[0;34m**\u001b[0m\u001b[0mkwargs\u001b[0m\u001b[0;34m)\u001b[0m\u001b[0;34m\u001b[0m\u001b[0;34m\u001b[0m\u001b[0m\n\u001b[0m\u001b[1;32m    202\u001b[0m     \u001b[0;32mexcept\u001b[0m \u001b[0;34m(\u001b[0m\u001b[0mTypeError\u001b[0m\u001b[0;34m,\u001b[0m \u001b[0mValueError\u001b[0m\u001b[0;34m)\u001b[0m\u001b[0;34m:\u001b[0m\u001b[0;34m\u001b[0m\u001b[0;34m\u001b[0m\u001b[0m\n\u001b[1;32m    203\u001b[0m       \u001b[0;31m# Note: convert_to_eager_tensor currently raises a ValueError, not a\u001b[0m\u001b[0;34m\u001b[0m\u001b[0;34m\u001b[0m\u001b[0;34m\u001b[0m\u001b[0m\n",
      "\u001b[0;32m~/.local/share/virtualenvs/pbc-AS_-2Y6Z/lib/python3.8/site-packages/tensorflow/python/ops/array_ops.py\u001b[0m in \u001b[0;36mslice\u001b[0;34m(input_, begin, size, name)\u001b[0m\n\u001b[1;32m   1078\u001b[0m     \u001b[0mA\u001b[0m\u001b[0;31m \u001b[0m\u001b[0;31m`\u001b[0m\u001b[0mTensor\u001b[0m\u001b[0;31m`\u001b[0m \u001b[0mthe\u001b[0m \u001b[0msame\u001b[0m \u001b[0mtype\u001b[0m \u001b[0;32mas\u001b[0m\u001b[0;31m \u001b[0m\u001b[0;31m`\u001b[0m\u001b[0minput_\u001b[0m\u001b[0;31m`\u001b[0m\u001b[0;34m.\u001b[0m\u001b[0;34m\u001b[0m\u001b[0;34m\u001b[0m\u001b[0m\n\u001b[1;32m   1079\u001b[0m   \"\"\"\n\u001b[0;32m-> 1080\u001b[0;31m   \u001b[0;32mreturn\u001b[0m \u001b[0mgen_array_ops\u001b[0m\u001b[0;34m.\u001b[0m\u001b[0m_slice\u001b[0m\u001b[0;34m(\u001b[0m\u001b[0minput_\u001b[0m\u001b[0;34m,\u001b[0m \u001b[0mbegin\u001b[0m\u001b[0;34m,\u001b[0m \u001b[0msize\u001b[0m\u001b[0;34m,\u001b[0m \u001b[0mname\u001b[0m\u001b[0;34m=\u001b[0m\u001b[0mname\u001b[0m\u001b[0;34m)\u001b[0m\u001b[0;34m\u001b[0m\u001b[0;34m\u001b[0m\u001b[0m\n\u001b[0m\u001b[1;32m   1081\u001b[0m \u001b[0;34m\u001b[0m\u001b[0m\n\u001b[1;32m   1082\u001b[0m \u001b[0;34m\u001b[0m\u001b[0m\n",
      "\u001b[0;32m~/.local/share/virtualenvs/pbc-AS_-2Y6Z/lib/python3.8/site-packages/tensorflow/python/ops/gen_array_ops.py\u001b[0m in \u001b[0;36m_slice\u001b[0;34m(input, begin, size, name)\u001b[0m\n\u001b[1;32m   9253\u001b[0m       \u001b[0;32mpass\u001b[0m  \u001b[0;31m# Add nodes to the TensorFlow graph.\u001b[0m\u001b[0;34m\u001b[0m\u001b[0;34m\u001b[0m\u001b[0m\n\u001b[1;32m   9254\u001b[0m   \u001b[0;31m# Add nodes to the TensorFlow graph.\u001b[0m\u001b[0;34m\u001b[0m\u001b[0;34m\u001b[0m\u001b[0;34m\u001b[0m\u001b[0m\n\u001b[0;32m-> 9255\u001b[0;31m   _, _, _op, _outputs = _op_def_library._apply_op_helper(\n\u001b[0m\u001b[1;32m   9256\u001b[0m         \"Slice\", input=input, begin=begin, size=size, name=name)\n\u001b[1;32m   9257\u001b[0m   \u001b[0m_result\u001b[0m \u001b[0;34m=\u001b[0m \u001b[0m_outputs\u001b[0m\u001b[0;34m[\u001b[0m\u001b[0;34m:\u001b[0m\u001b[0;34m]\u001b[0m\u001b[0;34m\u001b[0m\u001b[0;34m\u001b[0m\u001b[0m\n",
      "\u001b[0;32m~/.local/share/virtualenvs/pbc-AS_-2Y6Z/lib/python3.8/site-packages/tensorflow/python/framework/op_def_library.py\u001b[0m in \u001b[0;36m_apply_op_helper\u001b[0;34m(op_type_name, name, **keywords)\u001b[0m\n\u001b[1;32m    463\u001b[0m \u001b[0;34m\u001b[0m\u001b[0m\n\u001b[1;32m    464\u001b[0m         \u001b[0;32mtry\u001b[0m\u001b[0;34m:\u001b[0m\u001b[0;34m\u001b[0m\u001b[0;34m\u001b[0m\u001b[0m\n\u001b[0;32m--> 465\u001b[0;31m           values = ops.convert_to_tensor(\n\u001b[0m\u001b[1;32m    466\u001b[0m               \u001b[0mvalues\u001b[0m\u001b[0;34m,\u001b[0m\u001b[0;34m\u001b[0m\u001b[0;34m\u001b[0m\u001b[0m\n\u001b[1;32m    467\u001b[0m               \u001b[0mname\u001b[0m\u001b[0;34m=\u001b[0m\u001b[0minput_arg\u001b[0m\u001b[0;34m.\u001b[0m\u001b[0mname\u001b[0m\u001b[0;34m,\u001b[0m\u001b[0;34m\u001b[0m\u001b[0;34m\u001b[0m\u001b[0m\n",
      "\u001b[0;32m~/.local/share/virtualenvs/pbc-AS_-2Y6Z/lib/python3.8/site-packages/tensorflow/python/framework/ops.py\u001b[0m in \u001b[0;36mconvert_to_tensor\u001b[0;34m(value, dtype, name, as_ref, preferred_dtype, dtype_hint, ctx, accepted_result_types)\u001b[0m\n\u001b[1;32m   1497\u001b[0m \u001b[0;34m\u001b[0m\u001b[0m\n\u001b[1;32m   1498\u001b[0m     \u001b[0;32mif\u001b[0m \u001b[0mret\u001b[0m \u001b[0;32mis\u001b[0m \u001b[0;32mNone\u001b[0m\u001b[0;34m:\u001b[0m\u001b[0;34m\u001b[0m\u001b[0;34m\u001b[0m\u001b[0m\n\u001b[0;32m-> 1499\u001b[0;31m       \u001b[0mret\u001b[0m \u001b[0;34m=\u001b[0m \u001b[0mconversion_func\u001b[0m\u001b[0;34m(\u001b[0m\u001b[0mvalue\u001b[0m\u001b[0;34m,\u001b[0m \u001b[0mdtype\u001b[0m\u001b[0;34m=\u001b[0m\u001b[0mdtype\u001b[0m\u001b[0;34m,\u001b[0m \u001b[0mname\u001b[0m\u001b[0;34m=\u001b[0m\u001b[0mname\u001b[0m\u001b[0;34m,\u001b[0m \u001b[0mas_ref\u001b[0m\u001b[0;34m=\u001b[0m\u001b[0mas_ref\u001b[0m\u001b[0;34m)\u001b[0m\u001b[0;34m\u001b[0m\u001b[0;34m\u001b[0m\u001b[0m\n\u001b[0m\u001b[1;32m   1500\u001b[0m \u001b[0;34m\u001b[0m\u001b[0m\n\u001b[1;32m   1501\u001b[0m     \u001b[0;32mif\u001b[0m \u001b[0mret\u001b[0m \u001b[0;32mis\u001b[0m \u001b[0mNotImplemented\u001b[0m\u001b[0;34m:\u001b[0m\u001b[0;34m\u001b[0m\u001b[0;34m\u001b[0m\u001b[0m\n",
      "\u001b[0;32m~/.local/share/virtualenvs/pbc-AS_-2Y6Z/lib/python3.8/site-packages/tensorflow/python/framework/constant_op.py\u001b[0m in \u001b[0;36m_constant_tensor_conversion_function\u001b[0;34m(v, dtype, name, as_ref)\u001b[0m\n\u001b[1;32m    336\u001b[0m                                          as_ref=False):\n\u001b[1;32m    337\u001b[0m   \u001b[0m_\u001b[0m \u001b[0;34m=\u001b[0m \u001b[0mas_ref\u001b[0m\u001b[0;34m\u001b[0m\u001b[0;34m\u001b[0m\u001b[0m\n\u001b[0;32m--> 338\u001b[0;31m   \u001b[0;32mreturn\u001b[0m \u001b[0mconstant\u001b[0m\u001b[0;34m(\u001b[0m\u001b[0mv\u001b[0m\u001b[0;34m,\u001b[0m \u001b[0mdtype\u001b[0m\u001b[0;34m=\u001b[0m\u001b[0mdtype\u001b[0m\u001b[0;34m,\u001b[0m \u001b[0mname\u001b[0m\u001b[0;34m=\u001b[0m\u001b[0mname\u001b[0m\u001b[0;34m)\u001b[0m\u001b[0;34m\u001b[0m\u001b[0;34m\u001b[0m\u001b[0m\n\u001b[0m\u001b[1;32m    339\u001b[0m \u001b[0;34m\u001b[0m\u001b[0m\n\u001b[1;32m    340\u001b[0m \u001b[0;34m\u001b[0m\u001b[0m\n",
      "\u001b[0;32m~/.local/share/virtualenvs/pbc-AS_-2Y6Z/lib/python3.8/site-packages/tensorflow/python/framework/constant_op.py\u001b[0m in \u001b[0;36mconstant\u001b[0;34m(value, dtype, shape, name)\u001b[0m\n\u001b[1;32m    261\u001b[0m     \u001b[0mValueError\u001b[0m\u001b[0;34m:\u001b[0m \u001b[0;32mif\u001b[0m \u001b[0mcalled\u001b[0m \u001b[0mon\u001b[0m \u001b[0ma\u001b[0m \u001b[0msymbolic\u001b[0m \u001b[0mtensor\u001b[0m\u001b[0;34m.\u001b[0m\u001b[0;34m\u001b[0m\u001b[0;34m\u001b[0m\u001b[0m\n\u001b[1;32m    262\u001b[0m   \"\"\"\n\u001b[0;32m--> 263\u001b[0;31m   return _constant_impl(value, dtype, shape, name, verify_shape=False,\n\u001b[0m\u001b[1;32m    264\u001b[0m                         allow_broadcast=True)\n\u001b[1;32m    265\u001b[0m \u001b[0;34m\u001b[0m\u001b[0m\n",
      "\u001b[0;32m~/.local/share/virtualenvs/pbc-AS_-2Y6Z/lib/python3.8/site-packages/tensorflow/python/framework/constant_op.py\u001b[0m in \u001b[0;36m_constant_impl\u001b[0;34m(value, dtype, shape, name, verify_shape, allow_broadcast)\u001b[0m\n\u001b[1;32m    278\u001b[0m   \u001b[0mtensor_value\u001b[0m \u001b[0;34m=\u001b[0m \u001b[0mattr_value_pb2\u001b[0m\u001b[0;34m.\u001b[0m\u001b[0mAttrValue\u001b[0m\u001b[0;34m(\u001b[0m\u001b[0;34m)\u001b[0m\u001b[0;34m\u001b[0m\u001b[0;34m\u001b[0m\u001b[0m\n\u001b[1;32m    279\u001b[0m   tensor_value.tensor.CopyFrom(\n\u001b[0;32m--> 280\u001b[0;31m       tensor_util.make_tensor_proto(\n\u001b[0m\u001b[1;32m    281\u001b[0m           \u001b[0mvalue\u001b[0m\u001b[0;34m,\u001b[0m \u001b[0mdtype\u001b[0m\u001b[0;34m=\u001b[0m\u001b[0mdtype\u001b[0m\u001b[0;34m,\u001b[0m \u001b[0mshape\u001b[0m\u001b[0;34m=\u001b[0m\u001b[0mshape\u001b[0m\u001b[0;34m,\u001b[0m \u001b[0mverify_shape\u001b[0m\u001b[0;34m=\u001b[0m\u001b[0mverify_shape\u001b[0m\u001b[0;34m,\u001b[0m\u001b[0;34m\u001b[0m\u001b[0;34m\u001b[0m\u001b[0m\n\u001b[1;32m    282\u001b[0m           allow_broadcast=allow_broadcast))\n",
      "\u001b[0;32m~/.local/share/virtualenvs/pbc-AS_-2Y6Z/lib/python3.8/site-packages/tensorflow/python/framework/tensor_util.py\u001b[0m in \u001b[0;36mmake_tensor_proto\u001b[0;34m(values, dtype, shape, verify_shape, allow_broadcast)\u001b[0m\n\u001b[1;32m    455\u001b[0m     \u001b[0;32melse\u001b[0m\u001b[0;34m:\u001b[0m\u001b[0;34m\u001b[0m\u001b[0;34m\u001b[0m\u001b[0m\n\u001b[1;32m    456\u001b[0m       \u001b[0m_AssertCompatible\u001b[0m\u001b[0;34m(\u001b[0m\u001b[0mvalues\u001b[0m\u001b[0;34m,\u001b[0m \u001b[0mdtype\u001b[0m\u001b[0;34m)\u001b[0m\u001b[0;34m\u001b[0m\u001b[0;34m\u001b[0m\u001b[0m\n\u001b[0;32m--> 457\u001b[0;31m       \u001b[0mnparray\u001b[0m \u001b[0;34m=\u001b[0m \u001b[0mnp\u001b[0m\u001b[0;34m.\u001b[0m\u001b[0marray\u001b[0m\u001b[0;34m(\u001b[0m\u001b[0mvalues\u001b[0m\u001b[0;34m,\u001b[0m \u001b[0mdtype\u001b[0m\u001b[0;34m=\u001b[0m\u001b[0mnp_dt\u001b[0m\u001b[0;34m)\u001b[0m\u001b[0;34m\u001b[0m\u001b[0;34m\u001b[0m\u001b[0m\n\u001b[0m\u001b[1;32m    458\u001b[0m       \u001b[0;31m# check to them.\u001b[0m\u001b[0;34m\u001b[0m\u001b[0;34m\u001b[0m\u001b[0;34m\u001b[0m\u001b[0m\n\u001b[1;32m    459\u001b[0m       \u001b[0;31m# We need to pass in quantized values as tuples, so don't apply the shape\u001b[0m\u001b[0;34m\u001b[0m\u001b[0;34m\u001b[0m\u001b[0;34m\u001b[0m\u001b[0m\n",
      "\u001b[0;31mKeyboardInterrupt\u001b[0m: "
     ]
    }
   ],
   "source": [
    "def weight_from_label(label):\n",
    "    direction, weight, _ = label.split(\"_\")\n",
    "    if direction == \"up\":\n",
    "        return float(weight)\n",
    "    return float(weight) * -1\n",
    "\n",
    "def backtest(model):\n",
    "    test_df = X_test.copy()\n",
    "    balances = []\n",
    "    indexes = []\n",
    "    buy_price = None\n",
    "    balance = 1000\n",
    "    for idx, row in test_df.iterrows():\n",
    "        balances.append(balance)\n",
    "        indexes.append(idx)\n",
    "        predictions = model.predict(np.reshape(row.to_numpy(),\n",
    "                                               (-1, len(FEATURES))))[0]\n",
    "        weighted_prediction = [weight_from_label(LABELS[idx])*pred\n",
    "                               for idx, pred in enumerate(predictions)]\n",
    "        if sum(weighted_prediction) < 0 and buy_price is not None:\n",
    "            balance += (formatted_df.loc[idx]['close'] - buy_price)\n",
    "            buy_price = None\n",
    "        elif sum(weighted_prediction) > 0 and buy_price is None:\n",
    "            buy_price = formatted_df.loc[idx]['close']\n",
    "    return pd.Series(balances, index=indexes)\n",
    "\n",
    "backtest(model).plot()\n"
   ]
  },
  {
   "cell_type": "code",
   "execution_count": 46,
   "metadata": {},
   "outputs": [
    {
     "data": {
      "text/plain": [
       "<AxesSubplot:xlabel='timestamp'>"
      ]
     },
     "execution_count": 46,
     "metadata": {},
     "output_type": "execute_result"
    },
    {
     "data": {
      "image/png": "[encoded data removed]",
      "text/plain": [
       "<Figure size 640x480 with 1 Axes>"
      ]
     },
     "metadata": {},
     "output_type": "display_data"
    }
   ],
   "source": [
    "formatted_df['close'].loc[X_test.index[0]:].plot()\n"
   ]
  },
  {
   "cell_type": "code",
   "execution_count": 45,
   "metadata": {},
   "outputs": [
    {
     "data": {
      "text/plain": [
       "Timestamp('2019-10-15 14:37:00')"
      ]
     },
     "execution_count": 45,
     "metadata": {},
     "output_type": "execute_result"
    }
   ],
   "source": []
  },
  {
   "cell_type": "code",
   "execution_count": null,
   "metadata": {},
   "outputs": [],
   "source": []
  }
 ],
 "metadata": {
  "colab": {
   "collapsed_sections": [],
   "name": "pbc-analysis.ipynb",
   "provenance": [],
   "toc_visible": true
  },
  "kernelspec": {
   "display_name": "Python 3",
   "language": "python",
   "name": "python3"
  },
  "language_info": {
   "codemirror_mode": {
    "name": "ipython",
    "version": 3
   },
   "file_extension": ".py",
   "mimetype": "text/x-python",
   "name": "python",
   "nbconvert_exporter": "python",
   "pygments_lexer": "ipython3",
   "version": "3.8.5"
  },
  "widgets": {
   "application/vnd.jupyter.widget-state+json": {
    "4370bc0aa922470d8c1210e5b7e2bd22": {
     "model_module": "@jupyter-widgets/controls",
     "model_name": "ProgressStyleModel",
     "state": {
      "_model_module": "@jupyter-widgets/controls",
      "_model_module_version": "1.5.0",
      "_model_name": "ProgressStyleModel",
      "_view_count": null,
      "_view_module": "@jupyter-widgets/base",
      "_view_module_version": "1.2.0",
      "_view_name": "StyleView",
      "bar_color": null,
      "description_width": "initial"
     }
    },
    "451fdabc1cbe4f818c6a9843166167a9": {
     "model_module": "@jupyter-widgets/base",
     "model_name": "LayoutModel",
     "state": {
      "_model_module": "@jupyter-widgets/base",
      "_model_module_version": "1.2.0",
      "_model_name": "LayoutModel",
      "_view_count": null,
      "_view_module": "@jupyter-widgets/base",
      "_view_module_version": "1.2.0",
      "_view_name": "LayoutView",
      "align_content": null,
      "align_items": null,
      "align_self": null,
      "border": null,
      "bottom": null,
      "display": null,
      "flex": null,
      "flex_flow": null,
      "grid_area": null,
      "grid_auto_columns": null,
      "grid_auto_flow": null,
      "grid_auto_rows": null,
      "grid_column": null,
      "grid_gap": null,
      "grid_row": null,
      "grid_template_areas": null,
      "grid_template_columns": null,
      "grid_template_rows": null,
      "height": null,
      "justify_content": null,
      "justify_items": null,
      "left": null,
      "margin": null,
      "max_height": null,
      "max_width": null,
      "min_height": null,
      "min_width": null,
      "object_fit": null,
      "object_position": null,
      "order": null,
      "overflow": null,
      "overflow_x": null,
      "overflow_y": null,
      "padding": null,
      "right": null,
      "top": null,
      "visibility": null,
      "width": null
     }
    },
    "48aecc6e0994466eb58ca20a51d0bff0": {
     "model_module": "@jupyter-widgets/controls",
     "model_name": "FloatProgressModel",
     "state": {
      "_dom_classes": [],
      "_model_module": "@jupyter-widgets/controls",
      "_model_module_version": "1.5.0",
      "_model_name": "FloatProgressModel",
      "_view_count": null,
      "_view_module": "@jupyter-widgets/controls",
      "_view_module_version": "1.5.0",
      "_view_name": "ProgressView",
      "bar_style": "success",
      "description": "100%",
      "description_tooltip": null,
      "layout": "IPY_MODEL_451fdabc1cbe4f818c6a9843166167a9",
      "max": 4616,
      "min": 0,
      "orientation": "horizontal",
      "style": "IPY_MODEL_4370bc0aa922470d8c1210e5b7e2bd22",
      "value": 4616
     }
    },
    "4bbddb9b608b4e62941b64abdabc0d34": {
     "model_module": "@jupyter-widgets/base",
     "model_name": "LayoutModel",
     "state": {
      "_model_module": "@jupyter-widgets/base",
      "_model_module_version": "1.2.0",
      "_model_name": "LayoutModel",
      "_view_count": null,
      "_view_module": "@jupyter-widgets/base",
      "_view_module_version": "1.2.0",
      "_view_name": "LayoutView",
      "align_content": null,
      "align_items": null,
      "align_self": null,
      "border": null,
      "bottom": null,
      "display": null,
      "flex": null,
      "flex_flow": null,
      "grid_area": null,
      "grid_auto_columns": null,
      "grid_auto_flow": null,
      "grid_auto_rows": null,
      "grid_column": null,
      "grid_gap": null,
      "grid_row": null,
      "grid_template_areas": null,
      "grid_template_columns": null,
      "grid_template_rows": null,
      "height": null,
      "justify_content": null,
      "justify_items": null,
      "left": null,
      "margin": null,
      "max_height": null,
      "max_width": null,
      "min_height": null,
      "min_width": null,
      "object_fit": null,
      "object_position": null,
      "order": null,
      "overflow": null,
      "overflow_x": null,
      "overflow_y": null,
      "padding": null,
      "right": null,
      "top": null,
      "visibility": null,
      "width": null
     }
    },
    "5695d19b03c3453485fd376c6a396a8f": {
     "model_module": "@jupyter-widgets/base",
     "model_name": "LayoutModel",
     "state": {
      "_model_module": "@jupyter-widgets/base",
      "_model_module_version": "1.2.0",
      "_model_name": "LayoutModel",
      "_view_count": null,
      "_view_module": "@jupyter-widgets/base",
      "_view_module_version": "1.2.0",
      "_view_name": "LayoutView",
      "align_content": null,
      "align_items": null,
      "align_self": null,
      "border": null,
      "bottom": null,
      "display": null,
      "flex": null,
      "flex_flow": null,
      "grid_area": null,
      "grid_auto_columns": null,
      "grid_auto_flow": null,
      "grid_auto_rows": null,
      "grid_column": null,
      "grid_gap": null,
      "grid_row": null,
      "grid_template_areas": null,
      "grid_template_columns": null,
      "grid_template_rows": null,
      "height": null,
      "justify_content": null,
      "justify_items": null,
      "left": null,
      "margin": null,
      "max_height": null,
      "max_width": null,
      "min_height": null,
      "min_width": null,
      "object_fit": null,
      "object_position": null,
      "order": null,
      "overflow": null,
      "overflow_x": null,
      "overflow_y": null,
      "padding": null,
      "right": null,
      "top": null,
      "visibility": null,
      "width": null
     }
    },
    "65ff9d0068e842b99450b47f9caf2962": {
     "model_module": "@jupyter-widgets/controls",
     "model_name": "HBoxModel",
     "state": {
      "_dom_classes": [],
      "_model_module": "@jupyter-widgets/controls",
      "_model_module_version": "1.5.0",
      "_model_name": "HBoxModel",
      "_view_count": null,
      "_view_module": "@jupyter-widgets/controls",
      "_view_module_version": "1.5.0",
      "_view_name": "HBoxView",
      "box_style": "",
      "children": [
       "IPY_MODEL_48aecc6e0994466eb58ca20a51d0bff0",
       "IPY_MODEL_d59605b96a4b4eb4a9a09ec7c8cfb29d"
      ],
      "layout": "IPY_MODEL_5695d19b03c3453485fd376c6a396a8f"
     }
    },
    "cdfa6889ca3a405baf3cad0015a42bd3": {
     "model_module": "@jupyter-widgets/controls",
     "model_name": "DescriptionStyleModel",
     "state": {
      "_model_module": "@jupyter-widgets/controls",
      "_model_module_version": "1.5.0",
      "_model_name": "DescriptionStyleModel",
      "_view_count": null,
      "_view_module": "@jupyter-widgets/base",
      "_view_module_version": "1.2.0",
      "_view_name": "StyleView",
      "description_width": ""
     }
    },
    "d59605b96a4b4eb4a9a09ec7c8cfb29d": {
     "model_module": "@jupyter-widgets/controls",
     "model_name": "HTMLModel",
     "state": {
      "_dom_classes": [],
      "_model_module": "@jupyter-widgets/controls",
      "_model_module_version": "1.5.0",
      "_model_name": "HTMLModel",
      "_view_count": null,
      "_view_module": "@jupyter-widgets/controls",
      "_view_module_version": "1.5.0",
      "_view_name": "HTMLView",
      "description": "",
      "description_tooltip": null,
      "layout": "IPY_MODEL_4bbddb9b608b4e62941b64abdabc0d34",
      "placeholder": "​",
      "style": "IPY_MODEL_cdfa6889ca3a405baf3cad0015a42bd3",
      "value": " 4616/4616 [00:55&lt;00:00, 83.86it/s]"
     }
    }
   }
  }
 },
 "nbformat": 4,
 "nbformat_minor": 1
}
